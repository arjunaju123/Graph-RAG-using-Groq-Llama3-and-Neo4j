{
  "nbformat": 4,
  "nbformat_minor": 0,
  "metadata": {
    "colab": {
      "provenance": [],
      "gpuType": "T4",
      "authorship_tag": "ABX9TyNptoWZeukbH2Z+7+8Ds3CD",
      "include_colab_link": true
    },
    "kernelspec": {
      "name": "python3",
      "display_name": "Python 3"
    },
    "language_info": {
      "name": "python"
    },
    "accelerator": "GPU",
    "widgets": {
      "application/vnd.jupyter.widget-state+json": {
        "b2eccf7283cf42378d1ee76b33c2a325": {
          "model_module": "yfiles-jupyter-graphs",
          "model_name": "GraphModel",
          "model_module_version": "^1.7.3",
          "state": {
            "_context_pane_mapping": [
              {
                "id": "Neighborhood",
                "title": "Neighborhood"
              },
              {
                "id": "Data",
                "title": "Data"
              },
              {
                "id": "Search",
                "title": "Search"
              },
              {
                "id": "About",
                "title": "About"
              }
            ],
            "_data_importer": "neo4j",
            "_directed": true,
            "_dom_classes": [],
            "_edges": [
              {
                "id": 1152922604118474800,
                "start": 1,
                "end": 2,
                "properties": {
                  "label": "PARENT"
                },
                "label": "PARENT",
                "color": "#607D8B",
                "thickness_factor": 1,
                "directed": true
              },
              {
                "id": 1155174403932160000,
                "start": 1,
                "end": 3,
                "properties": {
                  "label": "PARENT"
                },
                "label": "PARENT",
                "color": "#607D8B",
                "thickness_factor": 1,
                "directed": true
              },
              {
                "id": 1152923703630102500,
                "start": 1,
                "end": 11,
                "properties": {
                  "label": "MONARCH"
                },
                "label": "MONARCH",
                "color": "#673AB7",
                "thickness_factor": 1,
                "directed": true
              },
              {
                "id": 1155175503443787800,
                "start": 1,
                "end": 12,
                "properties": {
                  "label": "MONARCH"
                },
                "label": "MONARCH",
                "color": "#673AB7",
                "thickness_factor": 1,
                "directed": true
              },
              {
                "id": 1152923703630102500,
                "start": 4,
                "end": 11,
                "properties": {
                  "label": "MONARCH"
                },
                "label": "MONARCH",
                "color": "#673AB7",
                "thickness_factor": 1,
                "directed": true
              },
              {
                "id": 1152923703630102500,
                "start": 5,
                "end": 11,
                "properties": {
                  "label": "MONARCH"
                },
                "label": "MONARCH",
                "color": "#673AB7",
                "thickness_factor": 1,
                "directed": true
              },
              {
                "id": 1152923703630102500,
                "start": 6,
                "end": 11,
                "properties": {
                  "label": "MONARCH"
                },
                "label": "MONARCH",
                "color": "#673AB7",
                "thickness_factor": 1,
                "directed": true
              },
              {
                "id": 1152924803141730300,
                "start": 7,
                "end": 1,
                "properties": {
                  "label": "ADVISER"
                },
                "label": "ADVISER",
                "color": "#CDDC39",
                "thickness_factor": 1,
                "directed": true
              },
              {
                "id": 1152923703630102500,
                "start": 8,
                "end": 13,
                "properties": {
                  "label": "MONARCH"
                },
                "label": "MONARCH",
                "color": "#673AB7",
                "thickness_factor": 1,
                "directed": true
              },
              {
                "id": 1152923703630102500,
                "start": 9,
                "end": 13,
                "properties": {
                  "label": "MONARCH"
                },
                "label": "MONARCH",
                "color": "#673AB7",
                "thickness_factor": 1,
                "directed": true
              },
              {
                "id": 1152925902653358000,
                "start": 10,
                "end": 1,
                "properties": {
                  "label": "MINISTER"
                },
                "label": "MINISTER",
                "color": "#9E9E9E",
                "thickness_factor": 1,
                "directed": true
              },
              {
                "id": 1155174403932160000,
                "start": 18,
                "end": 3,
                "properties": {
                  "label": "PARENT"
                },
                "label": "PARENT",
                "color": "#607D8B",
                "thickness_factor": 1,
                "directed": true
              },
              {
                "id": 1152922604118474800,
                "start": 18,
                "end": 19,
                "properties": {
                  "label": "PARENT"
                },
                "label": "PARENT",
                "color": "#607D8B",
                "thickness_factor": 1,
                "directed": true
              },
              {
                "id": 1152923703630102500,
                "start": 18,
                "end": 11,
                "properties": {
                  "label": "MONARCH"
                },
                "label": "MONARCH",
                "color": "#673AB7",
                "thickness_factor": 1,
                "directed": true
              },
              {
                "id": 1152933599234752500,
                "start": 18,
                "end": 40,
                "properties": {
                  "label": "DAUGHTER"
                },
                "label": "DAUGHTER",
                "color": "#9C27B0",
                "thickness_factor": 1,
                "directed": true
              },
              {
                "id": 1155185399048437800,
                "start": 18,
                "end": 41,
                "properties": {
                  "label": "DAUGHTER"
                },
                "label": "DAUGHTER",
                "color": "#9C27B0",
                "thickness_factor": 1,
                "directed": true
              },
              {
                "id": 6917541122268987000,
                "start": 18,
                "end": 53,
                "properties": {
                  "label": "DAUGHTER"
                },
                "label": "DAUGHTER",
                "color": "#9C27B0",
                "thickness_factor": 1,
                "directed": true
              },
              {
                "id": 1152934698746380300,
                "start": 18,
                "end": 42,
                "properties": {
                  "label": "SISTER"
                },
                "label": "SISTER",
                "color": "#2196F3",
                "thickness_factor": 1,
                "directed": true
              },
              {
                "id": 1152935798258008000,
                "start": 18,
                "end": 43,
                "properties": {
                  "label": "COUSIN"
                },
                "label": "COUSIN",
                "color": "#4CAF50",
                "thickness_factor": 1,
                "directed": true
              },
              {
                "id": 1155187598071693300,
                "start": 18,
                "end": 44,
                "properties": {
                  "label": "COUSIN"
                },
                "label": "COUSIN",
                "color": "#4CAF50",
                "thickness_factor": 1,
                "directed": true
              },
              {
                "id": 1152936897769635800,
                "start": 18,
                "end": 45,
                "properties": {
                  "label": "NEPHEW"
                },
                "label": "NEPHEW",
                "color": "#F44336",
                "thickness_factor": 1,
                "directed": true
              },
              {
                "id": 1155188697583321000,
                "start": 18,
                "end": 46,
                "properties": {
                  "label": "NEPHEW"
                },
                "label": "NEPHEW",
                "color": "#F44336",
                "thickness_factor": 1,
                "directed": true
              },
              {
                "id": 1152937997281263600,
                "start": 18,
                "end": 47,
                "properties": {
                  "label": "PATRON"
                },
                "label": "PATRON",
                "color": "#607D8B",
                "thickness_factor": 1,
                "directed": true
              },
              {
                "id": 1155189797094948900,
                "start": 18,
                "end": 48,
                "properties": {
                  "label": "PATRON"
                },
                "label": "PATRON",
                "color": "#607D8B",
                "thickness_factor": 1,
                "directed": true
              },
              {
                "id": 1157441596908634000,
                "start": 18,
                "end": 49,
                "properties": {
                  "label": "PATRON"
                },
                "label": "PATRON",
                "color": "#607D8B",
                "thickness_factor": 1,
                "directed": true
              },
              {
                "id": 1152939096792891400,
                "start": 18,
                "end": 50,
                "properties": {
                  "label": "DIPLOMAT"
                },
                "label": "DIPLOMAT",
                "color": "#673AB7",
                "thickness_factor": 1,
                "directed": true
              },
              {
                "id": 1152940196304519200,
                "start": 18,
                "end": 51,
                "properties": {
                  "label": "ENEMY"
                },
                "label": "ENEMY",
                "color": "#CDDC39",
                "thickness_factor": 1,
                "directed": true
              },
              {
                "id": 1152927002164985900,
                "start": 27,
                "end": 2,
                "properties": {
                  "label": "FATHER"
                },
                "label": "FATHER",
                "color": "#9E9E9E",
                "thickness_factor": 1,
                "directed": true
              },
              {
                "id": 1152928101676613600,
                "start": 27,
                "end": 28,
                "properties": {
                  "label": "OFFICIAL_LIMNER"
                },
                "label": "OFFICIAL_LIMNER",
                "color": "#9C27B0",
                "thickness_factor": 1,
                "directed": true
              },
              {
                "id": 1152929201188241400,
                "start": 27,
                "end": 29,
                "properties": {
                  "label": "SERJEANT_PAINTER"
                },
                "label": "SERJEANT_PAINTER",
                "color": "#2196F3",
                "thickness_factor": 1,
                "directed": true
              },
              {
                "id": 1152930300699869200,
                "start": 35,
                "end": 2,
                "properties": {
                  "label": "COURT_ARTIST"
                },
                "label": "COURT_ARTIST",
                "color": "#4CAF50",
                "thickness_factor": 1,
                "directed": true
              },
              {
                "id": 1152931400211497000,
                "start": 35,
                "end": 11,
                "properties": {
                  "label": "VISITED"
                },
                "label": "VISITED",
                "color": "#F44336",
                "thickness_factor": 1,
                "directed": true
              },
              {
                "id": 1152932499723124700,
                "start": 36,
                "end": 37,
                "properties": {
                  "label": "PAINTED"
                },
                "label": "PAINTED",
                "color": "#607D8B",
                "thickness_factor": 1,
                "directed": true
              },
              {
                "id": 1152933599234752500,
                "start": 44,
                "end": 40,
                "properties": {
                  "label": "DAUGHTER"
                },
                "label": "DAUGHTER",
                "color": "#9C27B0",
                "thickness_factor": 1,
                "directed": true
              },
              {
                "id": 1155185399048437800,
                "start": 53,
                "end": 54,
                "properties": {
                  "label": "DAUGHTER"
                },
                "label": "DAUGHTER",
                "color": "#9C27B0",
                "thickness_factor": 1,
                "directed": true
              },
              {
                "id": 1152941295816147000,
                "start": 55,
                "end": 40,
                "properties": {
                  "label": "SON"
                },
                "label": "SON",
                "color": "#673AB7",
                "thickness_factor": 1,
                "directed": true
              },
              {
                "id": 1152942395327774700,
                "start": 56,
                "end": 40,
                "properties": {
                  "label": "WIFE"
                },
                "label": "WIFE",
                "color": "#CDDC39",
                "thickness_factor": 1,
                "directed": true
              }
            ],
            "_graph_layout": {},
            "_highlight": [],
            "_license": {},
            "_model_module": "yfiles-jupyter-graphs",
            "_model_module_version": "^1.7.3",
            "_model_name": "GraphModel",
            "_neighborhood": {},
            "_nodes": [
              {
                "id": 1,
                "properties": {
                  "id": "Elizabeth I",
                  "label": "__Entity__:Person"
                },
                "color": "#2196F3",
                "styles": {},
                "label": "Elizabeth I",
                "scale_factor": 1,
                "type": "#2196F3",
                "size": [
                  55,
                  55
                ],
                "position": [
                  0,
                  0
                ]
              },
              {
                "id": 2,
                "properties": {
                  "id": "Henry Viii",
                  "label": "__Entity__:Person"
                },
                "color": "#2196F3",
                "styles": {},
                "label": "Henry Viii",
                "scale_factor": 1,
                "type": "#2196F3",
                "size": [
                  55,
                  55
                ],
                "position": [
                  0,
                  0
                ]
              },
              {
                "id": 3,
                "properties": {
                  "id": "Anne Boleyn",
                  "label": "__Entity__:Person"
                },
                "color": "#2196F3",
                "styles": {},
                "label": "Anne Boleyn",
                "scale_factor": 1,
                "type": "#2196F3",
                "size": [
                  55,
                  55
                ],
                "position": [
                  0,
                  0
                ]
              },
              {
                "id": 11,
                "properties": {
                  "id": "England",
                  "label": "Country:__Entity__:Location"
                },
                "color": "#4CAF50",
                "styles": {},
                "label": "England",
                "scale_factor": 1,
                "type": "#4CAF50",
                "size": [
                  55,
                  55
                ],
                "position": [
                  0,
                  0
                ]
              },
              {
                "id": 12,
                "properties": {
                  "id": "Ireland",
                  "label": "Country:__Entity__:Location"
                },
                "color": "#4CAF50",
                "styles": {},
                "label": "Ireland",
                "scale_factor": 1,
                "type": "#4CAF50",
                "size": [
                  55,
                  55
                ],
                "position": [
                  0,
                  0
                ]
              },
              {
                "id": 4,
                "properties": {
                  "id": "Edward Vi",
                  "label": "__Entity__:Person"
                },
                "color": "#2196F3",
                "styles": {},
                "label": "Edward Vi",
                "scale_factor": 1,
                "type": "#2196F3",
                "size": [
                  55,
                  55
                ],
                "position": [
                  0,
                  0
                ]
              },
              {
                "id": 5,
                "properties": {
                  "id": "Lady Jane Grey",
                  "label": "__Entity__:Person"
                },
                "color": "#2196F3",
                "styles": {},
                "label": "Lady Jane Grey",
                "scale_factor": 1,
                "type": "#2196F3",
                "size": [
                  55,
                  55
                ],
                "position": [
                  0,
                  0
                ]
              },
              {
                "id": 6,
                "properties": {
                  "id": "Mary",
                  "label": "__Entity__:Person"
                },
                "color": "#2196F3",
                "styles": {},
                "label": "Mary",
                "scale_factor": 1,
                "type": "#2196F3",
                "size": [
                  55,
                  55
                ],
                "position": [
                  0,
                  0
                ]
              },
              {
                "id": 7,
                "properties": {
                  "id": "William Cecil",
                  "label": "__Entity__:Person"
                },
                "color": "#2196F3",
                "styles": {},
                "label": "William Cecil",
                "scale_factor": 1,
                "type": "#2196F3",
                "size": [
                  55,
                  55
                ],
                "position": [
                  0,
                  0
                ]
              },
              {
                "id": 8,
                "properties": {
                  "id": "James Vi Of Scotland",
                  "label": "__Entity__:Person"
                },
                "color": "#2196F3",
                "styles": {},
                "label": "James Vi Of Scotland",
                "scale_factor": 1,
                "type": "#2196F3",
                "size": [
                  55,
                  55
                ],
                "position": [
                  0,
                  0
                ]
              },
              {
                "id": 13,
                "properties": {
                  "id": "Scotland",
                  "label": "__Entity__:Location"
                },
                "color": "#F44336",
                "styles": {},
                "label": "Scotland",
                "scale_factor": 1,
                "type": "#F44336",
                "size": [
                  55,
                  55
                ],
                "position": [
                  0,
                  0
                ]
              },
              {
                "id": 9,
                "properties": {
                  "id": "Mary, Queen Of Scots",
                  "label": "__Entity__:Person"
                },
                "color": "#2196F3",
                "styles": {},
                "label": "Mary, Queen Of Scots",
                "scale_factor": 1,
                "type": "#2196F3",
                "size": [
                  55,
                  55
                ],
                "position": [
                  0,
                  0
                ]
              },
              {
                "id": 10,
                "properties": {
                  "id": "Sir Francis Walsingham",
                  "label": "__Entity__:Person"
                },
                "color": "#2196F3",
                "styles": {},
                "label": "Sir Francis Walsingham",
                "scale_factor": 1,
                "type": "#2196F3",
                "size": [
                  55,
                  55
                ],
                "position": [
                  0,
                  0
                ]
              },
              {
                "id": 18,
                "properties": {
                  "id": "Elizabeth",
                  "label": "__Entity__:Person"
                },
                "color": "#2196F3",
                "styles": {},
                "label": "Elizabeth",
                "scale_factor": 1,
                "type": "#2196F3",
                "size": [
                  55,
                  55
                ],
                "position": [
                  0,
                  0
                ]
              },
              {
                "id": 19,
                "properties": {
                  "id": "Henry Viii Of England",
                  "label": "__Entity__:Person"
                },
                "color": "#2196F3",
                "styles": {},
                "label": "Henry Viii Of England",
                "scale_factor": 1,
                "type": "#2196F3",
                "size": [
                  55,
                  55
                ],
                "position": [
                  0,
                  0
                ]
              },
              {
                "id": 40,
                "properties": {
                  "id": "Peter The Great",
                  "label": "__Entity__:Person"
                },
                "color": "#2196F3",
                "styles": {},
                "label": "Peter The Great",
                "scale_factor": 1,
                "type": "#2196F3",
                "size": [
                  55,
                  55
                ],
                "position": [
                  0,
                  0
                ]
              },
              {
                "id": 41,
                "properties": {
                  "id": "Catherine I Of Russia",
                  "label": "__Entity__:Person"
                },
                "color": "#2196F3",
                "styles": {},
                "label": "Catherine I Of Russia",
                "scale_factor": 1,
                "type": "#2196F3",
                "size": [
                  55,
                  55
                ],
                "position": [
                  0,
                  0
                ]
              },
              {
                "id": 53,
                "properties": {
                  "id": "Catherine",
                  "label": "__Entity__:Person"
                },
                "color": "#2196F3",
                "styles": {},
                "label": "Catherine",
                "scale_factor": 1,
                "type": "#2196F3",
                "size": [
                  55,
                  55
                ],
                "position": [
                  0,
                  0
                ]
              },
              {
                "id": 42,
                "properties": {
                  "id": "Alexei",
                  "label": "__Entity__:Person"
                },
                "color": "#2196F3",
                "styles": {},
                "label": "Alexei",
                "scale_factor": 1,
                "type": "#2196F3",
                "size": [
                  55,
                  55
                ],
                "position": [
                  0,
                  0
                ]
              },
              {
                "id": 43,
                "properties": {
                  "id": "Peter Ii",
                  "label": "__Entity__:Person"
                },
                "color": "#2196F3",
                "styles": {},
                "label": "Peter Ii",
                "scale_factor": 1,
                "type": "#2196F3",
                "size": [
                  55,
                  55
                ],
                "position": [
                  0,
                  0
                ]
              },
              {
                "id": 44,
                "properties": {
                  "id": "Anna",
                  "label": "__Entity__:Person"
                },
                "color": "#2196F3",
                "styles": {},
                "label": "Anna",
                "scale_factor": 1,
                "type": "#2196F3",
                "size": [
                  55,
                  55
                ],
                "position": [
                  0,
                  0
                ]
              },
              {
                "id": 45,
                "properties": {
                  "id": "Ivan Vi",
                  "label": "__Entity__:Person"
                },
                "color": "#2196F3",
                "styles": {},
                "label": "Ivan Vi",
                "scale_factor": 1,
                "type": "#2196F3",
                "size": [
                  55,
                  55
                ],
                "position": [
                  0,
                  0
                ]
              },
              {
                "id": 46,
                "properties": {
                  "id": "Peter Iii",
                  "label": "__Entity__:Person"
                },
                "color": "#2196F3",
                "styles": {},
                "label": "Peter Iii",
                "scale_factor": 1,
                "type": "#2196F3",
                "size": [
                  55,
                  55
                ],
                "position": [
                  0,
                  0
                ]
              },
              {
                "id": 47,
                "properties": {
                  "id": "Mikhail Lomonosov",
                  "label": "__Entity__:Person"
                },
                "color": "#2196F3",
                "styles": {},
                "label": "Mikhail Lomonosov",
                "scale_factor": 1,
                "type": "#2196F3",
                "size": [
                  55,
                  55
                ],
                "position": [
                  0,
                  0
                ]
              },
              {
                "id": 48,
                "properties": {
                  "id": "Ivan Shuvalov",
                  "label": "__Entity__:Person"
                },
                "color": "#2196F3",
                "styles": {},
                "label": "Ivan Shuvalov",
                "scale_factor": 1,
                "type": "#2196F3",
                "size": [
                  55,
                  55
                ],
                "position": [
                  0,
                  0
                ]
              },
              {
                "id": 49,
                "properties": {
                  "id": "Bartolomeo Rastrelli",
                  "label": "__Entity__:Person"
                },
                "color": "#2196F3",
                "styles": {},
                "label": "Bartolomeo Rastrelli",
                "scale_factor": 1,
                "type": "#2196F3",
                "size": [
                  55,
                  55
                ],
                "position": [
                  0,
                  0
                ]
              },
              {
                "id": 50,
                "properties": {
                  "id": "Aleksey Bestuzhev-Ryumin",
                  "label": "__Entity__:Person"
                },
                "color": "#2196F3",
                "styles": {},
                "label": "Aleksey Bestuzhev-Ryumin",
                "scale_factor": 1,
                "type": "#2196F3",
                "size": [
                  55,
                  55
                ],
                "position": [
                  0,
                  0
                ]
              },
              {
                "id": 51,
                "properties": {
                  "id": "Frederick The Great",
                  "label": "__Entity__:Person"
                },
                "color": "#2196F3",
                "styles": {},
                "label": "Frederick The Great",
                "scale_factor": 1,
                "type": "#2196F3",
                "size": [
                  55,
                  55
                ],
                "position": [
                  0,
                  0
                ]
              },
              {
                "id": 27,
                "properties": {
                  "id": "Queen Elizabeth I",
                  "label": "__Entity__:Person"
                },
                "color": "#2196F3",
                "styles": {},
                "label": "Queen Elizabeth I",
                "scale_factor": 1,
                "type": "#2196F3",
                "size": [
                  55,
                  55
                ],
                "position": [
                  0,
                  0
                ]
              },
              {
                "id": 28,
                "properties": {
                  "id": "Nicholas Hilliard",
                  "label": "__Entity__:Person"
                },
                "color": "#2196F3",
                "styles": {},
                "label": "Nicholas Hilliard",
                "scale_factor": 1,
                "type": "#2196F3",
                "size": [
                  55,
                  55
                ],
                "position": [
                  0,
                  0
                ]
              },
              {
                "id": 29,
                "properties": {
                  "id": "George Gower",
                  "label": "__Entity__:Person"
                },
                "color": "#2196F3",
                "styles": {},
                "label": "George Gower",
                "scale_factor": 1,
                "type": "#2196F3",
                "size": [
                  55,
                  55
                ],
                "position": [
                  0,
                  0
                ]
              },
              {
                "id": 35,
                "properties": {
                  "id": "Hans Holbein The Younger",
                  "label": "__Entity__:Person"
                },
                "color": "#2196F3",
                "styles": {},
                "label": "Hans Holbein The Younger",
                "scale_factor": 1,
                "type": "#2196F3",
                "size": [
                  55,
                  55
                ],
                "position": [
                  0,
                  0
                ]
              },
              {
                "id": 36,
                "properties": {
                  "id": "Titian",
                  "label": "__Entity__:Person"
                },
                "color": "#2196F3",
                "styles": {},
                "label": "Titian",
                "scale_factor": 1,
                "type": "#2196F3",
                "size": [
                  55,
                  55
                ],
                "position": [
                  0,
                  0
                ]
              },
              {
                "id": 37,
                "properties": {
                  "id": "Philip Ii Of Spain",
                  "label": "__Entity__:Person"
                },
                "color": "#2196F3",
                "styles": {},
                "label": "Philip Ii Of Spain",
                "scale_factor": 1,
                "type": "#2196F3",
                "size": [
                  55,
                  55
                ],
                "position": [
                  0,
                  0
                ]
              },
              {
                "id": 54,
                "properties": {
                  "id": "Samuel Skowroński",
                  "label": "__Entity__:Person"
                },
                "color": "#2196F3",
                "styles": {},
                "label": "Samuel Skowroński",
                "scale_factor": 1,
                "type": "#2196F3",
                "size": [
                  55,
                  55
                ],
                "position": [
                  0,
                  0
                ]
              },
              {
                "id": 55,
                "properties": {
                  "id": "Alexei Petrovich",
                  "label": "__Entity__:Person"
                },
                "color": "#2196F3",
                "styles": {},
                "label": "Alexei Petrovich",
                "scale_factor": 1,
                "type": "#2196F3",
                "size": [
                  55,
                  55
                ],
                "position": [
                  0,
                  0
                ]
              },
              {
                "id": 56,
                "properties": {
                  "id": "Eudoxia Lopukhina",
                  "label": "__Entity__:Person"
                },
                "color": "#2196F3",
                "styles": {},
                "label": "Eudoxia Lopukhina",
                "scale_factor": 1,
                "type": "#2196F3",
                "size": [
                  55,
                  55
                ],
                "position": [
                  0,
                  0
                ]
              }
            ],
            "_overview": {
              "enabled": null,
              "overview_set": false
            },
            "_selected_graph": [
              [],
              []
            ],
            "_sidebar": {
              "enabled": true,
              "start_with": ""
            },
            "_view_count": null,
            "_view_module": "yfiles-jupyter-graphs",
            "_view_module_version": "^1.7.3",
            "_view_name": "GraphView",
            "layout": "IPY_MODEL_f2515747254948daa45d064a909f98c2",
            "tabbable": null,
            "tooltip": null
          }
        },
        "f2515747254948daa45d064a909f98c2": {
          "model_module": "@jupyter-widgets/base",
          "model_name": "LayoutModel",
          "model_module_version": "2.0.0",
          "state": {
            "_model_module": "@jupyter-widgets/base",
            "_model_module_version": "2.0.0",
            "_model_name": "LayoutModel",
            "_view_count": null,
            "_view_module": "@jupyter-widgets/base",
            "_view_module_version": "2.0.0",
            "_view_name": "LayoutView",
            "align_content": null,
            "align_items": null,
            "align_self": null,
            "border_bottom": null,
            "border_left": null,
            "border_right": null,
            "border_top": null,
            "bottom": null,
            "display": null,
            "flex": null,
            "flex_flow": null,
            "grid_area": null,
            "grid_auto_columns": null,
            "grid_auto_flow": null,
            "grid_auto_rows": null,
            "grid_column": null,
            "grid_gap": null,
            "grid_row": null,
            "grid_template_areas": null,
            "grid_template_columns": null,
            "grid_template_rows": null,
            "height": "800px",
            "justify_content": null,
            "justify_items": null,
            "left": null,
            "margin": null,
            "max_height": null,
            "max_width": null,
            "min_height": null,
            "min_width": null,
            "object_fit": null,
            "object_position": null,
            "order": null,
            "overflow": null,
            "padding": null,
            "right": null,
            "top": null,
            "visibility": null,
            "width": "100%"
          }
        },
        "4100e8a6aed7453d920884ddd09e9965": {
          "model_module": "@jupyter-widgets/base",
          "model_name": "LayoutModel",
          "model_module_version": "2.0.0",
          "state": {
            "_model_module": "@jupyter-widgets/base",
            "_model_module_version": "2.0.0",
            "_model_name": "LayoutModel",
            "_view_count": null,
            "_view_module": "@jupyter-widgets/base",
            "_view_module_version": "2.0.0",
            "_view_name": "LayoutView",
            "align_content": null,
            "align_items": null,
            "align_self": null,
            "border_bottom": null,
            "border_left": null,
            "border_right": null,
            "border_top": null,
            "bottom": null,
            "display": null,
            "flex": null,
            "flex_flow": null,
            "grid_area": null,
            "grid_auto_columns": null,
            "grid_auto_flow": null,
            "grid_auto_rows": null,
            "grid_column": null,
            "grid_gap": null,
            "grid_row": null,
            "grid_template_areas": null,
            "grid_template_columns": null,
            "grid_template_rows": null,
            "height": "800px",
            "justify_content": null,
            "justify_items": null,
            "left": null,
            "margin": null,
            "max_height": null,
            "max_width": null,
            "min_height": null,
            "min_width": null,
            "object_fit": null,
            "object_position": null,
            "order": null,
            "overflow": null,
            "padding": null,
            "right": null,
            "top": null,
            "visibility": null,
            "width": "100%"
          }
        }
      }
    }
  },
  "cells": [
    {
      "cell_type": "markdown",
      "metadata": {
        "id": "view-in-github",
        "colab_type": "text"
      },
      "source": [
        "<a href=\"https://colab.research.google.com/github/arjunaju123/Graph-RAG-using-Groq-Llama3-and-Neo4j/blob/master/Graph_RAG_using_Groq_Llama3_and_Neo4j.ipynb\" target=\"_parent\"><img src=\"https://colab.research.google.com/assets/colab-badge.svg\" alt=\"Open In Colab\"/></a>"
      ]
    },
    {
      "cell_type": "markdown",
      "source": [
        "## Realtime Powerful RAG Pipeline using Neo4j(Knowledge Graph Db) ,Langchain, Groq-Llama3"
      ],
      "metadata": {
        "id": "PmrF0la8T6UC"
      }
    },
    {
      "cell_type": "markdown",
      "source": [
        "The use of retrieval-augmented generation (RAG) to retrieve relevant information from an external knowledge source enables large language models (LLMs) to answer questions over private and/or previously unseen document collections. However, RAG fails on global questions directed at an entire text corpus, such as “What are the main themes in the dataset?”, since this is inherently a queryfocused summarization (QFS) task, rather than an explicit retrieval task. Prior QFS methods, meanwhile, fail to scale to the quantities of text indexed by typical RAGsystems. Tocombine the strengths of these contrasting methods, we propose a Graph RAGapproach to question answering over private text corpora that scales with both the generality of user questions and the quantity of source text to be indexed. Our approach uses an LLM to build a graph-based text index in two stages: f irst to derive an entity knowledge graph from the source documents, then to pregenerate community summaries for all groups of closely-related entities. Given a question, each community summary is used to generate a partial response, before all partial responses are again summarized in a final response to the user. For a class of global sensemaking questions over datasets in the 1 million token range, we show that Graph RAG leads to substantial improvements over a na¨ ıve RAG baseline for both the comprehensiveness and diversity of generated answers."
      ],
      "metadata": {
        "id": "VxxLjs704Uem"
      }
    },
    {
      "cell_type": "markdown",
      "source": [
        "# https://arxiv.org/abs/2404.16130"
      ],
      "metadata": {
        "id": "Ky3Ubzt99WzK"
      }
    },
    {
      "cell_type": "markdown",
      "source": [
        "# https://docs.google.com/document/d/1vpKUtWJtc03G460u3c6OtTUTtadAUGtX6B94BahN57M/edit"
      ],
      "metadata": {
        "id": "xpZQ1vPJFR36"
      }
    },
    {
      "cell_type": "code",
      "execution_count": 1,
      "metadata": {
        "colab": {
          "base_uri": "https://localhost:8080/"
        },
        "id": "mc0fDqZe4Hg-",
        "outputId": "66c15607-357e-4cbb-b68d-6c9d8bcf2d43"
      },
      "outputs": [
        {
          "output_type": "stream",
          "name": "stdout",
          "text": [
            "\u001b[2K     \u001b[90m━━━━━━━━━━━━━━━━━━━━━━━━━━━━━━━━━━━━━━━━\u001b[0m \u001b[32m990.0/990.0 kB\u001b[0m \u001b[31m11.2 MB/s\u001b[0m eta \u001b[36m0:00:00\u001b[0m\n",
            "\u001b[2K     \u001b[90m━━━━━━━━━━━━━━━━━━━━━━━━━━━━━━━━━━━━━━━━\u001b[0m \u001b[32m2.3/2.3 MB\u001b[0m \u001b[31m59.1 MB/s\u001b[0m eta \u001b[36m0:00:00\u001b[0m\n",
            "\u001b[2K     \u001b[90m━━━━━━━━━━━━━━━━━━━━━━━━━━━━━━━━━━━━━━━━\u001b[0m \u001b[32m46.7/46.7 kB\u001b[0m \u001b[31m4.7 MB/s\u001b[0m eta \u001b[36m0:00:00\u001b[0m\n",
            "\u001b[2K     \u001b[90m━━━━━━━━━━━━━━━━━━━━━━━━━━━━━━━━━━━━━━━━\u001b[0m \u001b[32m202.7/202.7 kB\u001b[0m \u001b[31m21.8 MB/s\u001b[0m eta \u001b[36m0:00:00\u001b[0m\n",
            "\u001b[2K     \u001b[90m━━━━━━━━━━━━━━━━━━━━━━━━━━━━━━━━━━━━━━━━\u001b[0m \u001b[32m293.5/293.5 kB\u001b[0m \u001b[31m25.0 MB/s\u001b[0m eta \u001b[36m0:00:00\u001b[0m\n",
            "\u001b[?25h  Preparing metadata (setup.py) ... \u001b[?25l\u001b[?25hdone\n",
            "\u001b[2K     \u001b[90m━━━━━━━━━━━━━━━━━━━━━━━━━━━━━━━━━━━━━━━━\u001b[0m \u001b[32m1.1/1.1 MB\u001b[0m \u001b[31m54.8 MB/s\u001b[0m eta \u001b[36m0:00:00\u001b[0m\n",
            "\u001b[2K     \u001b[90m━━━━━━━━━━━━━━━━━━━━━━━━━━━━━━━━━━━━━━━━\u001b[0m \u001b[32m15.5/15.5 MB\u001b[0m \u001b[31m53.8 MB/s\u001b[0m eta \u001b[36m0:00:00\u001b[0m\n",
            "\u001b[2K     \u001b[90m━━━━━━━━━━━━━━━━━━━━━━━━━━━━━━━━━━━━━━━━\u001b[0m \u001b[32m373.5/373.5 kB\u001b[0m \u001b[31m29.6 MB/s\u001b[0m eta \u001b[36m0:00:00\u001b[0m\n",
            "\u001b[2K     \u001b[90m━━━━━━━━━━━━━━━━━━━━━━━━━━━━━━━━━━━━━━━━\u001b[0m \u001b[32m139.8/139.8 kB\u001b[0m \u001b[31m11.6 MB/s\u001b[0m eta \u001b[36m0:00:00\u001b[0m\n",
            "\u001b[2K     \u001b[90m━━━━━━━━━━━━━━━━━━━━━━━━━━━━━━━━━━━━━━━━\u001b[0m \u001b[32m328.8/328.8 kB\u001b[0m \u001b[31m29.0 MB/s\u001b[0m eta \u001b[36m0:00:00\u001b[0m\n",
            "\u001b[2K     \u001b[90m━━━━━━━━━━━━━━━━━━━━━━━━━━━━━━━━━━━━━━━━\u001b[0m \u001b[32m139.4/139.4 kB\u001b[0m \u001b[31m13.9 MB/s\u001b[0m eta \u001b[36m0:00:00\u001b[0m\n",
            "\u001b[2K     \u001b[90m━━━━━━━━━━━━━━━━━━━━━━━━━━━━━━━━━━━━━━━━\u001b[0m \u001b[32m49.2/49.2 kB\u001b[0m \u001b[31m4.4 MB/s\u001b[0m eta \u001b[36m0:00:00\u001b[0m\n",
            "\u001b[2K     \u001b[90m━━━━━━━━━━━━━━━━━━━━━━━━━━━━━━━━━━━━━━━━\u001b[0m \u001b[32m2.3/2.3 MB\u001b[0m \u001b[31m24.6 MB/s\u001b[0m eta \u001b[36m0:00:00\u001b[0m\n",
            "\u001b[2K     \u001b[90m━━━━━━━━━━━━━━━━━━━━━━━━━━━━━━━━━━━━━━━━\u001b[0m \u001b[32m141.1/141.1 kB\u001b[0m \u001b[31m2.7 MB/s\u001b[0m eta \u001b[36m0:00:00\u001b[0m\n",
            "\u001b[2K     \u001b[90m━━━━━━━━━━━━━━━━━━━━━━━━━━━━━━━━━━━━━━━━\u001b[0m \u001b[32m75.6/75.6 kB\u001b[0m \u001b[31m12.8 MB/s\u001b[0m eta \u001b[36m0:00:00\u001b[0m\n",
            "\u001b[2K     \u001b[90m━━━━━━━━━━━━━━━━━━━━━━━━━━━━━━━━━━━━━━━━\u001b[0m \u001b[32m77.9/77.9 kB\u001b[0m \u001b[31m11.8 MB/s\u001b[0m eta \u001b[36m0:00:00\u001b[0m\n",
            "\u001b[2K     \u001b[90m━━━━━━━━━━━━━━━━━━━━━━━━━━━━━━━━━━━━━━━━\u001b[0m \u001b[32m58.3/58.3 kB\u001b[0m \u001b[31m9.0 MB/s\u001b[0m eta \u001b[36m0:00:00\u001b[0m\n",
            "\u001b[2K     \u001b[90m━━━━━━━━━━━━━━━━━━━━━━━━━━━━━━━━━━━━━━━━\u001b[0m \u001b[32m1.6/1.6 MB\u001b[0m \u001b[31m89.4 MB/s\u001b[0m eta \u001b[36m0:00:00\u001b[0m\n",
            "\u001b[?25h  Building wheel for wikipedia (setup.py) ... \u001b[?25l\u001b[?25hdone\n"
          ]
        }
      ],
      "source": [
        "%pip install --upgrade --quiet  langchain langchain-community langchain-openai langchain-experimental neo4j wikipedia tiktoken yfiles_jupyter_graphs\n"
      ]
    },
    {
      "cell_type": "code",
      "source": [
        "from langchain_core.runnables import (\n",
        "    RunnableBranch,\n",
        "    RunnableLambda,\n",
        "    RunnableParallel,\n",
        "    RunnablePassthrough,\n",
        ")"
      ],
      "metadata": {
        "id": "RjYUikEBDDS7"
      },
      "execution_count": 2,
      "outputs": []
    },
    {
      "cell_type": "code",
      "source": [
        "from langchain_core.prompts import ChatPromptTemplate\n",
        "from langchain_core.prompts.prompt import PromptTemplate"
      ],
      "metadata": {
        "id": "x2F-rdQrDDVg"
      },
      "execution_count": 3,
      "outputs": []
    },
    {
      "cell_type": "code",
      "source": [
        "from google.colab import userdata\n",
        "OPENAI_API_KEY=userdata.get('OPENAI_API_KEY')"
      ],
      "metadata": {
        "id": "05FSYCHxDDc2"
      },
      "execution_count": 4,
      "outputs": []
    },
    {
      "cell_type": "code",
      "source": [
        "from typing import Tuple, List, Optional"
      ],
      "metadata": {
        "id": "1rKwFqpbDTBY"
      },
      "execution_count": 5,
      "outputs": []
    },
    {
      "cell_type": "code",
      "source": [
        "from langchain_core.messages import AIMessage, HumanMessage\n",
        "from langchain_core.output_parsers import StrOutputParser"
      ],
      "metadata": {
        "id": "q7mjcFCYDWNa"
      },
      "execution_count": 6,
      "outputs": []
    },
    {
      "cell_type": "code",
      "source": [
        "from langchain_core.runnables import ConfigurableField"
      ],
      "metadata": {
        "id": "dl7bMfoJDap8"
      },
      "execution_count": 7,
      "outputs": []
    },
    {
      "cell_type": "code",
      "source": [
        "from yfiles_jupyter_graphs import GraphWidget\n",
        "from neo4j import GraphDatabase"
      ],
      "metadata": {
        "id": "0fB7Re8mDdpg"
      },
      "execution_count": 8,
      "outputs": []
    },
    {
      "cell_type": "code",
      "source": [
        "import os"
      ],
      "metadata": {
        "id": "b3N85TPdDfxU"
      },
      "execution_count": 9,
      "outputs": []
    },
    {
      "cell_type": "code",
      "source": [
        "\n",
        "try:\n",
        "  import google.colab\n",
        "  from google.colab import output\n",
        "  output.enable_custom_widget_manager()\n",
        "except:\n",
        "  pass\n",
        ""
      ],
      "metadata": {
        "id": "PGIqR_pwDiOh"
      },
      "execution_count": 10,
      "outputs": []
    },
    {
      "cell_type": "code",
      "source": [
        "from langchain_community.vectorstores import Neo4jVector"
      ],
      "metadata": {
        "id": "KbXBAMjdDkfK"
      },
      "execution_count": 11,
      "outputs": []
    },
    {
      "cell_type": "code",
      "source": [
        "NEO4J_URI='neo4j+s://b082fd26.databases.neo4j.io'\n",
        "NEO4J_USERNAME='neo4j'\n",
        "NEO4J_PASSWORD='bzuQFTxhM38FwzCIL2GMA-GOwA0RbqcMpeN-EOTabvM'\n",
        "# AURA_INSTANCEID=b082fd26\n",
        "# AURA_INSTANCENAME=Instance01"
      ],
      "metadata": {
        "id": "cZS-30nzDmz6"
      },
      "execution_count": 14,
      "outputs": []
    },
    {
      "cell_type": "code",
      "source": [
        "os.environ[\"OPENAI_API_KEY\"] = OPENAI_API_KEY\n",
        "os.environ[\"NEO4J_URI\"] = NEO4J_URI\n",
        "os.environ[\"NEO4J_USERNAME\"] = NEO4J_USERNAME\n",
        "os.environ[\"NEO4J_PASSWORD\"] = NEO4J_PASSWORD"
      ],
      "metadata": {
        "id": "n677JGjzDqAR"
      },
      "execution_count": 15,
      "outputs": []
    },
    {
      "cell_type": "code",
      "source": [
        "from langchain_community.graphs import Neo4jGraph"
      ],
      "metadata": {
        "id": "mbZlqlGtGFR_"
      },
      "execution_count": 16,
      "outputs": []
    },
    {
      "cell_type": "code",
      "source": [
        "graph = Neo4jGraph()"
      ],
      "metadata": {
        "id": "H87CzziDGFUa"
      },
      "execution_count": 18,
      "outputs": []
    },
    {
      "cell_type": "code",
      "source": [
        "from langchain.document_loaders import WikipediaLoader\n",
        "raw_documents = WikipediaLoader(query=\"Elizabeth I\").load()"
      ],
      "metadata": {
        "colab": {
          "base_uri": "https://localhost:8080/"
        },
        "id": "g-ZXEngeGFW9",
        "outputId": "3ae1f809-d373-467f-bd04-c9453e8b84cf"
      },
      "execution_count": 19,
      "outputs": [
        {
          "output_type": "stream",
          "name": "stderr",
          "text": [
            "/usr/local/lib/python3.10/dist-packages/wikipedia/wikipedia.py:389: GuessedAtParserWarning: No parser was explicitly specified, so I'm using the best available HTML parser for this system (\"lxml\"). This usually isn't a problem, but if you run this code on another system, or in a different virtual environment, it may use a different parser and behave differently.\n",
            "\n",
            "The code that caused this warning is on line 389 of the file /usr/local/lib/python3.10/dist-packages/wikipedia/wikipedia.py. To get rid of this warning, pass the additional argument 'features=\"lxml\"' to the BeautifulSoup constructor.\n",
            "\n",
            "  lis = BeautifulSoup(html).find_all('li')\n"
          ]
        }
      ]
    },
    {
      "cell_type": "code",
      "source": [
        "len(raw_documents)"
      ],
      "metadata": {
        "colab": {
          "base_uri": "https://localhost:8080/"
        },
        "id": "QB7de3rQGFZm",
        "outputId": "3c25adc1-215e-49f2-d99f-e21d895dde4d"
      },
      "execution_count": 20,
      "outputs": [
        {
          "output_type": "execute_result",
          "data": {
            "text/plain": [
              "23"
            ]
          },
          "metadata": {},
          "execution_count": 20
        }
      ]
    },
    {
      "cell_type": "code",
      "source": [
        "raw_documents[:3]"
      ],
      "metadata": {
        "colab": {
          "base_uri": "https://localhost:8080/"
        },
        "id": "6OccHdKGGFbl",
        "outputId": "538b3c85-4e0b-414b-8ba9-1c9929de4cdf"
      },
      "execution_count": 21,
      "outputs": [
        {
          "output_type": "execute_result",
          "data": {
            "text/plain": [
              "[Document(metadata={'title': 'Elizabeth I', 'summary': 'Elizabeth I (7 September 1533 – 24 March 1603) was Queen of England and Ireland from 17 November 1558 until her death in 1603. She was the last monarch of the House of Tudor.\\nElizabeth was the only surviving child of Henry VIII and his second wife, Anne Boleyn. When Elizabeth was two years old, her parents\\' marriage was annulled, her mother was executed, and Elizabeth was declared illegitimate. Henry restored her to the line of succession when she was 10, via the Third Succession Act 1543. After Henry\\'s death in 1547, Elizabeth\\'s younger half-brother Edward VI ruled until his own death in 1553, bequeathing the crown to a Protestant cousin, Lady Jane Grey, and ignoring the claims of his two half-sisters, the Catholic Mary and the younger Elizabeth, in spite of statutes to the contrary. Edward\\'s will was set aside within weeks of his death and Mary became queen, deposing and executing Jane. During Mary\\'s reign, Elizabeth was imprisoned for nearly a year on suspicion of supporting Protestant rebels.\\nUpon her half-sister\\'s death in 1558, Elizabeth succeeded to the throne and set out to rule by good counsel. She depended heavily on a group of trusted advisers led by William Cecil, whom she created Baron Burghley. One of her first actions as queen was the establishment of an English Protestant church, of which she became the supreme governor. This era, later named the Elizabethan Religious Settlement, would evolve into the Church of England. It was expected that Elizabeth would marry and produce an heir; however, despite numerous courtships, she never did, and because of this she is sometimes referred to as the \"Virgin Queen\". She was eventually succeeded by her first cousin twice removed, James VI of Scotland, the son of Mary, Queen of Scots.\\nIn government, Elizabeth was more moderate than her father and siblings had been. One of her mottoes was video et taceo (\"I see and keep silent\"). In religion, she was relatively tolerant and avoided systematic persecution. After the pope declared her illegitimate in 1570, which in theory released English Catholics from allegiance to her, several conspiracies threatened her life, all of which were defeated with the help of her ministers\\' secret service, run by Sir Francis Walsingham. Elizabeth was cautious in foreign affairs, manoeuvring between the major powers of France and Spain. She half-heartedly supported a number of ineffective, poorly resourced military campaigns in the Netherlands, France, and Ireland. By the mid-1580s, England could no longer avoid war with Spain.\\nAs she grew older, Elizabeth became celebrated for her virginity. A cult of personality grew around her which was celebrated in the portraits, pageants, and literature of the day. Elizabeth\\'s reign became known as the Elizabethan era. The period is famous for the flourishing of English drama, led by playwrights such as William Shakespeare and Christopher Marlowe, the prowess of English maritime adventurers, such as Francis Drake and Walter Raleigh, and for the defeat of the Spanish Armada. Some historians depict Elizabeth as a short-tempered, sometimes indecisive ruler, who enjoyed more than her fair share of luck. Towards the end of her reign, a series of economic and military problems weakened her popularity. Elizabeth is acknowledged as a charismatic performer (\"Gloriana\") and a dogged survivor (\"Good Queen Bess\") in an era when government was ramshackle and limited, and when monarchs in neighbouring countries faced internal problems that jeopardised their thrones. After the short, disastrous reigns of her half-siblings, her 44 years on the throne provided welcome stability for the kingdom and helped to forge a sense of national identity.\\n\\nElizabeth was born at Greenwich Palace on 7 September 1533 and was named after her grandmothers, Elizabeth of York and Lady Elizabeth Howard. She was the second child of Henry VIII of England born in wedlock to survive infancy. Her mother was Henry\\'s second wife, Anne Boleyn. At birth, Elizabeth was the heir presumptive to the English throne. Her elder half-sister Mary had lost her position as a legitimate heir when Henry annulled his marriage to Mary\\'s mother, Catherine of Aragon, to marry Anne, with the intent to sire a male heir and ensure the Tudor succession. She was baptised on 10 September 1533, and her godparents were Thomas Cranmer, Archbishop of Canterbury; Henry Courtenay, Marquess of Exeter; Elizabeth Stafford, Duchess of Norfolk; and Margaret Wotton, Dowager Marchioness of Dorset. A canopy was carried at the ceremony over the infant by her uncle George Boleyn, Viscount Rochford; John Hussey, Baron Hussey of Sleaford; Lord Thomas Howard; and William Howard, Baron Howard of Effingham.\\nElizabeth was two years and eight months old when her mother was beheaded on 19 May 1536, four months after Catherine of Aragon\\'s death from natural causes. Elizabeth was declared illegitimate and deprived of her place in the royal succession. Eleven days after Anne Boleyn\\'s execution, Henry married Jane Seymour. Queen Jane died the next year shortly after the birth of their son, Edward, who was the undisputed heir apparent to the throne. Elizabeth was placed in her half-brother\\'s household and carried the chrisom, or baptismal cloth, at his christening.\\n\\nElizabeth\\'s first governess, Margaret Bryan, wrote that she was \"as toward a child and as gentle of conditions as ever I knew any in my life\". Catherine Champernowne, better known by her later, married name of Catherine \"Kat\" Ashley, was appointed as Elizabeth\\'s governess in 1537, and she remained Elizabeth\\'s friend until her death in 1565. Champernowne taught Elizabeth four languages: French, Dutch, Italian, and Spanish. By the time William Grindal became her tutor in 1544, Elizabeth could write English, Latin, and Italian. Under Grindal, a talented and skilful tutor, she also progressed in French and Greek. By the age of 12, she was able to translate her stepmother Catherine Parr\\'s religious work Prayers or Meditations from English into Italian, Latin, and French, which she presented to her father as a New Year\\'s gift. From her teenage years and throughout her life, she translated works in Latin and Greek by numerous classical authors, including the Pro Marcello of Cicero, the De consolatione philosophiae of Boethius, a treatise by Plutarch, and the Annals of Tacitus. A translation of Tacitus from Lambeth Palace Library, one of only four surviving English translations from the early modern era, was confirmed as Elizabeth\\'s own in 2019, after a detailed analysis of the handwriting and paper was undertaken.\\nAfter Grindal died in 1548, Elizabeth received her education under her brother Edward\\'s tutor, Roger Ascham, a sympathetic teacher who believed that learning should be engaging. Current knowledge of Elizabeth\\'s schooling and precocity comes largely from Ascham\\'s memoirs. By the time her formal education ended in 1550, Elizabeth was one of the best educated women of her generation. At the end of her life, she was believed to speak the Welsh, Cornish, Scottish, and Irish languages in addition to those mentioned above. The Venetian ambassador stated in 1603 that she \"possessed [these] languages so thoroughly that each appeared to be her native tongue\". Historian Mark Stoyle suggests that she was probably taught Cornish by William Killigrew, Groom of the Privy Chamber and later Chamberlain of the Exchequer.\\n\\nHenry VIII died in 1547 and Elizabeth\\'s half-brother, Edward VI, became king at the age of nine. Catherine Parr, Henry\\'s widow, soon married Thomas Seymour, Baron Seymour of Sudeley, Edward VI\\'s uncle and the brother of Lord Protector Edward Seymour, Duke of Somerset. The couple took Elizabeth into their household at Chelsea. There Elizabeth experienced an emotional crisis that some historians believe affected her for the rest of her life. Thomas Seymour engaged in romps and horseplay with the 14-year-old Elizabeth, including entering her bedroom in his nightgown, tickling her, and slapping her on the buttocks. Elizabeth rose early and surrounded herself with maids to avoid his unwelcome morning visits. Parr, rather than confront her husband over his inappropriate activities, joined in. Twice she accompanied him in tickling Elizabeth, and once held her while he cut her black gown \"into a thousand pieces\". However, after Parr discovered the pair in an embrace, she ended this state of affairs. In May 1548, Elizabeth was sent away.\\nThomas Seymour nevertheless continued scheming to control the royal family and tried to have himself appointed the governor of the King\\'s person. When Parr died after childbirth on 5 September 1548, he renewed his attentions towards Elizabeth, intent on marrying her. Her governess Kat Ashley, who was fond of Seymour, sought to convince Elizabeth to take him as her husband. She tried to convince Elizabeth to write to Seymour and \"comfort him in his sorrow\", but Elizabeth claimed that Thomas was not so saddened by her stepmother\\'s death as to need comfort.\\nIn January 1549, Seymour was arrested and imprisoned in the Tower on suspicion of conspiring to depose his brother Somerset as Protector, marry Lady Jane Grey to King Edward VI, and take Elizabeth as his own wife. Elizabeth, living at Hatfield House, would admit nothing. Her stubbornness exasperated her interrogator, Robert Tyrwhitt, who reported, \"I do see it in her face that she is guilty\". Seymour was beheaded on 20 March 1549.\\n\\nEdward VI died on 6 July 1553, aged 15. His will ignored the Succession to the Crown Act 1543, excluded both Mary and Elizabeth from the succession, and instead declared as his heir Lady Jane Grey, granddaughter of Henry VIII\\'s younger sister Mary Tudor, Queen of France. Jane was proclaimed queen by the privy council, but her support quickly crumbled, and she was deposed after nine days. On 3 August 1553, Mary rode triumphantly into London, with Elizabeth at her side.\\nThe show of solidarity between the sisters did not last long. Mary, a devout Catholic, was determined to crush the Protestant faith in which Elizabeth had been educated, and she ordered that everyone attend Catholic Mass; Elizabeth had to outwardly conform. Mary\\'s initial popularity ebbed away in 1554 when she announced plans to marry Philip of Spain, the son of Holy Roman Emperor Charles V and an active Catholic. Discontent spread rapidly through the country, and many looked to Elizabeth as a focus for their opposition to Mary\\'s religious policies.\\nIn January and February 1554, Wyatt\\'s rebellion broke out; it was soon suppressed. Elizabeth was brought to court and interrogated regarding her role, and on 18 March, she was imprisoned in the Tower of London. Elizabeth fervently protested her innocence. Though it is unlikely that she had plotted with the rebels, some of them were known to have approached her. Mary\\'s closest confidant, Emperor Charles\\'s ambassador Simon Renard, argued that her throne would never be safe while Elizabeth lived; and Lord Chancellor Stephen Gardiner, worked to have Elizabeth put on trial. Elizabeth\\'s supporters in the government, including William Paget, Baron Paget, convinced Mary to spare her sister in the absence of hard evidence against her. Instead, on 22 May, Elizabeth was moved from the Tower to Woodstock, where she was to spend almost a year under house arrest in the charge of Henry Bedingfeld. Crowds cheered her all along the way.\\nOn 17 April 1555, Elizabeth was recalled to court to attend the final stages of Mary\\'s apparent pregnancy. If Mary and her child died, Elizabeth would become queen, but if Mary gave birth to a healthy child, Elizabeth\\'s chances of becoming queen would recede sharply. When it became clear that Mary was not pregnant, no one believed any longer that she could have a child. Elizabeth\\'s succession seemed assured.\\nKing Philip, who ascended the Spanish throne in 1556, acknowledged the new political reality and cultivated his sister-in-law. She was a better ally than the chief alternative, Mary, Queen of Scots, who had grown up in France and was betrothed to the Dauphin of France. When his wife fell ill in 1558, Philip sent the Count of Feria to consult with Elizabeth. This interview was conducted at Hatfield House, where she had returned to live in October 1555. By October 1558, Elizabeth was already making plans for her government. Mary recognised Elizabeth as her heir on 6 November 1558, and Elizabeth became queen when Mary died on 17 November.\\n\\nElizabeth became queen at the age of 25, and declared her intentions to her council and other peers who had come to Hatfield to swear allegiance. The speech contains the first record of her adoption of the medieval political theology of the sovereign\\'s \"two bodies\": the body natural and the body politic:\\n\\nMy lords, the law of nature moves me to sorrow for my sister; the burden that is fallen upon me makes me amazed, and yet, considering I am God\\'s creature, ordained to obey His appointment, I will thereto yield, desiring from the bottom of my heart that I may have assistance of His grace to be the minister of His heavenly will in this office now committed to me. And as I am but one body naturally considered, though by His permission a body politic to govern, so shall I desire you all ... to be assistant to me, that I with my ruling and you with your service may make a good account to Almighty God and leave some comfort to our posterity on earth. I mean to direct all my actions by good advice and counsel.\\nAs her triumphal progress wound through the city on the eve of the coronation ceremony, she was welcomed wholeheartedly by the citizens and greeted by orations and pageants, most with a strong Protestant flavour. Elizabeth\\'s open and gracious responses endeared her to the spectators, who were \"wonderfully ravished\". The following day, 15 January 1559, a date chosen by her astrologer John Dee, Elizabeth was crowned and anointed by Owen Oglethorpe, the Catholic bishop of Carlisle, in Westminster Abbey. She was then presented for the people\\'s acceptance, amidst a deafening noise of organs, fifes, trumpets, drums, and bells. Although Elizabeth was welcomed as queen in England, the country was still in a state of anxiety over the perceived Catholic threat at home and overseas, as well as the choice of whom she would marry.\\n\\nElizabeth\\'s personal religious convictions have been much debated by scholars. She was a Protestant, but kept Catholic symbols (such as the crucifix), and downplayed the role of sermons in defiance of a key Protestant belief.\\nElizabeth and her advisers perceived the threat of a Catholic crusade against heretical England. The queen therefore sought a Protestant solution that would not offend Catholics too greatly while addressing the desires of English Protestants, but she would not tolerate the Puritans, who were pushing for far-reaching reforms. As a result, the Parliament of 1559 started to legislate for a church based on the Protestant settlement of Edward VI, with the monarch as its head, but with many Catholic elements, such as vestments.\\nThe House of Commons backed the proposals strongly, but the bill of supremacy met opposition in the House of Lords, particularly from the bishops. Elizabeth was fortunate that many bishoprics were vacant at the time, including the Archbishopric of Canterbury. This enabled supporters amongst peers to outvote the bishops and conservative peers. Nevertheless, Elizabeth was forced to accept the title of Supreme Governor of the Church of England rather than the more contentious title of Supreme Head, which many thought unacceptable for a woman to bear. The new Act of Supremacy became law on 8 May 1559. All public officials were forced to swear an oath of loyalty to the monarch as the supreme governor or risk disqualification from office; the heresy laws were repealed, to avoid a repeat of the persecution of dissenters by Mary. At the same time, a new Act of Uniformity was passed, which made attendance at church and the use of the 1559 Book of Common Prayer (an adapted version of the 1552 prayer book) compulsory, though the penalties for recusancy, or failure to attend and conform, were not extreme.\\n\\nFrom the start of Elizabeth\\'s reign it was expected that she would marry, and the question arose to whom. Although she received many offers, she never married and remained childless; the reasons for this are not clear. Historians have speculated that Thomas Seymour had put her off sexual relationships. She considered several suitors until she was about fifty. Her last courtship was with Francis, Duke of Anjou, 22 years her junior. While risking possible loss of power like her sister, who played into the hands of King Philip II of Spain, marriage offered the chance of an heir. However, the choice of a husband might also provoke political instability or even insurrection.\\n\\nIn the spring of 1559, it became evident that Elizabeth was in love with her childhood friend Robert Dudley. It was said that his wife Amy was suffering from a \"malady in one of her breasts\" and that the queen would like to marry Robert if his wife should die. By the autumn of 1559, several foreign suitors were vying for Elizabeth\\'s hand; their impatient envoys engaged in ever more scandalous talk and reported that a marriage with her favourite was not welcome in England: \"There is not a man who does not cry out on him and her with indignation ... she will marry none but the favoured Robert.\" Amy Dudley died in September 1560, from a fall from a flight of stairs and, despite the coroner\\'s inquest finding of accident, many people suspected her husband of having arranged her death so that he could marry the queen. Elizabeth seriously considered marrying Dudley for some time. However, William Cecil, Nicholas Throckmorton, and some conservative peers made their disapproval unmistakably clear. There were even rumours that the nobility would rise if the marriage took place.\\nAmong other marriage candidates being considered for the queen, Robert Dudley continued to be regarded as a possible candidate for nearly another decade. Elizabeth was extremely jealous of his affections, even when she no longer meant to marry him herself. She raised Dudley to the peerage as Earl of Leicester in 1564. In 1578, he finally married Lettice Knollys, to whom the queen reacted with repeated scenes of displeasure and lifelong hatred. Still, Dudley always \"remained at the centre of [Elizabeth\\'s] emotional life\", as historian Susan Doran has described the situation. He died shortly after the defeat of the Spanish Armada in 1588. After Elizabeth\\'s own death, a note from him was found among her most personal belongings, marked \"his last letter\" in her handwriting.\\n\\nMarriage negotiations constituted a key element in Elizabeth\\'s foreign policy. She turned down the hand of Philip, her half-sister\\'s widower, early in 1559 but for several years entertained the proposal of King Eric XIV of Sweden. Earlier in Elizabeth\\'s life, a Danish match for her had been discussed; Henry VIII had proposed one with the Danish prince Adolf, Duke of Holstein-Gottorp, in 1545, and Edward Seymour, Duke of Somerset, suggested a marriage with Prince Frederick (later Frederick II) several years later, but the negotiations had abated in 1551. In the years around 1559, a Dano-English Protestant alliance was considered, and to counter Sweden\\'s proposal, King Frederick II proposed to Elizabeth in late 1559.\\n\\nFor several years, she seriously negotiated to marry Philip\\'s cousin Charles II, Archduke of Austria. By 1569, relations with the Habsburgs had deteriorated. Elizabeth considered marriage to two French Valois princes in turn, first Henry, Duke of Anjou, and then from 1572 to 1581 his brother Francis, Duke of Anjou, formerly Duke of Alençon. This last proposal was tied to a planned alliance against Spanish control of the Southern Netherlands. Elizabeth seems to have taken the courtship seriously for a time, wearing  a frog-shaped earring that Francis had sent her.\\nIn 1563, Elizabeth told an imperial envoy: \"If I follow the inclination of my nature, it is this: beggar-woman and single, far rather than queen and married\". Later in the year, following Elizabeth\\'s illness with smallpox, the succession question became a heated issue in Parliament. Members urged the queen to marry or nominate an heir, to prevent a civil war upon her death. She refused to do either. In April she prorogued the Parliament, which did not reconvene until she needed its support to raise taxes in 1566.\\nHaving previously promised to marry, she told an unruly House:\\n\\nI will never break the word of a prince spoken in public place, for my honour\\'s sake. And therefore I say again, I will marry as soon as I can conveniently, if God take not him away with whom I mind to marry, or myself, or else some other great let [obstruction] happen.\\nBy 1570, senior figures in the government privately accepted that Elizabeth would never marry or name a successor. William Cecil was already seeking solutions to the succession problem. For her failure to marry, Elizabeth was often accused of irresponsibility. Her silence, however, strengthened her own political security: she knew that if she named an heir, her throne would be vulnerable to a coup; she remembered the way that \"a second person, as I have been\" had been used as the focus of plots against her predecessor.\\n\\nElizabeth\\'s unmarried status inspired a cult of virginity related to that of the Virgin Mary. In poetry and portraiture, she was depicted as a virgin, a goddess, or both, not as a normal woman. At first, only Elizabeth made a virtue of her ostensible virginity: in 1559, she told the Commons, \"And, in the end, this shall be for me sufficient, that a marble stone shall declare that a queen, having reigned such a time, lived and died a virgin\". Later on, poets and writers took up the theme and developed an iconography that exalted Elizabeth. Public tributes to the Virgin by 1578 acted as a coded assertion of opposition to the queen\\'s marriage negotiations with the Duke of Alençon. Ultimately, Elizabeth would insist she was married to her kingdom and subjects, under divine protection. In 1599, she spoke of \"all my husbands, my good people\".\\n\\nThis claim of virginity was not universally accepted. Catholics accused Elizabeth of engaging in \"filthy lust\" that symbolically defiled the nation along with her body. Henry IV of France said that one of the great questions of Europe was \"whether Queen Elizabeth was a maid or no\".\\nA central issue, when it comes to the question of Elizabeth\\'s virginity, was whether the queen ever consummated her love affair with Robert Dudley. In 1559, she had Dudley\\'s bedchambers moved next to her own apartments. In 1561, she was mysteriously bedridden with an illness that caused her body to swell.\\nIn 1587, a young man calling himself Arthur Dudley was arrested on the coast of Spain under suspicion of being a spy. The man claimed to be the illegitimate son of Elizabeth and Robert Dudley, with his age being consistent with birth during the 1561 illness. He was taken to Madrid for investigation, where he was examined by Francis Englefield, a Catholic aristocrat exiled to Spain and secretary to King Philip II. Three letters exist today describing the interview, detailing what Arthur proclaimed to be the story of his life, from birth in the royal palace to the time of his arrival in Spain. However, this failed to convince the Spanish: Englefield admitted to King Philip that Arthur\\'s \"claim at present amounts to nothing\", but suggested that \"he should not be allowed to get away, but [...] kept very secure.\" The king agreed, and Arthur was never heard from again. Modern scholarship dismisses the story\\'s basic premise as \"impossible\", and asserts that Elizabeth\\'s life was so closely observed by contemporaries that she could not have hidden a pregnancy.\\n\\nElizabeth\\'s first policy toward Scotland was to oppose the French presence there. She feared that the French planned to invade England and put her Catholic cousin Mary, Queen of Scots, on the throne. Mary was considered by many to be the heir to the English crown, being the granddaughter of Henry VIII\\'s elder sister, Margaret. Mary boasted being \"the nearest kinswoman she hath\". Elizabeth was persuaded to send a force into Scotland to aid the Protestant rebels, and though the campaign was inept, the resulting Treaty of Edinburgh of July 1560 removed the French threat in the north. When Mary returned to Scotland in 1561 to take up the reins of power, the country had an established Protestant church and was run by a council of Protestant nobles supported by Elizabeth. Mary refused to ratify the treaty.\\nIn 1563, Elizabeth proposed her own suitor, Robert Dudley, as a husband for Mary, without asking either of the two people concerned. Both proved unenthusiastic, and in 1565, Mary married Henry Stuart, Lord Darnley, who carried his own claim to the English throne. The marriage was the first of a series of errors of judgement by Mary that handed the victory to the Scottish Protestants and to Elizabeth. Darnley quickly became unpopular and was murdered in February 1567 by conspirators almost certainly led by James Hepburn, Earl of Bothwell. Shortly afterwards, on 15 May 1567, Mary married Bothwell, arousing suspicions that she had been party to the murder of her husband. Elizabeth confronted Mary about the marriage, writing to her:\\n\\nHow could a worse choice be made for your honour than in such haste to marry such a subject, who besides other and notorious lacks, public fame has charged with the murder of your late husband, besides the touching of yourself also in some part, though we trust in that behalf falsely.\\nThese events led rapidly to Mary\\'s defeat and imprisonment in Lochleven Castle. The Scottish lords forced her to abdicate in favour of her son James VI, who had been born in 1566. James was taken to Stirling Castle to be raised as a Protestant. Mary escaped in 1568 but after a defeat at Langside sailed to England, where she had once been assured of support from Elizabeth. Elizabeth\\'s first instinct was to restore her fellow monarch, but she and her council instead chose to play safe. Rather than risk returning Mary to Scotland with an English army or sending her to France and the Catholic enemies of England, they detained her in England, where she was imprisoned for the next nineteen years.\\n\\nMary was soon the focus for rebellion. In 1569 there was a major Catholic rising in the North; the goal was to free Mary, marry her to Thomas Howard, Duke of Norfolk, and put her on the English throne. After the rebels\\' defeat, over 750 of them were executed on Elizabeth\\'s orders. In the belief that the revolt had been successful, Pope Pius V issued a bull in 1570, titled Regnans in Excelsis, which declared \"Elizabeth, the pretended Queen of England and the servant of crime\" to be excommunicated and a heretic, releasing all her subjects from any allegiance to her. Catholics who obeyed her orders were threatened with excommunication. The papal bull provoked legislative initiatives against Catholics by Parliament, which were, however, mitigated by Elizabeth\\'s intervention. In 1581, to convert English subjects to Catholicism with \"the intent\" to withdraw them from their allegiance to Elizabeth was made a treasonable offence, carrying the death penalty. From the 1570s missionary priests from continental seminaries went to England secretly in the cause of the \"reconversion of England\". Many suffered execution, engendering a cult of martyrdom.\\nRegnans in Excelsis gave English Catholics a strong incentive to look to Mary as the legitimate sovereign of England. Mary may not have been told of every Catholic plot to put her on the English throne, but from the Ridolfi Plot of 1571 (which caused Mary\\'s suitor, the Duke of Norfolk, to lose his head) to the Babington Plot of 1586, Elizabeth\\'s spymaster Francis Walsingham and the royal council keenly assembled a case against her. At first, Elizabeth resisted calls for Mary\\'s death. By late 1586, she had been persuaded to sanction Mary\\'s trial and execution on the evidence of letters written during the Babington Plot. Elizabeth\\'s proclamation of the sentence announced that \"the said Mary, pretending title to the same Crown, had compassed and imagined within the same realm diverse things tending to the hurt, death and destruction of our royal person.\" On 8 February 1587, Mary was beheaded at Fotheringhay Castle, Northamptonshire. After the execution, Elizabeth claimed that she had not intended for the signed execution warrant to be dispatched, and blamed her secretary, William Davison, for implementing it without her knowledge. The sincerity of Elizabeth\\'s remorse and whether or not she wanted to delay the warrant have been called into question both by her contemporaries and later historians.\\n\\nElizabeth\\'s foreign policy was largely defensive. The exception was the English occupation of Le Havre from October 1562 to June 1563, which ended in failure when Elizabeth\\'s Huguenot allies joined with the Catholics to retake the port. Elizabeth\\'s intention had been to exchange Le Havre for Calais, lost to France in January 1558. Only through the activities of her fleets did Elizabeth pursue an aggressive policy. This paid off in the war against Spain, 80% of which was fought at sea. She knighted Francis Drake after his circumnavigation of the globe from 1577 to 1580, and he won fame for his raids on Spanish ports and fleets. An element of piracy and self-enrichment drove Elizabethan seafarers, over whom the queen had little control.\\n\\nAfter the occupation and loss of Le Havre in 1562–1563, Elizabeth avoided military expeditions on the continent until 1585, when she sent an English army to aid the Protestant Dutch rebels against Philip II. This followed the deaths in 1584 of the queen\\'s allies William the Silent, Prince of Orange, and the Duke of Anjou, and the surrender of a series of Dutch towns to Alexander Farnese, Duke of Parma, Philip\\'s governor of the Spanish Netherlands. In December 1584, an alliance between Philip II and the French Catholic League at Joinville undermined the ability of Anjou\\'s brother, Henry III of France, to counter Spanish domination of the Netherlands. It also extended Spanish influence along the channel coast of France, where the Catholic League was strong, and exposed England to invasion. The siege of Antwerp in the summer of 1585 by the Duke of Parma necessitated some reaction on the part of the English and the Dutch. The outcome was the Treaty of Nonsuch of August 1585, in which Elizabeth promised military support to the Dutch. The treaty marked the beginning of the Anglo-Spanish War, which lasted until the Treaty of London in 1604.\\nThe expedition was led by Elizabeth\\'s former suitor, the Earl of Leicester. Elizabeth from the start did not really back this course of action. Her strategy, to support the Dutch on the surface with an English army, while beginning secret peace talks with Spain within days of Leicester\\'s arrival in Holland, had necessarily to be at odds with Leicester\\'s, who had set up a protectorate and was expected by the Dutch to fight an active campaign. Elizabeth, on the other hand, wanted him \"to avoid at all costs any decisive action with the enemy\". He enraged Elizabeth by accepting the post of Governor-General from the Dutch States General. Elizabeth saw this as a Dutch ploy to force her to accept sovereignty over the Netherlands, which so far she had always declined. She wrote to Leicester:\\n\\nWe could never have imagined (had we not seen it fall out in experience) that a man raised up by ourself and extraordinarily favoured by us, above any other subject of this land, would have in so contemptible a sort broken our commandment in a cause that so greatly touches us in honour ... And therefore our express pleasure and commandment is that, all delays and excuses laid apart, you do presently upon the duty of your allegiance obey and fulfill whatsoever the bearer hereof shall direct you to do in our name. Whereof fail you not, as you will answer the contrary at your utmost peril.\\nElizabeth\\'s \"commandment\" was that her emissary read out her letters of disapproval publicly before the Dutch Council of State, Leicester having to stand nearby. This public humiliation of her \"Lieutenant-General\" combined with her continued talks for a separate peace with Spain irreversibly undermined Leicester\\'s standing among the Dutch. The military campaign was severely hampered by Elizabeth\\'s repeated refusals to send promised funds for her starving soldiers. Her unwillingness to commit herself to the cause, Leicester\\'s own shortcomings as a political and military leader, and the faction-ridden and chaotic situation of Dutch politics led to the failure of the campaign. Leicester finally resigned his command in December 1587.\\n\\nMeanwhile, Francis Drake had undertaken a major voyage against Spanish ports and ships in the Caribbean in 1585 and 1586. In 1587 he made a successful raid on Cádiz, destroying the Spanish fleet of war ships intended for the Enterprise of England, as Philip II had decided to take the war to England.\\nOn 12 July 1588, the Spanish Armada, a great fleet of ships, set sail for the channel, planning to ferry a Spanish invasion force under the Duke of Parma to the coast of southeast England from the Netherlands. The armada was defeated by a combination of miscalculation, misfortune, and an attack of English fire ships off Gravelines at midnight on 28–29 July (7–8 August New Style), which dispersed the Spanish ships to the northeast. The Armada straggled home to Spain in shattered remnants, after disastrous losses on the coast of Ireland (after some ships had tried to struggle back to Spain via the North Sea, and then back south past the west coast of Ireland). Unaware of the Armada\\'s fate, English militias mustered to defend the country under the Earl of Leicester\\'s command. Leicester invited Elizabeth to inspect her troops at Tilbury in Essex on 8 August. Wearing a silver breastplate over a white velvet dress, she addressed them in her Speech to the Troops at Tilbury:\\n\\nMy loving people, we have been persuaded by some that are careful of our safety, to take heed how we commit ourself to armed multitudes for fear of treachery; but I assure you, I do not desire to live to distrust my faithful and loving people ... I know I have the body but of a weak and feeble woman, but I have the heart and stomach of a king, and of a King of England too, and think foul scorn that Parma or Spain, or any Prince of Europe should dare to invade the borders of my realm.\\n\\nWhen no invasion came, the nation rejoiced. Elizabeth\\'s procession to a thanksgiving service at St Paul\\'s Cathedral rivalled that of her coronation as a spectacle. The defeat of the armada was a potent propaganda victory, both for Elizabeth and for Protestant England. The English took their delivery as a symbol of God\\'s favour and of the nation\\'s inviolability under a virgin queen. However, the victory was not a turning point in the war, which continued and often favoured Spain. The Spanish still controlled the southern provinces of the Netherlands, and the threat of invasion remained. Walter Raleigh claimed after her death that Elizabeth\\'s caution had impeded the war against Spain:\\n\\nIf the late queen would have believed her men of war as she did her scribes, we had in her time beaten that great empire in pieces and made their kings of figs and oranges as in old times. But her Majesty did all by halves, and by petty invasions taught the Spaniard how to defend himself, and to see his own weakness.\\nThough some historians have criticised Elizabeth on similar grounds, Elizabeth had good reason not to place too much trust in her commanders, who once in action tended, as she put it herself, \"to be transported with an haviour of vainglory\".\\nIn 1589, the year after the Spanish Armada, Elizabeth sent to Spain the English Armada or Counter Armada with 23,375 men and 150 ships, led by Francis Drake as admiral and John Norreys as general. The English fleet suffered a catastrophic defeat with 11,000–15,000 killed, wounded or died of disease and 40 ships sunk or captured. The advantage England had won upon the destruction of the Spanish Armada was lost, and the Spanish victory marked a revival of Philip II\\'s naval power through the next decade.\\n\\nWhen the Protestant Henry IV inherited the French throne in 1589, Elizabeth sent him military support. It was her first venture into France since the retreat from Le Havre in 1563. Henry\\'s succession was strongly contested by the Catholic League and by Philip II, and Elizabeth feared a Spanish takeover of the channel ports.\\nThe subsequent English campaigns in France, however, were disorganised and ineffective. Peregrine Bertie, largely ignoring Elizabeth\\'s orders, roamed northern France to little effect, with an army of 4,000 men. He withdrew in disarray in December 1589, having lost half his troops. In 1591, the campaign of John Norreys, who led 3,000 men to Brittany, was even more of a disaster. As for all such expeditions, Elizabeth was unwilling to invest in the supplies and reinforcements requested by the commanders. Norreys left for London to plead in person for more support. In his absence, a Catholic League army almost destroyed the remains of his army at Craon, north-west France, in May 1591.\\nIn July, Elizabeth sent out another force under Robert Devereux, Earl of Essex, to help Henry IV in besieging Rouen. The result was just as dismal. Essex accomplished nothing and returned home in January 1592. Henry abandoned the siege in April. As usual, Elizabeth lacked control over her commanders once they were abroad. \"Where he is, or what he doth, or what he is to do,\" she wrote of Essex, \"we are ignorant\".\\n\\nAlthough Ireland was one of her two kingdoms, Elizabeth faced a hostile, and in places virtually autonomous, Irish population that adhered to Catholicism and was willing to defy her authority and plot with her enemies. Her policy there was to grant land to her courtiers and prevent the rebels from giving Spain a base from which to attack England. In the course of a series of uprisings, Crown forces pursued scorched-earth tactics, burning the land and slaughtering man, woman and child. During a revolt in Munster led by Gerald FitzGerald, in 1582, an estimated 30,000 Irish people starved to death. The poet and colonist Edmund Spenser wrote that the victims \"were brought to such wretchedness as that any stony heart would have rued the same\". Elizabeth advised her commanders that the Irish, \"that rude and barbarous nation\", be well treated, but she or her commanders showed no remorse when force and bloodshed served their authoritarian purpose.\\nBetween 1594 and 1603, Elizabeth faced her most severe test in Ireland during the Nine Years\\' War, a revolt that took place at the height of hostilities with Spain, who backed the rebel leader, Hugh O\\'Neill. In spring 1599, Elizabeth sent Robert Devereux, to put the revolt down. To her frustration, he made little progress and returned to England in defiance of her orders. He was replaced by Charles Blount, who took three years to defeat the rebels. O\\'Neill finally surrendered in 1603, a few days after Elizabeth\\'s death. Soon afterwards, a peace treaty was signed between England and Spain.\\n\\nElizabeth continued to maintain the diplomatic relations with the Tsardom of Russia that were originally established by her half-brother, Edward VI. She often wrote to Tsar Ivan the Terrible on amicable terms, though the Tsar was often annoyed by her focus on commerce rather than on the possibility of a military alliance. Ivan even proposed to her once, and during his later reign, asked for a guarantee to be granted asylum in England should his rule be jeopardised. English merchant and explorer Anthony Jenkinson, who began his career as a representative of the Muscovy Company, became the queen\\'s special ambassador to the court of Tsar Ivan.\\nUpon his death in 1584, Ivan was succeeded by his son Feodor I. Unlike his father, Feodor had no enthusiasm in maintaining exclusive trading rights with England. He declared his kingdom open to all foreigners, and dismissed the English ambassador Jerome Bowes, whose pomposity had been tolerated by Ivan. Elizabeth sent a new ambassador, Dr. Giles Fletcher, to demand from the regent Boris Godunov that he convince the Tsar to reconsider. The negotiations failed, due to Fletcher addressing Feodor with two of his many titles omitted. Elizabeth continued to appeal to Feodor in half appealing, half reproachful letters. She proposed an alliance, something which she had refused to do when offered one by Feodor\\'s father, but was turned down.\\n\\nTrade and diplomatic relations developed between England and the Barbary states during the rule of Elizabeth. England established a trading relationship with Morocco in opposition to Spain, selling armour, ammunition, timber, and metal in exchange for Moroccan sugar, in spite of a papal ban. In 1600, Abd el-Ouahed ben Messaoud, the principal secretary to the Moroccan ruler Mulai Ahmad al-Mansur, visited England as an ambassador to the English court, to negotiate an Anglo-Moroccan alliance against Spain. Elizabeth \"agreed to sell munitions supplies to Morocco, and she and Mulai Ahmad al-Mansur talked on and off about mounting a joint operation against the Spanish\". Discussions, however, remained inconclusive, and both rulers died within two years of the embassy.\\nDiplomatic relations were also established with the Ottoman Empire with the chartering of the Levant Company and the dispatch of the first English ambassador to the Sublime Porte, William Harborne, in 1578. For the first time, a treaty of commerce was signed in 1580. Numerous envoys were dispatched in both directions and epistolar exchanges occurred between Elizabeth and Sultan Murad III. In one correspondence, Murad entertained the notion that Protestantism and Islam had \"much more in common than either did with Roman Catholicism, as both rejected the worship of idols\", and argued for an alliance between England and the Ottoman Empire. To the dismay of Catholic Europe, England exported tin and lead (for cannon-casting) and ammunitions to the Ottoman Empire, and Elizabeth seriously discussed joint military operations with Murad III during the outbreak of war with Spain in 1585, as Francis Walsingham was lobbying for a direct Ottoman military involvement against the common Spanish enemy.\\n\\nIn 1583, Humphrey Gilbert sailed west to establish a colony in Newfoundland. He never returned to England. Gilbert\\'s half-brother Walter Raleigh explored the Atlantic Coast and claimed the territory of Virginia, perhaps named in honour of Elizabeth, the \"Virgin Queen\". This territory was much larger than the present-day state of Virginia, extending from New England to the Carolinas. In 1585, Raleigh returned to Virginia with a small group of people. They landed on Roanoke Island, off present-day North Carolina. After the failure of the first colony, Raleigh recruited another group and put John White in command. When Raleigh returned in 1590, there was no trace of the Roanoke Colony he had left, but it was the first English settlement in North America.\\n\\nThe East India Company was formed to trade in the Indian Ocean region and China, and received its charter from Queen Elizabeth on 31 December 1600. For a period of 15 years, the company was awarded a monopoly on English trade with all countries east of the Cape of Good Hope and west of the Straits of Magellan. James Lancaster commanded the first expedition in 1601. The Company eventually controlled half of world trade and substantial territory in India in the 18th and 19th centuries.\\n\\nThe period after the defeat of the Spanish Armada in 1588 brought new difficulties for Elizabeth that lasted until the end of her reign. The conflicts with Spain and in Ireland dragged on, the tax burden grew heavier, and the economy was hit by poor harvests and the cost of war. Prices rose and the standard of living fell. During this time, repression of Catholics intensified, and Elizabeth authorised commissions in 1591 to interrogate and monitor Catholic householders. To maintain the illusion of peace and prosperity, she increasingly relied on internal spies and propaganda. In her last years, mounting criticism reflected a decline in the public\\'s affection for her.\\n\\nOne of the causes for this \"second reign\" of Elizabeth, as it is sometimes called, was the changed character of Elizabeth\\'s governing body, the privy council in the 1590s. A new generation was in power. With the exception of William Cecil, Baron Burghley, the most important politicians had died around 1590: the Earl of Leicester in 1588; Francis Walsingham in 1590; and Christopher Hatton in 1591. Factional strife in the government, which had not existed in a noteworthy form before the 1590s, now became its hallmark. A bitter rivalry arose between Robert Devereux, the Earl of Essex, and Robert Cecil, son of Lord Burghley, with both being supported by their respective adherents. The struggle for the most powerful positions in the state marred the kingdom\\'s politics. The queen\\'s personal authority was lessening, as is shown in the 1594 affair of Dr. Roderigo Lopes, her trusted physician. When he was wrongly accused by the Earl of Essex of treason out of personal pique, she could not prevent the doctor\\'s execution, although she had been angry about his arrest and seems not to have believed in his guilt.\\nDuring the last years of her reign, Elizabeth came to rely on the granting of monopolies as a cost-free system of patronage, rather than asking Parliament for more subsidies in a time of war. The practice soon led to price-fixing, the enrichment of courtiers at the public\\'s expense, and widespread resentment. This culminated in agitation in the House of Commons during the parliament of 1601. In her famous \"Golden Speech\" of 30 November 1601 at Whitehall Palace to a deputation of 140 members, Elizabeth professed ignorance of the abuses, and won the members over with promises and her usual appeal to the emotions:\\n\\nWho keeps their sovereign from the lapse of error, in which, by ignorance and not by intent they might have fallen, what thank they deserve, we know, though you may guess. And as nothing is more dear to us than the loving conservation of our subjects\\' hearts, what an undeserved doubt might we have incurred if the abusers of our liberality, the thrallers of our people, the wringers of the poor, had not been told us!\\n\\nThis same period of economic and political uncertainty, however, produced an unsurpassed literary flowering in England. The first signs of a new literary movement had appeared at the end of the second decade of Elizabeth\\'s reign, with John Lyly\\'s Euphues and Edmund Spenser\\'s The Shepheardes Calender in 1578. During the 1590s, some of the great names of English literature entered their maturity, including William Shakespeare and Christopher Marlowe. Continuing into the Jacobean era, the English theatre would reach its peak. The notion of a great Elizabethan era depends largely on the builders, dramatists, poets, and musicians who were active during Elizabeth\\'s reign. They owed little directly to the queen, who was never a major patron of the arts.\\nAs Elizabeth aged, her image gradually changed. She was portrayed as Belphoebe or Astraea, and after the Armada, as Gloriana, the eternally youthful Faerie Queene of Edmund Spenser\\'s poem. Elizabeth gave Edmund Spenser a pension; as this was unusual for her, it indicates that she liked his work. Her painted portraits became less realistic and more a set of enigmatic icons that made her look much younger than she was. In fact, her skin had been scarred by smallpox in 1562, leaving her half bald and dependent on wigs and cosmetics. Her love of sweets and fear of dentists contributed to severe tooth decay and loss to such an extent that foreign ambassadors had a hard time understanding her speech. André Hurault de Maisse, Ambassador Extraordinary from Henry IV of France, reported an audience with the queen, during which he noticed, \"her teeth are very yellow and unequal ... and on the left side less than on the right. Many of them are missing, so that one cannot understand her easily when she speaks quickly.\" Yet he added, \"her figure is fair and tall and graceful in whatever she does; so far as may be she keeps her dignity, yet humbly and graciously withal.\" Walter Raleigh called her \"a lady whom time had surprised\".\\n\\nThe more Elizabeth\\'s beauty faded, the more her courtiers praised it. Elizabeth was happy to play the part, but it is possible that in the last decade of her life she began to believe her own performance. She became fond and indulgent of the charming but petulant young Earl of Essex, who was Leicester\\'s stepson and took liberties with her for which she forgave him. She repeatedly appointed him to military posts despite his growing record of irresponsibility. After Essex\\'s desertion of his command in Ireland in 1599, Elizabeth had him placed under house arrest and the following year deprived him of his monopolies. In February 1601, Essex tried to raise a rebellion in London. He intended to seize the queen but few rallied to his support, and he was beheaded on 25 February. Elizabeth knew that her own misjudgements were partly to blame for this turn of events. An observer wrote in 1602: \"Her delight is to sit in the dark, and sometimes with shedding tears to bewail Essex.\"\\n\\nElizabeth\\'s senior adviser, Lord Burghley, died on 4 August 1598. His political mantle passed to his son Robert, who soon became the leader of the government. One task he addressed was to prepare the way for a smooth succession. Since Elizabeth would never name her successor, Robert Cecil was obliged to proceed in secret. He therefore entered into a coded negotiation with James VI of Scotland, who had a strong but unrecognised claim. Cecil coached the impatient James to humour Elizabeth and \"secure the heart of the highest, to whose sex and quality nothing is so improper as either needless expostulations or over much curiosity in her own actions\". The advice worked. James\\'s tone delighted Elizabeth, who responded: \"So trust I that you will not doubt but that your last letters are so acceptably taken as my thanks cannot be lacking for the same, but yield them to you in grateful sort\". In historian J. E. Neale\\'s view, Elizabeth may not have declared her wishes openly to James, but she made them known with \"unmistakable if veiled phrases\".\\n\\nThe queen\\'s health remained fair until the autumn of 1602, when a series of deaths among her friends plunged her into a severe depression. In February 1603, the death of Catherine Carey, Countess of Nottingham, the niece of her cousin and close friend Lady Knollys, came as a particular blow. In March, Elizabeth fell sick and remained in a \"settled and unremovable melancholy\", and sat motionless on a cushion for hours on end. When Robert Cecil told her that she must go to bed, she snapped: \"Must is not a word to use to princes, little man.\" She died on 24 March 1603 at Richmond Palace, between two and three in the morning. A few hours later, Cecil and the council set their plans in motion and proclaimed James King of England.\\nWhile it has become normative to record Elizabeth\\'s death as occurring in 1603, following English calendar reform in the 1750s, at the time England observed New Year\\'s Day on 25 March, commonly known as Lady Day. Thus Elizabeth died on the last day of the year 1602 in the old calendar. The modern convention is to use the old style calendar for the day and month while using the new style calendar for the year.\\n\\nElizabeth\\'s coffin was carried downriver at night to Whitehall, on a barge lit with torches. At her funeral on 28 April, the coffin was taken to Westminster Abbey on a hearse drawn by four horses hung with black velvet. In the words of the chronicler John Stow:\\n\\nWestminster was surcharged with multitudes of all sorts of people in their streets, houses, windows, leads and gutters, that came out to see the obsequy, and when they beheld her statue lying upon the coffin, there was such a general sighing, groaning and weeping as the like hath not been seen or known in the memory of man.\\n\\nElizabeth was interred in Westminster Abbey, in a tomb shared with her half-sister, Mary I. The Latin inscription on their tomb, \"Regno consortes & urna, hic obdormimus Elizabetha et Maria sorores, in spe resurrectionis\", translates to \"Consorts in realm and tomb, here we sleep, Elizabeth and Mary, sisters, in hope of resurrection\".\\n\\nElizabeth was lamented by many of her subjects, but others were relieved at her death. Expectations of King James started high but then declined. By the 1620s, there was a nostalgic revival of the cult of Elizabeth. Elizabeth was praised as a heroine of the Protestant cause and the ruler of a golden age. James was depicted as a Catholic sympathiser, presiding over a corrupt court. The triumphalist image that Elizabeth had cultivated towards the end of her reign, against a background of factionalism and military and economic difficulties, was taken at face value and her reputation inflated. Godfrey Goodman, Bishop of Gloucester, recalled: \"When we had experience of a Scottish government, the Queen did seem to revive. Then was her memory much magnified.\" Elizabeth\\'s reign became idealised as a time when crown, church and parliament had worked in constitutional balance.\\nThe picture of Elizabeth painted by her Protestant admirers of the early 17th century has proved lasting and influential. Her memory was also revived during the Napoleonic Wars, when the nation again found itself on the brink of invasion. In the Victorian era, the Elizabethan legend was adapted to the imperial ideology of the day, and in the mid-20th century, Elizabeth was a romantic symbol of the national resistance to foreign threat. Historians of that period, such as J. E. Neale (1934) and A. L. Rowse (1950), interpreted Elizabeth\\'s reign as a golden age of progress. Neale and Rowse also idealised the Queen personally: she always did everything right; her more unpleasant traits were ignored or explained as signs of stress.\\nRecent historians, however, have taken a more complicated view of Elizabeth. Her reign is famous for the defeat of the Armada, and for successful raids against the Spanish, such as those on Cádiz in 1587 and 1596, but some historians point to military failures on land and at sea. In Ireland, Elizabeth\\'s forces ultimately prevailed, but their tactics stain her record. Rather than as a brave defender of the Protestant nations against Spain and the Habsburgs, she is more often regarded as cautious in her foreign policies. She offered very limited aid to foreign Protestants and failed to provide her commanders with the funds to make a difference abroad.\\nElizabeth established an English church that helped shape a national identity and remains in place today. Those who praised her later as a Protestant heroine overlooked her refusal to drop all practices of Catholic origin from the Church of England. Historians note that in her day, strict Protestants regarded the Acts of Settlement and Uniformity of 1559 as a compromise. In fact, Elizabeth believed that faith was personal and did not wish, as Francis Bacon put it, to \"make windows into men\\'s hearts and secret thoughts\".\\nThough Elizabeth followed a largely defensive foreign policy, her reign raised England\\'s status abroad. \"She is only a woman, only mistress of half an island,\" marvelled Pope Sixtus V, \"and yet she makes herself feared by Spain, by France, by the Empire, by all\". Under Elizabeth, the nation gained a new self-confidence and sense of sovereignty, as Christendom fragmented. Elizabeth was the first Tudor to recognise that a monarch ruled by popular consent. She therefore always worked with parliament and advisers she could trust to tell her the truth—a style of government that her Stuart successors failed to follow. Some historians have called her lucky; she believed that God was protecting her. Priding herself on being \"mere English\", Elizabeth trusted in God, honest advice, and the love of her subjects for the success of her rule. In a prayer, she offered thanks to God that:\\n\\n[At a time] when wars and seditions with grievous persecutions have vexed almost all kings and countries round about me, my reign hath been peacable, and my realm a receptacle to thy afflicted Church. The love of my people hath appeared firm, and the devices of my enemies frustrate.\\n\\nAnti-Catholicism in the United Kingdom\\nEarly modern Britain\\nEnglish Renaissance\\nInventory of Elizabeth I\\nPortraiture of Elizabeth I\\nProtestant Reformation\\nRoyal Arms of England\\nRoyal eponyms in Canada for Queen Elizabeth I\\nRoyal Standards of England\\nTudor period\\n\\nElizabeth I at the official website of the British monarchy\\nElizabeth I at the official website of the Royal Collection Trust\\nPortraits of Queen Elizabeth I at the National Portrait Gallery, London \\nWorks by Elizabeth I at Project Gutenberg\\nWorks by or about Elizabeth I at Internet Archive\\nWorks by Elizabeth I at LibriVox (public domain audiobooks)', 'source': 'https://en.wikipedia.org/wiki/Elizabeth_I'}, page_content='Elizabeth I (7 September 1533 – 24 March 1603) was Queen of England and Ireland from 17 November 1558 until her death in 1603. She was the last monarch of the House of Tudor.\\nElizabeth was the only surviving child of Henry VIII and his second wife, Anne Boleyn. When Elizabeth was two years old, her parents\\' marriage was annulled, her mother was executed, and Elizabeth was declared illegitimate. Henry restored her to the line of succession when she was 10, via the Third Succession Act 1543. After Henry\\'s death in 1547, Elizabeth\\'s younger half-brother Edward VI ruled until his own death in 1553, bequeathing the crown to a Protestant cousin, Lady Jane Grey, and ignoring the claims of his two half-sisters, the Catholic Mary and the younger Elizabeth, in spite of statutes to the contrary. Edward\\'s will was set aside within weeks of his death and Mary became queen, deposing and executing Jane. During Mary\\'s reign, Elizabeth was imprisoned for nearly a year on suspicion of supporting Protestant rebels.\\nUpon her half-sister\\'s death in 1558, Elizabeth succeeded to the throne and set out to rule by good counsel. She depended heavily on a group of trusted advisers led by William Cecil, whom she created Baron Burghley. One of her first actions as queen was the establishment of an English Protestant church, of which she became the supreme governor. This era, later named the Elizabethan Religious Settlement, would evolve into the Church of England. It was expected that Elizabeth would marry and produce an heir; however, despite numerous courtships, she never did, and because of this she is sometimes referred to as the \"Virgin Queen\". She was eventually succeeded by her first cousin twice removed, James VI of Scotland, the son of Mary, Queen of Scots.\\nIn government, Elizabeth was more moderate than her father and siblings had been. One of her mottoes was video et taceo (\"I see and keep silent\"). In religion, she was relatively tolerant and avoided systematic persecution. After the pope declared her illegitimate in 1570, which in theory released English Catholics from allegiance to her, several conspiracies threatened her life, all of which were defeated with the help of her ministers\\' secret service, run by Sir Francis Walsingham. Elizabeth was cautious in foreign affairs, manoeuvring between the major powers of France and Spain. She half-heartedly supported a number of ineffective, poorly resourced military campaigns in the Netherlands, France, and Ireland. By the mid-1580s, England could no longer avoid war with Spain.\\nAs she grew older, Elizabeth became celebrated for her virginity. A cult of personality grew around her which was celebrated in the portraits, pageants, and literature of the day. Elizabeth\\'s reign became known as the Elizabethan era. The period is famous for the flourishing of English drama, led by playwrights such as William Shakespeare and Christopher Marlowe, the prowess of English maritime adventurers, such as Francis Drake and Walter Raleigh, and for the defeat of the Spanish Armada. Some historians depict Elizabeth as a short-tempered, sometimes indecisive ruler, who enjoyed more than her fair share of luck. Towards the end of her reign, a series of economic and military problems weakened her popularity. Elizabeth is acknowledged as a charismatic performer (\"Gloriana\") and a dogged survivor (\"Good Queen Bess\") in an era when government was ramshackle and limited, and when monarchs in neighbouring countries faced internal problems that jeopardised their thrones. After the short, disastrous reigns of her half-siblings, her 44 years on the throne provided welcome stability for the kingdom and helped to forge a sense of national identity.\\n\\nElizabeth was born at Greenwich Palace on 7 September 1533 and was named after her grandmothers, Elizabeth of York and Lady Elizabeth Howard. She was the second child of Henry VIII of England born in wedlock to survive infancy. Her mother was Henry\\'s second wife, Anne Boleyn. At birth,'),\n",
              " Document(metadata={'title': 'Portraiture of Elizabeth I', 'summary': 'The portraiture of Queen Elizabeth I (1533–1603) spans the evolution of English royal portraits in the early modern period (1400/1500-1800), from the earliest representations of simple likenesses to the later complex imagery used to convey the power and aspirations of the state, as well as of the monarch at its head.\\nEven the earliest portraits of Elizabeth I contain symbolic objects such as roses and prayer books that would have carried meaning to viewers of her day. Later portraits of Elizabeth layer the iconography of empire—globes, crowns, swords and columns—and representations of virginity and purity, such as moons and pearls, with classical allusions, to present a complex \"story\" that conveyed to Elizabethan era viewers the majesty and significance of the \\'Virgin Queen\\'.', 'source': 'https://en.wikipedia.org/wiki/Portraiture_of_Elizabeth_I'}, page_content='The portraiture of Queen Elizabeth I (1533–1603) spans the evolution of English royal portraits in the early modern period (1400/1500-1800), from the earliest representations of simple likenesses to the later complex imagery used to convey the power and aspirations of the state, as well as of the monarch at its head.\\nEven the earliest portraits of Elizabeth I contain symbolic objects such as roses and prayer books that would have carried meaning to viewers of her day. Later portraits of Elizabeth layer the iconography of empire—globes, crowns, swords and columns—and representations of virginity and purity, such as moons and pearls, with classical allusions, to present a complex \"story\" that conveyed to Elizabethan era viewers the majesty and significance of the \\'Virgin Queen\\'.\\n\\nTwo portraiture traditions had arisen in the Tudor court since the days of Elizabeth\\'s father, Henry VIII. The portrait miniature developed from the illuminated manuscript tradition. These small personal images were almost invariably painted from life over the space of a few days in watercolours on vellum, stiffened by being glued to a playing card. Panel paintings in oils on prepared wood surfaces were based on preparatory drawings and were usually executed at life size, as were oil paintings on canvas.\\nUnlike her contemporaries in France, Elizabeth never granted rights to produce her portrait to a single artist, although Nicholas Hilliard was appointed her official limner, or miniaturist and goldsmith. George Gower, a fashionable court portraitist created Serjeant Painter in 1581, was responsible for approving all portraits of the queen created by other artists from 1581 until his death in 1596.\\nElizabeth sat for a number of artists over the years, including Hilliard, Cornelis Ketel, Federico Zuccaro or Zuccari, Isaac Oliver, and most likely to Gower and Marcus Gheeraerts the Younger. Portraits were commissioned by the government as gifts to foreign monarchs and to show to prospective suitors. Courtiers commissioned heavily symbolic paintings to demonstrate their devotion to the queen, and the fashionable long galleries of later Elizabethan country houses were filled with sets of portraits. The studios of Tudor artists produced images of Elizabeth working from approved \"face patterns\", or approved drawings of the queen, to meet this growing demand for her image, an important symbol of loyalty and reverence for the crown in times of turbulence.\\n\\nBy far the most impressive models of portraiture available to English portraitists were the many portraits by Hans Holbein the Younger, the outstanding Northern portraitist of the first half of the 16th century, who had made two lengthy visits to England, and had been Henry VIII\\'s court artist. Holbein had accustomed the English court to the full-length life-size portrait, although none of his originals now survive. His great dynastic mural at Whitehall Palace, destroyed in 1698, and perhaps other original large portraits, would have been familiar to Elizabethan artists.\\nBoth Holbein and his great Italian contemporary Titian had combined great psychological penetration with a sufficiently majestic impression to satisfy their royal patrons. By his second visit, Holbein had already begun to move away from a strictly realist depiction; in his Jane Seymour, \"the figure is no longer seen as displacing with its bulk a recognizable section of space: it approaches rather to a flat pattern, made alive by a bounding and vital outline\". This tendency was to be taken much further by the later portraits of Elizabeth, where \"Likeness of feature and an interest in form and volume have gradually been abandoned in favour of an effect of splendid majesty obtained by decorative pattern, and the forms have been flattened accordingly\".\\n\\nTitian continued to paint royal portraits, especially of Philip II of Spain, until the 1570s, but in sharply reduced numbers after about 1555, and he refused to travel from Venice to do them. The fu'),\n",
              " Document(metadata={'title': 'Elizabeth of Russia', 'summary': \"Elizabeth or Elizaveta Petrovna (Russian: Елизаве́та Петро́вна; 29 December [O.S. 18 December] 1709 – 5 January [O.S. 25 December] 1762) was Empress of Russia from 1741 until her death in 1762. She remains one of the most popular Russian monarchs because of her decision not to execute a single person during her reign, her numerous construction projects, and her strong opposition to Prussian policies.\\nThe second-eldest daughter of Tsar Peter the Great (r.\\u20091682–1725), Elizabeth lived through the confused successions of her father's descendants following her half-brother Alexei's death in 1718. The throne first passed to her mother Catherine I of Russia (r.\\u20091725–1727), then to her nephew Peter II, who died in 1730 and was succeeded by Elizabeth's first cousin Anna (r.\\u20091730–1740). After the brief rule of Anna's infant great-nephew, Ivan VI, Elizabeth seized the throne with the military's support and declared her own nephew, the future Peter III, her heir.\\nDuring her reign Elizabeth continued the policies of her father and brought about a remarkable Age of Enlightenment in Russia. Her domestic policies allowed the nobles to gain dominance in local government while shortening their terms of service to the state. She encouraged Mikhail Lomonosov's foundation of the University of Moscow, the highest-ranking Russian educational institution. Her court became one of the most splendid in all Europe, especially regarding architecture: she modernised Russia's roads, encouraged Ivan Shuvalov's foundation of the Imperial Academy of Arts, and financed grandiose Baroque projects of her favourite architect, Bartolomeo Rastrelli, particularly in Peterhof Palace. The Winter Palace and the Smolny Cathedral in Saint Petersburg are among the chief monuments of her reign.\\nElizabeth led the Russian Empire during the two major European conflicts of her time: the War of Austrian Succession (1740–1748) and the Seven Years' War (1756–1763). She and diplomat Aleksey Bestuzhev-Ryumin solved the first event by forming an alliance with Austria and France, but indirectly caused the second. Russian troops enjoyed several victories against Prussia and briefly occupied Berlin, but when Frederick the Great was finally considering surrender in January 1762, the Russian Empress died. She was the last agnatic member of the House of Romanov to reign over the Russian Empire.\", 'source': 'https://en.wikipedia.org/wiki/Elizabeth_of_Russia'}, page_content='Elizabeth or Elizaveta Petrovna (Russian: Елизаве́та Петро́вна; 29 December [O.S. 18 December] 1709 – 5 January [O.S. 25 December] 1762) was Empress of Russia from 1741 until her death in 1762. She remains one of the most popular Russian monarchs because of her decision not to execute a single person during her reign, her numerous construction projects, and her strong opposition to Prussian policies.\\nThe second-eldest daughter of Tsar Peter the Great (r.\\u20091682–1725), Elizabeth lived through the confused successions of her father\\'s descendants following her half-brother Alexei\\'s death in 1718. The throne first passed to her mother Catherine I of Russia (r.\\u20091725–1727), then to her nephew Peter II, who died in 1730 and was succeeded by Elizabeth\\'s first cousin Anna (r.\\u20091730–1740). After the brief rule of Anna\\'s infant great-nephew, Ivan VI, Elizabeth seized the throne with the military\\'s support and declared her own nephew, the future Peter III, her heir.\\nDuring her reign Elizabeth continued the policies of her father and brought about a remarkable Age of Enlightenment in Russia. Her domestic policies allowed the nobles to gain dominance in local government while shortening their terms of service to the state. She encouraged Mikhail Lomonosov\\'s foundation of the University of Moscow, the highest-ranking Russian educational institution. Her court became one of the most splendid in all Europe, especially regarding architecture: she modernised Russia\\'s roads, encouraged Ivan Shuvalov\\'s foundation of the Imperial Academy of Arts, and financed grandiose Baroque projects of her favourite architect, Bartolomeo Rastrelli, particularly in Peterhof Palace. The Winter Palace and the Smolny Cathedral in Saint Petersburg are among the chief monuments of her reign.\\nElizabeth led the Russian Empire during the two major European conflicts of her time: the War of Austrian Succession (1740–1748) and the Seven Years\\' War (1756–1763). She and diplomat Aleksey Bestuzhev-Ryumin solved the first event by forming an alliance with Austria and France, but indirectly caused the second. Russian troops enjoyed several victories against Prussia and briefly occupied Berlin, but when Frederick the Great was finally considering surrender in January 1762, the Russian Empress died. She was the last agnatic member of the House of Romanov to reign over the Russian Empire.\\n\\nElizabeth was born at Kolomenskoye, near Moscow, Russia, on 18 December 1709 (O.S.). Her parents were Peter the Great, Tsar of Russia and Catherine. Catherine was the daughter of Samuel Skowroński, a subject of Grand Duchy of Lithuania. Although no documentary record exists, her parents were said to have married secretly at the Cathedral of the Holy Trinity in Saint Petersburg at some point between 23 October and 1 December 1707. Their official marriage was at Saint Isaac\\'s Cathedral in Saint Petersburg on 9 February 1712. On this day, the two children previously born to the couple (Anna and Elizabeth) were legitimised by their father and given the title of Tsarevna (\"princess\") on 6 March 1711. Of the twelve children born to Peter and Catherine (five sons and seven daughters), only the sisters survived to adulthood. They had one older surviving sibling, crown prince Alexei Petrovich, who was Peter\\'s son by his first wife, noblewoman Eudoxia Lopukhina.\\nAs a child, Elizabeth was the favourite of her father, whom she resembled both physically and temperamentally. Even though he adored his daughter, Peter did not devote time or attention to her education; having both a son and grandson from his first marriage to a noblewoman, he did not anticipate that a daughter born to his former maid might one day inherit the Russian throne, which had until that point never been occupied by a woman; as such, it was left to Catherine to raise the girls, a task met with considerable difficulty due to her own lack of education. Despite this, Elizabeth was still considered to be a bright girl, if not brilliant, and had')]"
            ]
          },
          "metadata": {},
          "execution_count": 21
        }
      ]
    },
    {
      "cell_type": "code",
      "source": [
        "from langchain.text_splitter import TokenTextSplitter\n",
        "text_splitter = TokenTextSplitter(chunk_size=512, chunk_overlap=24)\n",
        "documents = text_splitter.split_documents(raw_documents[:3])"
      ],
      "metadata": {
        "id": "vjjNab_ZGFea"
      },
      "execution_count": 22,
      "outputs": []
    },
    {
      "cell_type": "code",
      "source": [],
      "metadata": {
        "id": "a71wkIgxKX2q"
      },
      "execution_count": null,
      "outputs": []
    },
    {
      "cell_type": "code",
      "source": [
        "!pip install groq"
      ],
      "metadata": {
        "colab": {
          "base_uri": "https://localhost:8080/"
        },
        "id": "JFb7FwbnKX5i",
        "outputId": "0332789e-c667-4100-9d8b-224c794f4e44"
      },
      "execution_count": 23,
      "outputs": [
        {
          "output_type": "stream",
          "name": "stdout",
          "text": [
            "Collecting groq\n",
            "  Downloading groq-0.9.0-py3-none-any.whl (103 kB)\n",
            "\u001b[2K     \u001b[90m━━━━━━━━━━━━━━━━━━━━━━━━━━━━━━━━━━━━━━━━\u001b[0m \u001b[32m103.5/103.5 kB\u001b[0m \u001b[31m2.9 MB/s\u001b[0m eta \u001b[36m0:00:00\u001b[0m\n",
            "\u001b[?25hRequirement already satisfied: anyio<5,>=3.5.0 in /usr/local/lib/python3.10/dist-packages (from groq) (3.7.1)\n",
            "Requirement already satisfied: distro<2,>=1.7.0 in /usr/lib/python3/dist-packages (from groq) (1.7.0)\n",
            "Requirement already satisfied: httpx<1,>=0.23.0 in /usr/local/lib/python3.10/dist-packages (from groq) (0.27.0)\n",
            "Requirement already satisfied: pydantic<3,>=1.9.0 in /usr/local/lib/python3.10/dist-packages (from groq) (2.8.2)\n",
            "Requirement already satisfied: sniffio in /usr/local/lib/python3.10/dist-packages (from groq) (1.3.1)\n",
            "Requirement already satisfied: typing-extensions<5,>=4.7 in /usr/local/lib/python3.10/dist-packages (from groq) (4.12.2)\n",
            "Requirement already satisfied: idna>=2.8 in /usr/local/lib/python3.10/dist-packages (from anyio<5,>=3.5.0->groq) (3.7)\n",
            "Requirement already satisfied: exceptiongroup in /usr/local/lib/python3.10/dist-packages (from anyio<5,>=3.5.0->groq) (1.2.2)\n",
            "Requirement already satisfied: certifi in /usr/local/lib/python3.10/dist-packages (from httpx<1,>=0.23.0->groq) (2024.7.4)\n",
            "Requirement already satisfied: httpcore==1.* in /usr/local/lib/python3.10/dist-packages (from httpx<1,>=0.23.0->groq) (1.0.5)\n",
            "Requirement already satisfied: h11<0.15,>=0.13 in /usr/local/lib/python3.10/dist-packages (from httpcore==1.*->httpx<1,>=0.23.0->groq) (0.14.0)\n",
            "Requirement already satisfied: annotated-types>=0.4.0 in /usr/local/lib/python3.10/dist-packages (from pydantic<3,>=1.9.0->groq) (0.7.0)\n",
            "Requirement already satisfied: pydantic-core==2.20.1 in /usr/local/lib/python3.10/dist-packages (from pydantic<3,>=1.9.0->groq) (2.20.1)\n",
            "Installing collected packages: groq\n",
            "Successfully installed groq-0.9.0\n"
          ]
        }
      ]
    },
    {
      "cell_type": "code",
      "source": [
        "from groq import Groq\n",
        "\n",
        "from google.colab import userdata\n",
        "GROQ_API_KEY=userdata.get('GROQ_API_KEY')\n",
        "\n",
        "#os.environ[\"GROQ_API_KEY\"] = os.getenv(\"GROQ_API_KEY\") or getpass.getpass(\"Enter your Groq API key: \")\n",
        "\n",
        "groq_client = Groq(api_key=GROQ_API_KEY)"
      ],
      "metadata": {
        "id": "dLiVgMSEKX82"
      },
      "execution_count": 25,
      "outputs": []
    },
    {
      "cell_type": "code",
      "source": [
        "# from langchain_openai import ChatOpenAI\n",
        "# llm=ChatOpenAI(temperature=0, model_name=\"gpt-3.5-turbo-0125\")"
      ],
      "metadata": {
        "id": "4rpcvxsKGFg1"
      },
      "execution_count": 26,
      "outputs": []
    },
    {
      "cell_type": "code",
      "source": [
        "# llm"
      ],
      "metadata": {
        "colab": {
          "base_uri": "https://localhost:8080/"
        },
        "id": "39jFO8meLn_b",
        "outputId": "73f1e214-2aa1-4e63-95f5-f691de8268f4"
      },
      "execution_count": 27,
      "outputs": [
        {
          "output_type": "execute_result",
          "data": {
            "text/plain": [
              "ChatOpenAI(client=<openai.resources.chat.completions.Completions object at 0x7d36c3a41ae0>, async_client=<openai.resources.chat.completions.AsyncCompletions object at 0x7d36c3a431f0>, model_name='gpt-3.5-turbo-0125', temperature=0.0, openai_api_key=SecretStr('**********'), openai_proxy='')"
            ]
          },
          "metadata": {},
          "execution_count": 27
        }
      ]
    },
    {
      "cell_type": "code",
      "source": [
        "%pip install -qU langchain-groq"
      ],
      "metadata": {
        "id": "Icn6piXmQtG2"
      },
      "execution_count": 34,
      "outputs": []
    },
    {
      "cell_type": "code",
      "source": [
        "from langchain_groq import ChatGroq\n",
        "\n",
        "llm = ChatGroq(\n",
        "    temperature=0,\n",
        "    model=\"llama3-70b-8192\",\n",
        "    api_key=GROQ_API_KEY # Optional if not set as an environment variable\n",
        ")"
      ],
      "metadata": {
        "id": "ocW0kcS5Q0Pi"
      },
      "execution_count": 54,
      "outputs": []
    },
    {
      "cell_type": "code",
      "source": [
        "llm"
      ],
      "metadata": {
        "colab": {
          "base_uri": "https://localhost:8080/"
        },
        "id": "O3uT5_XNRH_7",
        "outputId": "1dafdcec-c182-4d6c-bf80-e75f78bb0f35"
      },
      "execution_count": 55,
      "outputs": [
        {
          "output_type": "execute_result",
          "data": {
            "text/plain": [
              "ChatGroq(client=<groq.resources.chat.completions.Completions object at 0x7d36c1c6cbe0>, async_client=<groq.resources.chat.completions.AsyncCompletions object at 0x7d36c1c6c220>, model_name='llama3-70b-8192', temperature=1e-08, groq_api_key=SecretStr('**********'))"
            ]
          },
          "metadata": {},
          "execution_count": 55
        }
      ]
    },
    {
      "cell_type": "code",
      "source": [
        "# from langchain_experimental.graph_transformers import LLMGraphTransformer\n",
        "# llm_transformer = LLMGraphTransformer(llm=llm)"
      ],
      "metadata": {
        "id": "RjRJbEUqGgGH"
      },
      "execution_count": 30,
      "outputs": []
    },
    {
      "cell_type": "code",
      "source": [
        "# llm_transformer"
      ],
      "metadata": {
        "colab": {
          "base_uri": "https://localhost:8080/"
        },
        "id": "KtitH5cnM8VQ",
        "outputId": "96a4db6a-c2f3-41b4-ca82-7a13975dc3ee"
      },
      "execution_count": 31,
      "outputs": [
        {
          "output_type": "execute_result",
          "data": {
            "text/plain": [
              "<langchain_experimental.graph_transformers.llm.LLMGraphTransformer at 0x7d36c3a43400>"
            ]
          },
          "metadata": {},
          "execution_count": 31
        }
      ]
    },
    {
      "cell_type": "code",
      "source": [
        "from langchain_experimental.graph_transformers import LLMGraphTransformer\n",
        "llm_transformer = LLMGraphTransformer(llm=llm)"
      ],
      "metadata": {
        "id": "1n56ylvJNAA-"
      },
      "execution_count": 38,
      "outputs": []
    },
    {
      "cell_type": "code",
      "source": [
        "graph_documents = llm_transformer.convert_to_graph_documents(documents)"
      ],
      "metadata": {
        "id": "Nd7RNPIMGgIk"
      },
      "execution_count": 39,
      "outputs": []
    },
    {
      "cell_type": "code",
      "source": [
        "graph_documents"
      ],
      "metadata": {
        "colab": {
          "base_uri": "https://localhost:8080/"
        },
        "id": "EmT0mJ0mGgMJ",
        "outputId": "73eb4a5e-e6fb-4996-cc4b-06cad0ca99d2"
      },
      "execution_count": 40,
      "outputs": [
        {
          "output_type": "execute_result",
          "data": {
            "text/plain": [
              "[GraphDocument(nodes=[Node(id='Elizabeth I', type='Person'), Node(id='Henry Viii', type='Person'), Node(id='Anne Boleyn', type='Person'), Node(id='Edward Vi', type='Person'), Node(id='Lady Jane Grey', type='Person'), Node(id='Mary', type='Person'), Node(id='William Cecil', type='Person'), Node(id='James Vi Of Scotland', type='Person'), Node(id='Mary, Queen Of Scots', type='Person'), Node(id='Sir Francis Walsingham', type='Person'), Node(id='England', type='Location'), Node(id='Ireland', type='Location'), Node(id='Scotland', type='Location'), Node(id='France', type='Location'), Node(id='Spain', type='Location'), Node(id='Netherlands', type='Location')], relationships=[Relationship(source=Node(id='Elizabeth I', type='Person'), target=Node(id='Henry Viii', type='Person'), type='PARENT'), Relationship(source=Node(id='Elizabeth I', type='Person'), target=Node(id='Anne Boleyn', type='Person'), type='PARENT'), Relationship(source=Node(id='Elizabeth I', type='Person'), target=Node(id='England', type='Location'), type='MONARCH'), Relationship(source=Node(id='Elizabeth I', type='Person'), target=Node(id='Ireland', type='Location'), type='MONARCH'), Relationship(source=Node(id='Edward Vi', type='Person'), target=Node(id='England', type='Location'), type='MONARCH'), Relationship(source=Node(id='Lady Jane Grey', type='Person'), target=Node(id='England', type='Location'), type='MONARCH'), Relationship(source=Node(id='Mary', type='Person'), target=Node(id='England', type='Location'), type='MONARCH'), Relationship(source=Node(id='William Cecil', type='Person'), target=Node(id='Elizabeth I', type='Person'), type='ADVISER'), Relationship(source=Node(id='James Vi Of Scotland', type='Person'), target=Node(id='Scotland', type='Location'), type='MONARCH'), Relationship(source=Node(id='Mary, Queen Of Scots', type='Person'), target=Node(id='Scotland', type='Location'), type='MONARCH'), Relationship(source=Node(id='Sir Francis Walsingham', type='Person'), target=Node(id='Elizabeth I', type='Person'), type='MINISTER')], source=Document(metadata={'title': 'Elizabeth I', 'summary': 'Elizabeth I (7 September 1533 – 24 March 1603) was Queen of England and Ireland from 17 November 1558 until her death in 1603. She was the last monarch of the House of Tudor.\\nElizabeth was the only surviving child of Henry VIII and his second wife, Anne Boleyn. When Elizabeth was two years old, her parents\\' marriage was annulled, her mother was executed, and Elizabeth was declared illegitimate. Henry restored her to the line of succession when she was 10, via the Third Succession Act 1543. After Henry\\'s death in 1547, Elizabeth\\'s younger half-brother Edward VI ruled until his own death in 1553, bequeathing the crown to a Protestant cousin, Lady Jane Grey, and ignoring the claims of his two half-sisters, the Catholic Mary and the younger Elizabeth, in spite of statutes to the contrary. Edward\\'s will was set aside within weeks of his death and Mary became queen, deposing and executing Jane. During Mary\\'s reign, Elizabeth was imprisoned for nearly a year on suspicion of supporting Protestant rebels.\\nUpon her half-sister\\'s death in 1558, Elizabeth succeeded to the throne and set out to rule by good counsel. She depended heavily on a group of trusted advisers led by William Cecil, whom she created Baron Burghley. One of her first actions as queen was the establishment of an English Protestant church, of which she became the supreme governor. This era, later named the Elizabethan Religious Settlement, would evolve into the Church of England. It was expected that Elizabeth would marry and produce an heir; however, despite numerous courtships, she never did, and because of this she is sometimes referred to as the \"Virgin Queen\". She was eventually succeeded by her first cousin twice removed, James VI of Scotland, the son of Mary, Queen of Scots.\\nIn government, Elizabeth was more moderate than her father and siblings had been. One of her mottoes was video et taceo (\"I see and keep silent\"). In religion, she was relatively tolerant and avoided systematic persecution. After the pope declared her illegitimate in 1570, which in theory released English Catholics from allegiance to her, several conspiracies threatened her life, all of which were defeated with the help of her ministers\\' secret service, run by Sir Francis Walsingham. Elizabeth was cautious in foreign affairs, manoeuvring between the major powers of France and Spain. She half-heartedly supported a number of ineffective, poorly resourced military campaigns in the Netherlands, France, and Ireland. By the mid-1580s, England could no longer avoid war with Spain.\\nAs she grew older, Elizabeth became celebrated for her virginity. A cult of personality grew around her which was celebrated in the portraits, pageants, and literature of the day. Elizabeth\\'s reign became known as the Elizabethan era. The period is famous for the flourishing of English drama, led by playwrights such as William Shakespeare and Christopher Marlowe, the prowess of English maritime adventurers, such as Francis Drake and Walter Raleigh, and for the defeat of the Spanish Armada. Some historians depict Elizabeth as a short-tempered, sometimes indecisive ruler, who enjoyed more than her fair share of luck. Towards the end of her reign, a series of economic and military problems weakened her popularity. Elizabeth is acknowledged as a charismatic performer (\"Gloriana\") and a dogged survivor (\"Good Queen Bess\") in an era when government was ramshackle and limited, and when monarchs in neighbouring countries faced internal problems that jeopardised their thrones. After the short, disastrous reigns of her half-siblings, her 44 years on the throne provided welcome stability for the kingdom and helped to forge a sense of national identity.\\n\\nElizabeth was born at Greenwich Palace on 7 September 1533 and was named after her grandmothers, Elizabeth of York and Lady Elizabeth Howard. She was the second child of Henry VIII of England born in wedlock to survive infancy. Her mother was Henry\\'s second wife, Anne Boleyn. At birth, Elizabeth was the heir presumptive to the English throne. Her elder half-sister Mary had lost her position as a legitimate heir when Henry annulled his marriage to Mary\\'s mother, Catherine of Aragon, to marry Anne, with the intent to sire a male heir and ensure the Tudor succession. She was baptised on 10 September 1533, and her godparents were Thomas Cranmer, Archbishop of Canterbury; Henry Courtenay, Marquess of Exeter; Elizabeth Stafford, Duchess of Norfolk; and Margaret Wotton, Dowager Marchioness of Dorset. A canopy was carried at the ceremony over the infant by her uncle George Boleyn, Viscount Rochford; John Hussey, Baron Hussey of Sleaford; Lord Thomas Howard; and William Howard, Baron Howard of Effingham.\\nElizabeth was two years and eight months old when her mother was beheaded on 19 May 1536, four months after Catherine of Aragon\\'s death from natural causes. Elizabeth was declared illegitimate and deprived of her place in the royal succession. Eleven days after Anne Boleyn\\'s execution, Henry married Jane Seymour. Queen Jane died the next year shortly after the birth of their son, Edward, who was the undisputed heir apparent to the throne. Elizabeth was placed in her half-brother\\'s household and carried the chrisom, or baptismal cloth, at his christening.\\n\\nElizabeth\\'s first governess, Margaret Bryan, wrote that she was \"as toward a child and as gentle of conditions as ever I knew any in my life\". Catherine Champernowne, better known by her later, married name of Catherine \"Kat\" Ashley, was appointed as Elizabeth\\'s governess in 1537, and she remained Elizabeth\\'s friend until her death in 1565. Champernowne taught Elizabeth four languages: French, Dutch, Italian, and Spanish. By the time William Grindal became her tutor in 1544, Elizabeth could write English, Latin, and Italian. Under Grindal, a talented and skilful tutor, she also progressed in French and Greek. By the age of 12, she was able to translate her stepmother Catherine Parr\\'s religious work Prayers or Meditations from English into Italian, Latin, and French, which she presented to her father as a New Year\\'s gift. From her teenage years and throughout her life, she translated works in Latin and Greek by numerous classical authors, including the Pro Marcello of Cicero, the De consolatione philosophiae of Boethius, a treatise by Plutarch, and the Annals of Tacitus. A translation of Tacitus from Lambeth Palace Library, one of only four surviving English translations from the early modern era, was confirmed as Elizabeth\\'s own in 2019, after a detailed analysis of the handwriting and paper was undertaken.\\nAfter Grindal died in 1548, Elizabeth received her education under her brother Edward\\'s tutor, Roger Ascham, a sympathetic teacher who believed that learning should be engaging. Current knowledge of Elizabeth\\'s schooling and precocity comes largely from Ascham\\'s memoirs. By the time her formal education ended in 1550, Elizabeth was one of the best educated women of her generation. At the end of her life, she was believed to speak the Welsh, Cornish, Scottish, and Irish languages in addition to those mentioned above. The Venetian ambassador stated in 1603 that she \"possessed [these] languages so thoroughly that each appeared to be her native tongue\". Historian Mark Stoyle suggests that she was probably taught Cornish by William Killigrew, Groom of the Privy Chamber and later Chamberlain of the Exchequer.\\n\\nHenry VIII died in 1547 and Elizabeth\\'s half-brother, Edward VI, became king at the age of nine. Catherine Parr, Henry\\'s widow, soon married Thomas Seymour, Baron Seymour of Sudeley, Edward VI\\'s uncle and the brother of Lord Protector Edward Seymour, Duke of Somerset. The couple took Elizabeth into their household at Chelsea. There Elizabeth experienced an emotional crisis that some historians believe affected her for the rest of her life. Thomas Seymour engaged in romps and horseplay with the 14-year-old Elizabeth, including entering her bedroom in his nightgown, tickling her, and slapping her on the buttocks. Elizabeth rose early and surrounded herself with maids to avoid his unwelcome morning visits. Parr, rather than confront her husband over his inappropriate activities, joined in. Twice she accompanied him in tickling Elizabeth, and once held her while he cut her black gown \"into a thousand pieces\". However, after Parr discovered the pair in an embrace, she ended this state of affairs. In May 1548, Elizabeth was sent away.\\nThomas Seymour nevertheless continued scheming to control the royal family and tried to have himself appointed the governor of the King\\'s person. When Parr died after childbirth on 5 September 1548, he renewed his attentions towards Elizabeth, intent on marrying her. Her governess Kat Ashley, who was fond of Seymour, sought to convince Elizabeth to take him as her husband. She tried to convince Elizabeth to write to Seymour and \"comfort him in his sorrow\", but Elizabeth claimed that Thomas was not so saddened by her stepmother\\'s death as to need comfort.\\nIn January 1549, Seymour was arrested and imprisoned in the Tower on suspicion of conspiring to depose his brother Somerset as Protector, marry Lady Jane Grey to King Edward VI, and take Elizabeth as his own wife. Elizabeth, living at Hatfield House, would admit nothing. Her stubbornness exasperated her interrogator, Robert Tyrwhitt, who reported, \"I do see it in her face that she is guilty\". Seymour was beheaded on 20 March 1549.\\n\\nEdward VI died on 6 July 1553, aged 15. His will ignored the Succession to the Crown Act 1543, excluded both Mary and Elizabeth from the succession, and instead declared as his heir Lady Jane Grey, granddaughter of Henry VIII\\'s younger sister Mary Tudor, Queen of France. Jane was proclaimed queen by the privy council, but her support quickly crumbled, and she was deposed after nine days. On 3 August 1553, Mary rode triumphantly into London, with Elizabeth at her side.\\nThe show of solidarity between the sisters did not last long. Mary, a devout Catholic, was determined to crush the Protestant faith in which Elizabeth had been educated, and she ordered that everyone attend Catholic Mass; Elizabeth had to outwardly conform. Mary\\'s initial popularity ebbed away in 1554 when she announced plans to marry Philip of Spain, the son of Holy Roman Emperor Charles V and an active Catholic. Discontent spread rapidly through the country, and many looked to Elizabeth as a focus for their opposition to Mary\\'s religious policies.\\nIn January and February 1554, Wyatt\\'s rebellion broke out; it was soon suppressed. Elizabeth was brought to court and interrogated regarding her role, and on 18 March, she was imprisoned in the Tower of London. Elizabeth fervently protested her innocence. Though it is unlikely that she had plotted with the rebels, some of them were known to have approached her. Mary\\'s closest confidant, Emperor Charles\\'s ambassador Simon Renard, argued that her throne would never be safe while Elizabeth lived; and Lord Chancellor Stephen Gardiner, worked to have Elizabeth put on trial. Elizabeth\\'s supporters in the government, including William Paget, Baron Paget, convinced Mary to spare her sister in the absence of hard evidence against her. Instead, on 22 May, Elizabeth was moved from the Tower to Woodstock, where she was to spend almost a year under house arrest in the charge of Henry Bedingfeld. Crowds cheered her all along the way.\\nOn 17 April 1555, Elizabeth was recalled to court to attend the final stages of Mary\\'s apparent pregnancy. If Mary and her child died, Elizabeth would become queen, but if Mary gave birth to a healthy child, Elizabeth\\'s chances of becoming queen would recede sharply. When it became clear that Mary was not pregnant, no one believed any longer that she could have a child. Elizabeth\\'s succession seemed assured.\\nKing Philip, who ascended the Spanish throne in 1556, acknowledged the new political reality and cultivated his sister-in-law. She was a better ally than the chief alternative, Mary, Queen of Scots, who had grown up in France and was betrothed to the Dauphin of France. When his wife fell ill in 1558, Philip sent the Count of Feria to consult with Elizabeth. This interview was conducted at Hatfield House, where she had returned to live in October 1555. By October 1558, Elizabeth was already making plans for her government. Mary recognised Elizabeth as her heir on 6 November 1558, and Elizabeth became queen when Mary died on 17 November.\\n\\nElizabeth became queen at the age of 25, and declared her intentions to her council and other peers who had come to Hatfield to swear allegiance. The speech contains the first record of her adoption of the medieval political theology of the sovereign\\'s \"two bodies\": the body natural and the body politic:\\n\\nMy lords, the law of nature moves me to sorrow for my sister; the burden that is fallen upon me makes me amazed, and yet, considering I am God\\'s creature, ordained to obey His appointment, I will thereto yield, desiring from the bottom of my heart that I may have assistance of His grace to be the minister of His heavenly will in this office now committed to me. And as I am but one body naturally considered, though by His permission a body politic to govern, so shall I desire you all ... to be assistant to me, that I with my ruling and you with your service may make a good account to Almighty God and leave some comfort to our posterity on earth. I mean to direct all my actions by good advice and counsel.\\nAs her triumphal progress wound through the city on the eve of the coronation ceremony, she was welcomed wholeheartedly by the citizens and greeted by orations and pageants, most with a strong Protestant flavour. Elizabeth\\'s open and gracious responses endeared her to the spectators, who were \"wonderfully ravished\". The following day, 15 January 1559, a date chosen by her astrologer John Dee, Elizabeth was crowned and anointed by Owen Oglethorpe, the Catholic bishop of Carlisle, in Westminster Abbey. She was then presented for the people\\'s acceptance, amidst a deafening noise of organs, fifes, trumpets, drums, and bells. Although Elizabeth was welcomed as queen in England, the country was still in a state of anxiety over the perceived Catholic threat at home and overseas, as well as the choice of whom she would marry.\\n\\nElizabeth\\'s personal religious convictions have been much debated by scholars. She was a Protestant, but kept Catholic symbols (such as the crucifix), and downplayed the role of sermons in defiance of a key Protestant belief.\\nElizabeth and her advisers perceived the threat of a Catholic crusade against heretical England. The queen therefore sought a Protestant solution that would not offend Catholics too greatly while addressing the desires of English Protestants, but she would not tolerate the Puritans, who were pushing for far-reaching reforms. As a result, the Parliament of 1559 started to legislate for a church based on the Protestant settlement of Edward VI, with the monarch as its head, but with many Catholic elements, such as vestments.\\nThe House of Commons backed the proposals strongly, but the bill of supremacy met opposition in the House of Lords, particularly from the bishops. Elizabeth was fortunate that many bishoprics were vacant at the time, including the Archbishopric of Canterbury. This enabled supporters amongst peers to outvote the bishops and conservative peers. Nevertheless, Elizabeth was forced to accept the title of Supreme Governor of the Church of England rather than the more contentious title of Supreme Head, which many thought unacceptable for a woman to bear. The new Act of Supremacy became law on 8 May 1559. All public officials were forced to swear an oath of loyalty to the monarch as the supreme governor or risk disqualification from office; the heresy laws were repealed, to avoid a repeat of the persecution of dissenters by Mary. At the same time, a new Act of Uniformity was passed, which made attendance at church and the use of the 1559 Book of Common Prayer (an adapted version of the 1552 prayer book) compulsory, though the penalties for recusancy, or failure to attend and conform, were not extreme.\\n\\nFrom the start of Elizabeth\\'s reign it was expected that she would marry, and the question arose to whom. Although she received many offers, she never married and remained childless; the reasons for this are not clear. Historians have speculated that Thomas Seymour had put her off sexual relationships. She considered several suitors until she was about fifty. Her last courtship was with Francis, Duke of Anjou, 22 years her junior. While risking possible loss of power like her sister, who played into the hands of King Philip II of Spain, marriage offered the chance of an heir. However, the choice of a husband might also provoke political instability or even insurrection.\\n\\nIn the spring of 1559, it became evident that Elizabeth was in love with her childhood friend Robert Dudley. It was said that his wife Amy was suffering from a \"malady in one of her breasts\" and that the queen would like to marry Robert if his wife should die. By the autumn of 1559, several foreign suitors were vying for Elizabeth\\'s hand; their impatient envoys engaged in ever more scandalous talk and reported that a marriage with her favourite was not welcome in England: \"There is not a man who does not cry out on him and her with indignation ... she will marry none but the favoured Robert.\" Amy Dudley died in September 1560, from a fall from a flight of stairs and, despite the coroner\\'s inquest finding of accident, many people suspected her husband of having arranged her death so that he could marry the queen. Elizabeth seriously considered marrying Dudley for some time. However, William Cecil, Nicholas Throckmorton, and some conservative peers made their disapproval unmistakably clear. There were even rumours that the nobility would rise if the marriage took place.\\nAmong other marriage candidates being considered for the queen, Robert Dudley continued to be regarded as a possible candidate for nearly another decade. Elizabeth was extremely jealous of his affections, even when she no longer meant to marry him herself. She raised Dudley to the peerage as Earl of Leicester in 1564. In 1578, he finally married Lettice Knollys, to whom the queen reacted with repeated scenes of displeasure and lifelong hatred. Still, Dudley always \"remained at the centre of [Elizabeth\\'s] emotional life\", as historian Susan Doran has described the situation. He died shortly after the defeat of the Spanish Armada in 1588. After Elizabeth\\'s own death, a note from him was found among her most personal belongings, marked \"his last letter\" in her handwriting.\\n\\nMarriage negotiations constituted a key element in Elizabeth\\'s foreign policy. She turned down the hand of Philip, her half-sister\\'s widower, early in 1559 but for several years entertained the proposal of King Eric XIV of Sweden. Earlier in Elizabeth\\'s life, a Danish match for her had been discussed; Henry VIII had proposed one with the Danish prince Adolf, Duke of Holstein-Gottorp, in 1545, and Edward Seymour, Duke of Somerset, suggested a marriage with Prince Frederick (later Frederick II) several years later, but the negotiations had abated in 1551. In the years around 1559, a Dano-English Protestant alliance was considered, and to counter Sweden\\'s proposal, King Frederick II proposed to Elizabeth in late 1559.\\n\\nFor several years, she seriously negotiated to marry Philip\\'s cousin Charles II, Archduke of Austria. By 1569, relations with the Habsburgs had deteriorated. Elizabeth considered marriage to two French Valois princes in turn, first Henry, Duke of Anjou, and then from 1572 to 1581 his brother Francis, Duke of Anjou, formerly Duke of Alençon. This last proposal was tied to a planned alliance against Spanish control of the Southern Netherlands. Elizabeth seems to have taken the courtship seriously for a time, wearing  a frog-shaped earring that Francis had sent her.\\nIn 1563, Elizabeth told an imperial envoy: \"If I follow the inclination of my nature, it is this: beggar-woman and single, far rather than queen and married\". Later in the year, following Elizabeth\\'s illness with smallpox, the succession question became a heated issue in Parliament. Members urged the queen to marry or nominate an heir, to prevent a civil war upon her death. She refused to do either. In April she prorogued the Parliament, which did not reconvene until she needed its support to raise taxes in 1566.\\nHaving previously promised to marry, she told an unruly House:\\n\\nI will never break the word of a prince spoken in public place, for my honour\\'s sake. And therefore I say again, I will marry as soon as I can conveniently, if God take not him away with whom I mind to marry, or myself, or else some other great let [obstruction] happen.\\nBy 1570, senior figures in the government privately accepted that Elizabeth would never marry or name a successor. William Cecil was already seeking solutions to the succession problem. For her failure to marry, Elizabeth was often accused of irresponsibility. Her silence, however, strengthened her own political security: she knew that if she named an heir, her throne would be vulnerable to a coup; she remembered the way that \"a second person, as I have been\" had been used as the focus of plots against her predecessor.\\n\\nElizabeth\\'s unmarried status inspired a cult of virginity related to that of the Virgin Mary. In poetry and portraiture, she was depicted as a virgin, a goddess, or both, not as a normal woman. At first, only Elizabeth made a virtue of her ostensible virginity: in 1559, she told the Commons, \"And, in the end, this shall be for me sufficient, that a marble stone shall declare that a queen, having reigned such a time, lived and died a virgin\". Later on, poets and writers took up the theme and developed an iconography that exalted Elizabeth. Public tributes to the Virgin by 1578 acted as a coded assertion of opposition to the queen\\'s marriage negotiations with the Duke of Alençon. Ultimately, Elizabeth would insist she was married to her kingdom and subjects, under divine protection. In 1599, she spoke of \"all my husbands, my good people\".\\n\\nThis claim of virginity was not universally accepted. Catholics accused Elizabeth of engaging in \"filthy lust\" that symbolically defiled the nation along with her body. Henry IV of France said that one of the great questions of Europe was \"whether Queen Elizabeth was a maid or no\".\\nA central issue, when it comes to the question of Elizabeth\\'s virginity, was whether the queen ever consummated her love affair with Robert Dudley. In 1559, she had Dudley\\'s bedchambers moved next to her own apartments. In 1561, she was mysteriously bedridden with an illness that caused her body to swell.\\nIn 1587, a young man calling himself Arthur Dudley was arrested on the coast of Spain under suspicion of being a spy. The man claimed to be the illegitimate son of Elizabeth and Robert Dudley, with his age being consistent with birth during the 1561 illness. He was taken to Madrid for investigation, where he was examined by Francis Englefield, a Catholic aristocrat exiled to Spain and secretary to King Philip II. Three letters exist today describing the interview, detailing what Arthur proclaimed to be the story of his life, from birth in the royal palace to the time of his arrival in Spain. However, this failed to convince the Spanish: Englefield admitted to King Philip that Arthur\\'s \"claim at present amounts to nothing\", but suggested that \"he should not be allowed to get away, but [...] kept very secure.\" The king agreed, and Arthur was never heard from again. Modern scholarship dismisses the story\\'s basic premise as \"impossible\", and asserts that Elizabeth\\'s life was so closely observed by contemporaries that she could not have hidden a pregnancy.\\n\\nElizabeth\\'s first policy toward Scotland was to oppose the French presence there. She feared that the French planned to invade England and put her Catholic cousin Mary, Queen of Scots, on the throne. Mary was considered by many to be the heir to the English crown, being the granddaughter of Henry VIII\\'s elder sister, Margaret. Mary boasted being \"the nearest kinswoman she hath\". Elizabeth was persuaded to send a force into Scotland to aid the Protestant rebels, and though the campaign was inept, the resulting Treaty of Edinburgh of July 1560 removed the French threat in the north. When Mary returned to Scotland in 1561 to take up the reins of power, the country had an established Protestant church and was run by a council of Protestant nobles supported by Elizabeth. Mary refused to ratify the treaty.\\nIn 1563, Elizabeth proposed her own suitor, Robert Dudley, as a husband for Mary, without asking either of the two people concerned. Both proved unenthusiastic, and in 1565, Mary married Henry Stuart, Lord Darnley, who carried his own claim to the English throne. The marriage was the first of a series of errors of judgement by Mary that handed the victory to the Scottish Protestants and to Elizabeth. Darnley quickly became unpopular and was murdered in February 1567 by conspirators almost certainly led by James Hepburn, Earl of Bothwell. Shortly afterwards, on 15 May 1567, Mary married Bothwell, arousing suspicions that she had been party to the murder of her husband. Elizabeth confronted Mary about the marriage, writing to her:\\n\\nHow could a worse choice be made for your honour than in such haste to marry such a subject, who besides other and notorious lacks, public fame has charged with the murder of your late husband, besides the touching of yourself also in some part, though we trust in that behalf falsely.\\nThese events led rapidly to Mary\\'s defeat and imprisonment in Lochleven Castle. The Scottish lords forced her to abdicate in favour of her son James VI, who had been born in 1566. James was taken to Stirling Castle to be raised as a Protestant. Mary escaped in 1568 but after a defeat at Langside sailed to England, where she had once been assured of support from Elizabeth. Elizabeth\\'s first instinct was to restore her fellow monarch, but she and her council instead chose to play safe. Rather than risk returning Mary to Scotland with an English army or sending her to France and the Catholic enemies of England, they detained her in England, where she was imprisoned for the next nineteen years.\\n\\nMary was soon the focus for rebellion. In 1569 there was a major Catholic rising in the North; the goal was to free Mary, marry her to Thomas Howard, Duke of Norfolk, and put her on the English throne. After the rebels\\' defeat, over 750 of them were executed on Elizabeth\\'s orders. In the belief that the revolt had been successful, Pope Pius V issued a bull in 1570, titled Regnans in Excelsis, which declared \"Elizabeth, the pretended Queen of England and the servant of crime\" to be excommunicated and a heretic, releasing all her subjects from any allegiance to her. Catholics who obeyed her orders were threatened with excommunication. The papal bull provoked legislative initiatives against Catholics by Parliament, which were, however, mitigated by Elizabeth\\'s intervention. In 1581, to convert English subjects to Catholicism with \"the intent\" to withdraw them from their allegiance to Elizabeth was made a treasonable offence, carrying the death penalty. From the 1570s missionary priests from continental seminaries went to England secretly in the cause of the \"reconversion of England\". Many suffered execution, engendering a cult of martyrdom.\\nRegnans in Excelsis gave English Catholics a strong incentive to look to Mary as the legitimate sovereign of England. Mary may not have been told of every Catholic plot to put her on the English throne, but from the Ridolfi Plot of 1571 (which caused Mary\\'s suitor, the Duke of Norfolk, to lose his head) to the Babington Plot of 1586, Elizabeth\\'s spymaster Francis Walsingham and the royal council keenly assembled a case against her. At first, Elizabeth resisted calls for Mary\\'s death. By late 1586, she had been persuaded to sanction Mary\\'s trial and execution on the evidence of letters written during the Babington Plot. Elizabeth\\'s proclamation of the sentence announced that \"the said Mary, pretending title to the same Crown, had compassed and imagined within the same realm diverse things tending to the hurt, death and destruction of our royal person.\" On 8 February 1587, Mary was beheaded at Fotheringhay Castle, Northamptonshire. After the execution, Elizabeth claimed that she had not intended for the signed execution warrant to be dispatched, and blamed her secretary, William Davison, for implementing it without her knowledge. The sincerity of Elizabeth\\'s remorse and whether or not she wanted to delay the warrant have been called into question both by her contemporaries and later historians.\\n\\nElizabeth\\'s foreign policy was largely defensive. The exception was the English occupation of Le Havre from October 1562 to June 1563, which ended in failure when Elizabeth\\'s Huguenot allies joined with the Catholics to retake the port. Elizabeth\\'s intention had been to exchange Le Havre for Calais, lost to France in January 1558. Only through the activities of her fleets did Elizabeth pursue an aggressive policy. This paid off in the war against Spain, 80% of which was fought at sea. She knighted Francis Drake after his circumnavigation of the globe from 1577 to 1580, and he won fame for his raids on Spanish ports and fleets. An element of piracy and self-enrichment drove Elizabethan seafarers, over whom the queen had little control.\\n\\nAfter the occupation and loss of Le Havre in 1562–1563, Elizabeth avoided military expeditions on the continent until 1585, when she sent an English army to aid the Protestant Dutch rebels against Philip II. This followed the deaths in 1584 of the queen\\'s allies William the Silent, Prince of Orange, and the Duke of Anjou, and the surrender of a series of Dutch towns to Alexander Farnese, Duke of Parma, Philip\\'s governor of the Spanish Netherlands. In December 1584, an alliance between Philip II and the French Catholic League at Joinville undermined the ability of Anjou\\'s brother, Henry III of France, to counter Spanish domination of the Netherlands. It also extended Spanish influence along the channel coast of France, where the Catholic League was strong, and exposed England to invasion. The siege of Antwerp in the summer of 1585 by the Duke of Parma necessitated some reaction on the part of the English and the Dutch. The outcome was the Treaty of Nonsuch of August 1585, in which Elizabeth promised military support to the Dutch. The treaty marked the beginning of the Anglo-Spanish War, which lasted until the Treaty of London in 1604.\\nThe expedition was led by Elizabeth\\'s former suitor, the Earl of Leicester. Elizabeth from the start did not really back this course of action. Her strategy, to support the Dutch on the surface with an English army, while beginning secret peace talks with Spain within days of Leicester\\'s arrival in Holland, had necessarily to be at odds with Leicester\\'s, who had set up a protectorate and was expected by the Dutch to fight an active campaign. Elizabeth, on the other hand, wanted him \"to avoid at all costs any decisive action with the enemy\". He enraged Elizabeth by accepting the post of Governor-General from the Dutch States General. Elizabeth saw this as a Dutch ploy to force her to accept sovereignty over the Netherlands, which so far she had always declined. She wrote to Leicester:\\n\\nWe could never have imagined (had we not seen it fall out in experience) that a man raised up by ourself and extraordinarily favoured by us, above any other subject of this land, would have in so contemptible a sort broken our commandment in a cause that so greatly touches us in honour ... And therefore our express pleasure and commandment is that, all delays and excuses laid apart, you do presently upon the duty of your allegiance obey and fulfill whatsoever the bearer hereof shall direct you to do in our name. Whereof fail you not, as you will answer the contrary at your utmost peril.\\nElizabeth\\'s \"commandment\" was that her emissary read out her letters of disapproval publicly before the Dutch Council of State, Leicester having to stand nearby. This public humiliation of her \"Lieutenant-General\" combined with her continued talks for a separate peace with Spain irreversibly undermined Leicester\\'s standing among the Dutch. The military campaign was severely hampered by Elizabeth\\'s repeated refusals to send promised funds for her starving soldiers. Her unwillingness to commit herself to the cause, Leicester\\'s own shortcomings as a political and military leader, and the faction-ridden and chaotic situation of Dutch politics led to the failure of the campaign. Leicester finally resigned his command in December 1587.\\n\\nMeanwhile, Francis Drake had undertaken a major voyage against Spanish ports and ships in the Caribbean in 1585 and 1586. In 1587 he made a successful raid on Cádiz, destroying the Spanish fleet of war ships intended for the Enterprise of England, as Philip II had decided to take the war to England.\\nOn 12 July 1588, the Spanish Armada, a great fleet of ships, set sail for the channel, planning to ferry a Spanish invasion force under the Duke of Parma to the coast of southeast England from the Netherlands. The armada was defeated by a combination of miscalculation, misfortune, and an attack of English fire ships off Gravelines at midnight on 28–29 July (7–8 August New Style), which dispersed the Spanish ships to the northeast. The Armada straggled home to Spain in shattered remnants, after disastrous losses on the coast of Ireland (after some ships had tried to struggle back to Spain via the North Sea, and then back south past the west coast of Ireland). Unaware of the Armada\\'s fate, English militias mustered to defend the country under the Earl of Leicester\\'s command. Leicester invited Elizabeth to inspect her troops at Tilbury in Essex on 8 August. Wearing a silver breastplate over a white velvet dress, she addressed them in her Speech to the Troops at Tilbury:\\n\\nMy loving people, we have been persuaded by some that are careful of our safety, to take heed how we commit ourself to armed multitudes for fear of treachery; but I assure you, I do not desire to live to distrust my faithful and loving people ... I know I have the body but of a weak and feeble woman, but I have the heart and stomach of a king, and of a King of England too, and think foul scorn that Parma or Spain, or any Prince of Europe should dare to invade the borders of my realm.\\n\\nWhen no invasion came, the nation rejoiced. Elizabeth\\'s procession to a thanksgiving service at St Paul\\'s Cathedral rivalled that of her coronation as a spectacle. The defeat of the armada was a potent propaganda victory, both for Elizabeth and for Protestant England. The English took their delivery as a symbol of God\\'s favour and of the nation\\'s inviolability under a virgin queen. However, the victory was not a turning point in the war, which continued and often favoured Spain. The Spanish still controlled the southern provinces of the Netherlands, and the threat of invasion remained. Walter Raleigh claimed after her death that Elizabeth\\'s caution had impeded the war against Spain:\\n\\nIf the late queen would have believed her men of war as she did her scribes, we had in her time beaten that great empire in pieces and made their kings of figs and oranges as in old times. But her Majesty did all by halves, and by petty invasions taught the Spaniard how to defend himself, and to see his own weakness.\\nThough some historians have criticised Elizabeth on similar grounds, Elizabeth had good reason not to place too much trust in her commanders, who once in action tended, as she put it herself, \"to be transported with an haviour of vainglory\".\\nIn 1589, the year after the Spanish Armada, Elizabeth sent to Spain the English Armada or Counter Armada with 23,375 men and 150 ships, led by Francis Drake as admiral and John Norreys as general. The English fleet suffered a catastrophic defeat with 11,000–15,000 killed, wounded or died of disease and 40 ships sunk or captured. The advantage England had won upon the destruction of the Spanish Armada was lost, and the Spanish victory marked a revival of Philip II\\'s naval power through the next decade.\\n\\nWhen the Protestant Henry IV inherited the French throne in 1589, Elizabeth sent him military support. It was her first venture into France since the retreat from Le Havre in 1563. Henry\\'s succession was strongly contested by the Catholic League and by Philip II, and Elizabeth feared a Spanish takeover of the channel ports.\\nThe subsequent English campaigns in France, however, were disorganised and ineffective. Peregrine Bertie, largely ignoring Elizabeth\\'s orders, roamed northern France to little effect, with an army of 4,000 men. He withdrew in disarray in December 1589, having lost half his troops. In 1591, the campaign of John Norreys, who led 3,000 men to Brittany, was even more of a disaster. As for all such expeditions, Elizabeth was unwilling to invest in the supplies and reinforcements requested by the commanders. Norreys left for London to plead in person for more support. In his absence, a Catholic League army almost destroyed the remains of his army at Craon, north-west France, in May 1591.\\nIn July, Elizabeth sent out another force under Robert Devereux, Earl of Essex, to help Henry IV in besieging Rouen. The result was just as dismal. Essex accomplished nothing and returned home in January 1592. Henry abandoned the siege in April. As usual, Elizabeth lacked control over her commanders once they were abroad. \"Where he is, or what he doth, or what he is to do,\" she wrote of Essex, \"we are ignorant\".\\n\\nAlthough Ireland was one of her two kingdoms, Elizabeth faced a hostile, and in places virtually autonomous, Irish population that adhered to Catholicism and was willing to defy her authority and plot with her enemies. Her policy there was to grant land to her courtiers and prevent the rebels from giving Spain a base from which to attack England. In the course of a series of uprisings, Crown forces pursued scorched-earth tactics, burning the land and slaughtering man, woman and child. During a revolt in Munster led by Gerald FitzGerald, in 1582, an estimated 30,000 Irish people starved to death. The poet and colonist Edmund Spenser wrote that the victims \"were brought to such wretchedness as that any stony heart would have rued the same\". Elizabeth advised her commanders that the Irish, \"that rude and barbarous nation\", be well treated, but she or her commanders showed no remorse when force and bloodshed served their authoritarian purpose.\\nBetween 1594 and 1603, Elizabeth faced her most severe test in Ireland during the Nine Years\\' War, a revolt that took place at the height of hostilities with Spain, who backed the rebel leader, Hugh O\\'Neill. In spring 1599, Elizabeth sent Robert Devereux, to put the revolt down. To her frustration, he made little progress and returned to England in defiance of her orders. He was replaced by Charles Blount, who took three years to defeat the rebels. O\\'Neill finally surrendered in 1603, a few days after Elizabeth\\'s death. Soon afterwards, a peace treaty was signed between England and Spain.\\n\\nElizabeth continued to maintain the diplomatic relations with the Tsardom of Russia that were originally established by her half-brother, Edward VI. She often wrote to Tsar Ivan the Terrible on amicable terms, though the Tsar was often annoyed by her focus on commerce rather than on the possibility of a military alliance. Ivan even proposed to her once, and during his later reign, asked for a guarantee to be granted asylum in England should his rule be jeopardised. English merchant and explorer Anthony Jenkinson, who began his career as a representative of the Muscovy Company, became the queen\\'s special ambassador to the court of Tsar Ivan.\\nUpon his death in 1584, Ivan was succeeded by his son Feodor I. Unlike his father, Feodor had no enthusiasm in maintaining exclusive trading rights with England. He declared his kingdom open to all foreigners, and dismissed the English ambassador Jerome Bowes, whose pomposity had been tolerated by Ivan. Elizabeth sent a new ambassador, Dr. Giles Fletcher, to demand from the regent Boris Godunov that he convince the Tsar to reconsider. The negotiations failed, due to Fletcher addressing Feodor with two of his many titles omitted. Elizabeth continued to appeal to Feodor in half appealing, half reproachful letters. She proposed an alliance, something which she had refused to do when offered one by Feodor\\'s father, but was turned down.\\n\\nTrade and diplomatic relations developed between England and the Barbary states during the rule of Elizabeth. England established a trading relationship with Morocco in opposition to Spain, selling armour, ammunition, timber, and metal in exchange for Moroccan sugar, in spite of a papal ban. In 1600, Abd el-Ouahed ben Messaoud, the principal secretary to the Moroccan ruler Mulai Ahmad al-Mansur, visited England as an ambassador to the English court, to negotiate an Anglo-Moroccan alliance against Spain. Elizabeth \"agreed to sell munitions supplies to Morocco, and she and Mulai Ahmad al-Mansur talked on and off about mounting a joint operation against the Spanish\". Discussions, however, remained inconclusive, and both rulers died within two years of the embassy.\\nDiplomatic relations were also established with the Ottoman Empire with the chartering of the Levant Company and the dispatch of the first English ambassador to the Sublime Porte, William Harborne, in 1578. For the first time, a treaty of commerce was signed in 1580. Numerous envoys were dispatched in both directions and epistolar exchanges occurred between Elizabeth and Sultan Murad III. In one correspondence, Murad entertained the notion that Protestantism and Islam had \"much more in common than either did with Roman Catholicism, as both rejected the worship of idols\", and argued for an alliance between England and the Ottoman Empire. To the dismay of Catholic Europe, England exported tin and lead (for cannon-casting) and ammunitions to the Ottoman Empire, and Elizabeth seriously discussed joint military operations with Murad III during the outbreak of war with Spain in 1585, as Francis Walsingham was lobbying for a direct Ottoman military involvement against the common Spanish enemy.\\n\\nIn 1583, Humphrey Gilbert sailed west to establish a colony in Newfoundland. He never returned to England. Gilbert\\'s half-brother Walter Raleigh explored the Atlantic Coast and claimed the territory of Virginia, perhaps named in honour of Elizabeth, the \"Virgin Queen\". This territory was much larger than the present-day state of Virginia, extending from New England to the Carolinas. In 1585, Raleigh returned to Virginia with a small group of people. They landed on Roanoke Island, off present-day North Carolina. After the failure of the first colony, Raleigh recruited another group and put John White in command. When Raleigh returned in 1590, there was no trace of the Roanoke Colony he had left, but it was the first English settlement in North America.\\n\\nThe East India Company was formed to trade in the Indian Ocean region and China, and received its charter from Queen Elizabeth on 31 December 1600. For a period of 15 years, the company was awarded a monopoly on English trade with all countries east of the Cape of Good Hope and west of the Straits of Magellan. James Lancaster commanded the first expedition in 1601. The Company eventually controlled half of world trade and substantial territory in India in the 18th and 19th centuries.\\n\\nThe period after the defeat of the Spanish Armada in 1588 brought new difficulties for Elizabeth that lasted until the end of her reign. The conflicts with Spain and in Ireland dragged on, the tax burden grew heavier, and the economy was hit by poor harvests and the cost of war. Prices rose and the standard of living fell. During this time, repression of Catholics intensified, and Elizabeth authorised commissions in 1591 to interrogate and monitor Catholic householders. To maintain the illusion of peace and prosperity, she increasingly relied on internal spies and propaganda. In her last years, mounting criticism reflected a decline in the public\\'s affection for her.\\n\\nOne of the causes for this \"second reign\" of Elizabeth, as it is sometimes called, was the changed character of Elizabeth\\'s governing body, the privy council in the 1590s. A new generation was in power. With the exception of William Cecil, Baron Burghley, the most important politicians had died around 1590: the Earl of Leicester in 1588; Francis Walsingham in 1590; and Christopher Hatton in 1591. Factional strife in the government, which had not existed in a noteworthy form before the 1590s, now became its hallmark. A bitter rivalry arose between Robert Devereux, the Earl of Essex, and Robert Cecil, son of Lord Burghley, with both being supported by their respective adherents. The struggle for the most powerful positions in the state marred the kingdom\\'s politics. The queen\\'s personal authority was lessening, as is shown in the 1594 affair of Dr. Roderigo Lopes, her trusted physician. When he was wrongly accused by the Earl of Essex of treason out of personal pique, she could not prevent the doctor\\'s execution, although she had been angry about his arrest and seems not to have believed in his guilt.\\nDuring the last years of her reign, Elizabeth came to rely on the granting of monopolies as a cost-free system of patronage, rather than asking Parliament for more subsidies in a time of war. The practice soon led to price-fixing, the enrichment of courtiers at the public\\'s expense, and widespread resentment. This culminated in agitation in the House of Commons during the parliament of 1601. In her famous \"Golden Speech\" of 30 November 1601 at Whitehall Palace to a deputation of 140 members, Elizabeth professed ignorance of the abuses, and won the members over with promises and her usual appeal to the emotions:\\n\\nWho keeps their sovereign from the lapse of error, in which, by ignorance and not by intent they might have fallen, what thank they deserve, we know, though you may guess. And as nothing is more dear to us than the loving conservation of our subjects\\' hearts, what an undeserved doubt might we have incurred if the abusers of our liberality, the thrallers of our people, the wringers of the poor, had not been told us!\\n\\nThis same period of economic and political uncertainty, however, produced an unsurpassed literary flowering in England. The first signs of a new literary movement had appeared at the end of the second decade of Elizabeth\\'s reign, with John Lyly\\'s Euphues and Edmund Spenser\\'s The Shepheardes Calender in 1578. During the 1590s, some of the great names of English literature entered their maturity, including William Shakespeare and Christopher Marlowe. Continuing into the Jacobean era, the English theatre would reach its peak. The notion of a great Elizabethan era depends largely on the builders, dramatists, poets, and musicians who were active during Elizabeth\\'s reign. They owed little directly to the queen, who was never a major patron of the arts.\\nAs Elizabeth aged, her image gradually changed. She was portrayed as Belphoebe or Astraea, and after the Armada, as Gloriana, the eternally youthful Faerie Queene of Edmund Spenser\\'s poem. Elizabeth gave Edmund Spenser a pension; as this was unusual for her, it indicates that she liked his work. Her painted portraits became less realistic and more a set of enigmatic icons that made her look much younger than she was. In fact, her skin had been scarred by smallpox in 1562, leaving her half bald and dependent on wigs and cosmetics. Her love of sweets and fear of dentists contributed to severe tooth decay and loss to such an extent that foreign ambassadors had a hard time understanding her speech. André Hurault de Maisse, Ambassador Extraordinary from Henry IV of France, reported an audience with the queen, during which he noticed, \"her teeth are very yellow and unequal ... and on the left side less than on the right. Many of them are missing, so that one cannot understand her easily when she speaks quickly.\" Yet he added, \"her figure is fair and tall and graceful in whatever she does; so far as may be she keeps her dignity, yet humbly and graciously withal.\" Walter Raleigh called her \"a lady whom time had surprised\".\\n\\nThe more Elizabeth\\'s beauty faded, the more her courtiers praised it. Elizabeth was happy to play the part, but it is possible that in the last decade of her life she began to believe her own performance. She became fond and indulgent of the charming but petulant young Earl of Essex, who was Leicester\\'s stepson and took liberties with her for which she forgave him. She repeatedly appointed him to military posts despite his growing record of irresponsibility. After Essex\\'s desertion of his command in Ireland in 1599, Elizabeth had him placed under house arrest and the following year deprived him of his monopolies. In February 1601, Essex tried to raise a rebellion in London. He intended to seize the queen but few rallied to his support, and he was beheaded on 25 February. Elizabeth knew that her own misjudgements were partly to blame for this turn of events. An observer wrote in 1602: \"Her delight is to sit in the dark, and sometimes with shedding tears to bewail Essex.\"\\n\\nElizabeth\\'s senior adviser, Lord Burghley, died on 4 August 1598. His political mantle passed to his son Robert, who soon became the leader of the government. One task he addressed was to prepare the way for a smooth succession. Since Elizabeth would never name her successor, Robert Cecil was obliged to proceed in secret. He therefore entered into a coded negotiation with James VI of Scotland, who had a strong but unrecognised claim. Cecil coached the impatient James to humour Elizabeth and \"secure the heart of the highest, to whose sex and quality nothing is so improper as either needless expostulations or over much curiosity in her own actions\". The advice worked. James\\'s tone delighted Elizabeth, who responded: \"So trust I that you will not doubt but that your last letters are so acceptably taken as my thanks cannot be lacking for the same, but yield them to you in grateful sort\". In historian J. E. Neale\\'s view, Elizabeth may not have declared her wishes openly to James, but she made them known with \"unmistakable if veiled phrases\".\\n\\nThe queen\\'s health remained fair until the autumn of 1602, when a series of deaths among her friends plunged her into a severe depression. In February 1603, the death of Catherine Carey, Countess of Nottingham, the niece of her cousin and close friend Lady Knollys, came as a particular blow. In March, Elizabeth fell sick and remained in a \"settled and unremovable melancholy\", and sat motionless on a cushion for hours on end. When Robert Cecil told her that she must go to bed, she snapped: \"Must is not a word to use to princes, little man.\" She died on 24 March 1603 at Richmond Palace, between two and three in the morning. A few hours later, Cecil and the council set their plans in motion and proclaimed James King of England.\\nWhile it has become normative to record Elizabeth\\'s death as occurring in 1603, following English calendar reform in the 1750s, at the time England observed New Year\\'s Day on 25 March, commonly known as Lady Day. Thus Elizabeth died on the last day of the year 1602 in the old calendar. The modern convention is to use the old style calendar for the day and month while using the new style calendar for the year.\\n\\nElizabeth\\'s coffin was carried downriver at night to Whitehall, on a barge lit with torches. At her funeral on 28 April, the coffin was taken to Westminster Abbey on a hearse drawn by four horses hung with black velvet. In the words of the chronicler John Stow:\\n\\nWestminster was surcharged with multitudes of all sorts of people in their streets, houses, windows, leads and gutters, that came out to see the obsequy, and when they beheld her statue lying upon the coffin, there was such a general sighing, groaning and weeping as the like hath not been seen or known in the memory of man.\\n\\nElizabeth was interred in Westminster Abbey, in a tomb shared with her half-sister, Mary I. The Latin inscription on their tomb, \"Regno consortes & urna, hic obdormimus Elizabetha et Maria sorores, in spe resurrectionis\", translates to \"Consorts in realm and tomb, here we sleep, Elizabeth and Mary, sisters, in hope of resurrection\".\\n\\nElizabeth was lamented by many of her subjects, but others were relieved at her death. Expectations of King James started high but then declined. By the 1620s, there was a nostalgic revival of the cult of Elizabeth. Elizabeth was praised as a heroine of the Protestant cause and the ruler of a golden age. James was depicted as a Catholic sympathiser, presiding over a corrupt court. The triumphalist image that Elizabeth had cultivated towards the end of her reign, against a background of factionalism and military and economic difficulties, was taken at face value and her reputation inflated. Godfrey Goodman, Bishop of Gloucester, recalled: \"When we had experience of a Scottish government, the Queen did seem to revive. Then was her memory much magnified.\" Elizabeth\\'s reign became idealised as a time when crown, church and parliament had worked in constitutional balance.\\nThe picture of Elizabeth painted by her Protestant admirers of the early 17th century has proved lasting and influential. Her memory was also revived during the Napoleonic Wars, when the nation again found itself on the brink of invasion. In the Victorian era, the Elizabethan legend was adapted to the imperial ideology of the day, and in the mid-20th century, Elizabeth was a romantic symbol of the national resistance to foreign threat. Historians of that period, such as J. E. Neale (1934) and A. L. Rowse (1950), interpreted Elizabeth\\'s reign as a golden age of progress. Neale and Rowse also idealised the Queen personally: she always did everything right; her more unpleasant traits were ignored or explained as signs of stress.\\nRecent historians, however, have taken a more complicated view of Elizabeth. Her reign is famous for the defeat of the Armada, and for successful raids against the Spanish, such as those on Cádiz in 1587 and 1596, but some historians point to military failures on land and at sea. In Ireland, Elizabeth\\'s forces ultimately prevailed, but their tactics stain her record. Rather than as a brave defender of the Protestant nations against Spain and the Habsburgs, she is more often regarded as cautious in her foreign policies. She offered very limited aid to foreign Protestants and failed to provide her commanders with the funds to make a difference abroad.\\nElizabeth established an English church that helped shape a national identity and remains in place today. Those who praised her later as a Protestant heroine overlooked her refusal to drop all practices of Catholic origin from the Church of England. Historians note that in her day, strict Protestants regarded the Acts of Settlement and Uniformity of 1559 as a compromise. In fact, Elizabeth believed that faith was personal and did not wish, as Francis Bacon put it, to \"make windows into men\\'s hearts and secret thoughts\".\\nThough Elizabeth followed a largely defensive foreign policy, her reign raised England\\'s status abroad. \"She is only a woman, only mistress of half an island,\" marvelled Pope Sixtus V, \"and yet she makes herself feared by Spain, by France, by the Empire, by all\". Under Elizabeth, the nation gained a new self-confidence and sense of sovereignty, as Christendom fragmented. Elizabeth was the first Tudor to recognise that a monarch ruled by popular consent. She therefore always worked with parliament and advisers she could trust to tell her the truth—a style of government that her Stuart successors failed to follow. Some historians have called her lucky; she believed that God was protecting her. Priding herself on being \"mere English\", Elizabeth trusted in God, honest advice, and the love of her subjects for the success of her rule. In a prayer, she offered thanks to God that:\\n\\n[At a time] when wars and seditions with grievous persecutions have vexed almost all kings and countries round about me, my reign hath been peacable, and my realm a receptacle to thy afflicted Church. The love of my people hath appeared firm, and the devices of my enemies frustrate.\\n\\nAnti-Catholicism in the United Kingdom\\nEarly modern Britain\\nEnglish Renaissance\\nInventory of Elizabeth I\\nPortraiture of Elizabeth I\\nProtestant Reformation\\nRoyal Arms of England\\nRoyal eponyms in Canada for Queen Elizabeth I\\nRoyal Standards of England\\nTudor period\\n\\nElizabeth I at the official website of the British monarchy\\nElizabeth I at the official website of the Royal Collection Trust\\nPortraits of Queen Elizabeth I at the National Portrait Gallery, London \\nWorks by Elizabeth I at Project Gutenberg\\nWorks by or about Elizabeth I at Internet Archive\\nWorks by Elizabeth I at LibriVox (public domain audiobooks)', 'source': 'https://en.wikipedia.org/wiki/Elizabeth_I'}, page_content='Elizabeth I (7 September 1533 – 24 March 1603) was Queen of England and Ireland from 17 November 1558 until her death in 1603. She was the last monarch of the House of Tudor.\\nElizabeth was the only surviving child of Henry VIII and his second wife, Anne Boleyn. When Elizabeth was two years old, her parents\\' marriage was annulled, her mother was executed, and Elizabeth was declared illegitimate. Henry restored her to the line of succession when she was 10, via the Third Succession Act 1543. After Henry\\'s death in 1547, Elizabeth\\'s younger half-brother Edward VI ruled until his own death in 1553, bequeathing the crown to a Protestant cousin, Lady Jane Grey, and ignoring the claims of his two half-sisters, the Catholic Mary and the younger Elizabeth, in spite of statutes to the contrary. Edward\\'s will was set aside within weeks of his death and Mary became queen, deposing and executing Jane. During Mary\\'s reign, Elizabeth was imprisoned for nearly a year on suspicion of supporting Protestant rebels.\\nUpon her half-sister\\'s death in 1558, Elizabeth succeeded to the throne and set out to rule by good counsel. She depended heavily on a group of trusted advisers led by William Cecil, whom she created Baron Burghley. One of her first actions as queen was the establishment of an English Protestant church, of which she became the supreme governor. This era, later named the Elizabethan Religious Settlement, would evolve into the Church of England. It was expected that Elizabeth would marry and produce an heir; however, despite numerous courtships, she never did, and because of this she is sometimes referred to as the \"Virgin Queen\". She was eventually succeeded by her first cousin twice removed, James VI of Scotland, the son of Mary, Queen of Scots.\\nIn government, Elizabeth was more moderate than her father and siblings had been. One of her mottoes was video et taceo (\"I see and keep silent\"). In religion, she was relatively tolerant and avoided systematic persecution. After the pope declared her illegitimate in 1570, which in theory released English Catholics from allegiance to her, several conspiracies threatened her life, all of which were defeated with the help of her ministers\\' secret service, run by Sir Francis Walsingham. Elizabeth was cautious in foreign affairs, manoeuvring between the major powers of France and Spain. She half-heartedly supported a number of ineffective, poorly resourced military campaigns in the Netherlands, France')),\n",
              " GraphDocument(nodes=[Node(id='France', type='Country'), Node(id='Spain', type='Country'), Node(id='Netherlands', type='Country'), Node(id='Ireland', type='Country'), Node(id='England', type='Country'), Node(id='Elizabeth', type='Person'), Node(id='Henry Viii Of England', type='Person'), Node(id='Anne Boleyn', type='Person'), Node(id='Elizabeth Of York', type='Person'), Node(id='Lady Elizabeth Howard', type='Person'), Node(id='William Shakespeare', type='Person'), Node(id='Christopher Marlowe', type='Person'), Node(id='Francis Drake', type='Person'), Node(id='Walter Raleigh', type='Person')], relationships=[Relationship(source=Node(id='Elizabeth', type='Person'), target=Node(id='Henry Viii Of England', type='Person'), type='PARENT'), Relationship(source=Node(id='Elizabeth', type='Person'), target=Node(id='Anne Boleyn', type='Person'), type='PARENT'), Relationship(source=Node(id='Elizabeth', type='Person'), target=Node(id='England', type='Country'), type='MONARCH')], source=Document(metadata={'title': 'Elizabeth I', 'summary': 'Elizabeth I (7 September 1533 – 24 March 1603) was Queen of England and Ireland from 17 November 1558 until her death in 1603. She was the last monarch of the House of Tudor.\\nElizabeth was the only surviving child of Henry VIII and his second wife, Anne Boleyn. When Elizabeth was two years old, her parents\\' marriage was annulled, her mother was executed, and Elizabeth was declared illegitimate. Henry restored her to the line of succession when she was 10, via the Third Succession Act 1543. After Henry\\'s death in 1547, Elizabeth\\'s younger half-brother Edward VI ruled until his own death in 1553, bequeathing the crown to a Protestant cousin, Lady Jane Grey, and ignoring the claims of his two half-sisters, the Catholic Mary and the younger Elizabeth, in spite of statutes to the contrary. Edward\\'s will was set aside within weeks of his death and Mary became queen, deposing and executing Jane. During Mary\\'s reign, Elizabeth was imprisoned for nearly a year on suspicion of supporting Protestant rebels.\\nUpon her half-sister\\'s death in 1558, Elizabeth succeeded to the throne and set out to rule by good counsel. She depended heavily on a group of trusted advisers led by William Cecil, whom she created Baron Burghley. One of her first actions as queen was the establishment of an English Protestant church, of which she became the supreme governor. This era, later named the Elizabethan Religious Settlement, would evolve into the Church of England. It was expected that Elizabeth would marry and produce an heir; however, despite numerous courtships, she never did, and because of this she is sometimes referred to as the \"Virgin Queen\". She was eventually succeeded by her first cousin twice removed, James VI of Scotland, the son of Mary, Queen of Scots.\\nIn government, Elizabeth was more moderate than her father and siblings had been. One of her mottoes was video et taceo (\"I see and keep silent\"). In religion, she was relatively tolerant and avoided systematic persecution. After the pope declared her illegitimate in 1570, which in theory released English Catholics from allegiance to her, several conspiracies threatened her life, all of which were defeated with the help of her ministers\\' secret service, run by Sir Francis Walsingham. Elizabeth was cautious in foreign affairs, manoeuvring between the major powers of France and Spain. She half-heartedly supported a number of ineffective, poorly resourced military campaigns in the Netherlands, France, and Ireland. By the mid-1580s, England could no longer avoid war with Spain.\\nAs she grew older, Elizabeth became celebrated for her virginity. A cult of personality grew around her which was celebrated in the portraits, pageants, and literature of the day. Elizabeth\\'s reign became known as the Elizabethan era. The period is famous for the flourishing of English drama, led by playwrights such as William Shakespeare and Christopher Marlowe, the prowess of English maritime adventurers, such as Francis Drake and Walter Raleigh, and for the defeat of the Spanish Armada. Some historians depict Elizabeth as a short-tempered, sometimes indecisive ruler, who enjoyed more than her fair share of luck. Towards the end of her reign, a series of economic and military problems weakened her popularity. Elizabeth is acknowledged as a charismatic performer (\"Gloriana\") and a dogged survivor (\"Good Queen Bess\") in an era when government was ramshackle and limited, and when monarchs in neighbouring countries faced internal problems that jeopardised their thrones. After the short, disastrous reigns of her half-siblings, her 44 years on the throne provided welcome stability for the kingdom and helped to forge a sense of national identity.\\n\\nElizabeth was born at Greenwich Palace on 7 September 1533 and was named after her grandmothers, Elizabeth of York and Lady Elizabeth Howard. She was the second child of Henry VIII of England born in wedlock to survive infancy. Her mother was Henry\\'s second wife, Anne Boleyn. At birth, Elizabeth was the heir presumptive to the English throne. Her elder half-sister Mary had lost her position as a legitimate heir when Henry annulled his marriage to Mary\\'s mother, Catherine of Aragon, to marry Anne, with the intent to sire a male heir and ensure the Tudor succession. She was baptised on 10 September 1533, and her godparents were Thomas Cranmer, Archbishop of Canterbury; Henry Courtenay, Marquess of Exeter; Elizabeth Stafford, Duchess of Norfolk; and Margaret Wotton, Dowager Marchioness of Dorset. A canopy was carried at the ceremony over the infant by her uncle George Boleyn, Viscount Rochford; John Hussey, Baron Hussey of Sleaford; Lord Thomas Howard; and William Howard, Baron Howard of Effingham.\\nElizabeth was two years and eight months old when her mother was beheaded on 19 May 1536, four months after Catherine of Aragon\\'s death from natural causes. Elizabeth was declared illegitimate and deprived of her place in the royal succession. Eleven days after Anne Boleyn\\'s execution, Henry married Jane Seymour. Queen Jane died the next year shortly after the birth of their son, Edward, who was the undisputed heir apparent to the throne. Elizabeth was placed in her half-brother\\'s household and carried the chrisom, or baptismal cloth, at his christening.\\n\\nElizabeth\\'s first governess, Margaret Bryan, wrote that she was \"as toward a child and as gentle of conditions as ever I knew any in my life\". Catherine Champernowne, better known by her later, married name of Catherine \"Kat\" Ashley, was appointed as Elizabeth\\'s governess in 1537, and she remained Elizabeth\\'s friend until her death in 1565. Champernowne taught Elizabeth four languages: French, Dutch, Italian, and Spanish. By the time William Grindal became her tutor in 1544, Elizabeth could write English, Latin, and Italian. Under Grindal, a talented and skilful tutor, she also progressed in French and Greek. By the age of 12, she was able to translate her stepmother Catherine Parr\\'s religious work Prayers or Meditations from English into Italian, Latin, and French, which she presented to her father as a New Year\\'s gift. From her teenage years and throughout her life, she translated works in Latin and Greek by numerous classical authors, including the Pro Marcello of Cicero, the De consolatione philosophiae of Boethius, a treatise by Plutarch, and the Annals of Tacitus. A translation of Tacitus from Lambeth Palace Library, one of only four surviving English translations from the early modern era, was confirmed as Elizabeth\\'s own in 2019, after a detailed analysis of the handwriting and paper was undertaken.\\nAfter Grindal died in 1548, Elizabeth received her education under her brother Edward\\'s tutor, Roger Ascham, a sympathetic teacher who believed that learning should be engaging. Current knowledge of Elizabeth\\'s schooling and precocity comes largely from Ascham\\'s memoirs. By the time her formal education ended in 1550, Elizabeth was one of the best educated women of her generation. At the end of her life, she was believed to speak the Welsh, Cornish, Scottish, and Irish languages in addition to those mentioned above. The Venetian ambassador stated in 1603 that she \"possessed [these] languages so thoroughly that each appeared to be her native tongue\". Historian Mark Stoyle suggests that she was probably taught Cornish by William Killigrew, Groom of the Privy Chamber and later Chamberlain of the Exchequer.\\n\\nHenry VIII died in 1547 and Elizabeth\\'s half-brother, Edward VI, became king at the age of nine. Catherine Parr, Henry\\'s widow, soon married Thomas Seymour, Baron Seymour of Sudeley, Edward VI\\'s uncle and the brother of Lord Protector Edward Seymour, Duke of Somerset. The couple took Elizabeth into their household at Chelsea. There Elizabeth experienced an emotional crisis that some historians believe affected her for the rest of her life. Thomas Seymour engaged in romps and horseplay with the 14-year-old Elizabeth, including entering her bedroom in his nightgown, tickling her, and slapping her on the buttocks. Elizabeth rose early and surrounded herself with maids to avoid his unwelcome morning visits. Parr, rather than confront her husband over his inappropriate activities, joined in. Twice she accompanied him in tickling Elizabeth, and once held her while he cut her black gown \"into a thousand pieces\". However, after Parr discovered the pair in an embrace, she ended this state of affairs. In May 1548, Elizabeth was sent away.\\nThomas Seymour nevertheless continued scheming to control the royal family and tried to have himself appointed the governor of the King\\'s person. When Parr died after childbirth on 5 September 1548, he renewed his attentions towards Elizabeth, intent on marrying her. Her governess Kat Ashley, who was fond of Seymour, sought to convince Elizabeth to take him as her husband. She tried to convince Elizabeth to write to Seymour and \"comfort him in his sorrow\", but Elizabeth claimed that Thomas was not so saddened by her stepmother\\'s death as to need comfort.\\nIn January 1549, Seymour was arrested and imprisoned in the Tower on suspicion of conspiring to depose his brother Somerset as Protector, marry Lady Jane Grey to King Edward VI, and take Elizabeth as his own wife. Elizabeth, living at Hatfield House, would admit nothing. Her stubbornness exasperated her interrogator, Robert Tyrwhitt, who reported, \"I do see it in her face that she is guilty\". Seymour was beheaded on 20 March 1549.\\n\\nEdward VI died on 6 July 1553, aged 15. His will ignored the Succession to the Crown Act 1543, excluded both Mary and Elizabeth from the succession, and instead declared as his heir Lady Jane Grey, granddaughter of Henry VIII\\'s younger sister Mary Tudor, Queen of France. Jane was proclaimed queen by the privy council, but her support quickly crumbled, and she was deposed after nine days. On 3 August 1553, Mary rode triumphantly into London, with Elizabeth at her side.\\nThe show of solidarity between the sisters did not last long. Mary, a devout Catholic, was determined to crush the Protestant faith in which Elizabeth had been educated, and she ordered that everyone attend Catholic Mass; Elizabeth had to outwardly conform. Mary\\'s initial popularity ebbed away in 1554 when she announced plans to marry Philip of Spain, the son of Holy Roman Emperor Charles V and an active Catholic. Discontent spread rapidly through the country, and many looked to Elizabeth as a focus for their opposition to Mary\\'s religious policies.\\nIn January and February 1554, Wyatt\\'s rebellion broke out; it was soon suppressed. Elizabeth was brought to court and interrogated regarding her role, and on 18 March, she was imprisoned in the Tower of London. Elizabeth fervently protested her innocence. Though it is unlikely that she had plotted with the rebels, some of them were known to have approached her. Mary\\'s closest confidant, Emperor Charles\\'s ambassador Simon Renard, argued that her throne would never be safe while Elizabeth lived; and Lord Chancellor Stephen Gardiner, worked to have Elizabeth put on trial. Elizabeth\\'s supporters in the government, including William Paget, Baron Paget, convinced Mary to spare her sister in the absence of hard evidence against her. Instead, on 22 May, Elizabeth was moved from the Tower to Woodstock, where she was to spend almost a year under house arrest in the charge of Henry Bedingfeld. Crowds cheered her all along the way.\\nOn 17 April 1555, Elizabeth was recalled to court to attend the final stages of Mary\\'s apparent pregnancy. If Mary and her child died, Elizabeth would become queen, but if Mary gave birth to a healthy child, Elizabeth\\'s chances of becoming queen would recede sharply. When it became clear that Mary was not pregnant, no one believed any longer that she could have a child. Elizabeth\\'s succession seemed assured.\\nKing Philip, who ascended the Spanish throne in 1556, acknowledged the new political reality and cultivated his sister-in-law. She was a better ally than the chief alternative, Mary, Queen of Scots, who had grown up in France and was betrothed to the Dauphin of France. When his wife fell ill in 1558, Philip sent the Count of Feria to consult with Elizabeth. This interview was conducted at Hatfield House, where she had returned to live in October 1555. By October 1558, Elizabeth was already making plans for her government. Mary recognised Elizabeth as her heir on 6 November 1558, and Elizabeth became queen when Mary died on 17 November.\\n\\nElizabeth became queen at the age of 25, and declared her intentions to her council and other peers who had come to Hatfield to swear allegiance. The speech contains the first record of her adoption of the medieval political theology of the sovereign\\'s \"two bodies\": the body natural and the body politic:\\n\\nMy lords, the law of nature moves me to sorrow for my sister; the burden that is fallen upon me makes me amazed, and yet, considering I am God\\'s creature, ordained to obey His appointment, I will thereto yield, desiring from the bottom of my heart that I may have assistance of His grace to be the minister of His heavenly will in this office now committed to me. And as I am but one body naturally considered, though by His permission a body politic to govern, so shall I desire you all ... to be assistant to me, that I with my ruling and you with your service may make a good account to Almighty God and leave some comfort to our posterity on earth. I mean to direct all my actions by good advice and counsel.\\nAs her triumphal progress wound through the city on the eve of the coronation ceremony, she was welcomed wholeheartedly by the citizens and greeted by orations and pageants, most with a strong Protestant flavour. Elizabeth\\'s open and gracious responses endeared her to the spectators, who were \"wonderfully ravished\". The following day, 15 January 1559, a date chosen by her astrologer John Dee, Elizabeth was crowned and anointed by Owen Oglethorpe, the Catholic bishop of Carlisle, in Westminster Abbey. She was then presented for the people\\'s acceptance, amidst a deafening noise of organs, fifes, trumpets, drums, and bells. Although Elizabeth was welcomed as queen in England, the country was still in a state of anxiety over the perceived Catholic threat at home and overseas, as well as the choice of whom she would marry.\\n\\nElizabeth\\'s personal religious convictions have been much debated by scholars. She was a Protestant, but kept Catholic symbols (such as the crucifix), and downplayed the role of sermons in defiance of a key Protestant belief.\\nElizabeth and her advisers perceived the threat of a Catholic crusade against heretical England. The queen therefore sought a Protestant solution that would not offend Catholics too greatly while addressing the desires of English Protestants, but she would not tolerate the Puritans, who were pushing for far-reaching reforms. As a result, the Parliament of 1559 started to legislate for a church based on the Protestant settlement of Edward VI, with the monarch as its head, but with many Catholic elements, such as vestments.\\nThe House of Commons backed the proposals strongly, but the bill of supremacy met opposition in the House of Lords, particularly from the bishops. Elizabeth was fortunate that many bishoprics were vacant at the time, including the Archbishopric of Canterbury. This enabled supporters amongst peers to outvote the bishops and conservative peers. Nevertheless, Elizabeth was forced to accept the title of Supreme Governor of the Church of England rather than the more contentious title of Supreme Head, which many thought unacceptable for a woman to bear. The new Act of Supremacy became law on 8 May 1559. All public officials were forced to swear an oath of loyalty to the monarch as the supreme governor or risk disqualification from office; the heresy laws were repealed, to avoid a repeat of the persecution of dissenters by Mary. At the same time, a new Act of Uniformity was passed, which made attendance at church and the use of the 1559 Book of Common Prayer (an adapted version of the 1552 prayer book) compulsory, though the penalties for recusancy, or failure to attend and conform, were not extreme.\\n\\nFrom the start of Elizabeth\\'s reign it was expected that she would marry, and the question arose to whom. Although she received many offers, she never married and remained childless; the reasons for this are not clear. Historians have speculated that Thomas Seymour had put her off sexual relationships. She considered several suitors until she was about fifty. Her last courtship was with Francis, Duke of Anjou, 22 years her junior. While risking possible loss of power like her sister, who played into the hands of King Philip II of Spain, marriage offered the chance of an heir. However, the choice of a husband might also provoke political instability or even insurrection.\\n\\nIn the spring of 1559, it became evident that Elizabeth was in love with her childhood friend Robert Dudley. It was said that his wife Amy was suffering from a \"malady in one of her breasts\" and that the queen would like to marry Robert if his wife should die. By the autumn of 1559, several foreign suitors were vying for Elizabeth\\'s hand; their impatient envoys engaged in ever more scandalous talk and reported that a marriage with her favourite was not welcome in England: \"There is not a man who does not cry out on him and her with indignation ... she will marry none but the favoured Robert.\" Amy Dudley died in September 1560, from a fall from a flight of stairs and, despite the coroner\\'s inquest finding of accident, many people suspected her husband of having arranged her death so that he could marry the queen. Elizabeth seriously considered marrying Dudley for some time. However, William Cecil, Nicholas Throckmorton, and some conservative peers made their disapproval unmistakably clear. There were even rumours that the nobility would rise if the marriage took place.\\nAmong other marriage candidates being considered for the queen, Robert Dudley continued to be regarded as a possible candidate for nearly another decade. Elizabeth was extremely jealous of his affections, even when she no longer meant to marry him herself. She raised Dudley to the peerage as Earl of Leicester in 1564. In 1578, he finally married Lettice Knollys, to whom the queen reacted with repeated scenes of displeasure and lifelong hatred. Still, Dudley always \"remained at the centre of [Elizabeth\\'s] emotional life\", as historian Susan Doran has described the situation. He died shortly after the defeat of the Spanish Armada in 1588. After Elizabeth\\'s own death, a note from him was found among her most personal belongings, marked \"his last letter\" in her handwriting.\\n\\nMarriage negotiations constituted a key element in Elizabeth\\'s foreign policy. She turned down the hand of Philip, her half-sister\\'s widower, early in 1559 but for several years entertained the proposal of King Eric XIV of Sweden. Earlier in Elizabeth\\'s life, a Danish match for her had been discussed; Henry VIII had proposed one with the Danish prince Adolf, Duke of Holstein-Gottorp, in 1545, and Edward Seymour, Duke of Somerset, suggested a marriage with Prince Frederick (later Frederick II) several years later, but the negotiations had abated in 1551. In the years around 1559, a Dano-English Protestant alliance was considered, and to counter Sweden\\'s proposal, King Frederick II proposed to Elizabeth in late 1559.\\n\\nFor several years, she seriously negotiated to marry Philip\\'s cousin Charles II, Archduke of Austria. By 1569, relations with the Habsburgs had deteriorated. Elizabeth considered marriage to two French Valois princes in turn, first Henry, Duke of Anjou, and then from 1572 to 1581 his brother Francis, Duke of Anjou, formerly Duke of Alençon. This last proposal was tied to a planned alliance against Spanish control of the Southern Netherlands. Elizabeth seems to have taken the courtship seriously for a time, wearing  a frog-shaped earring that Francis had sent her.\\nIn 1563, Elizabeth told an imperial envoy: \"If I follow the inclination of my nature, it is this: beggar-woman and single, far rather than queen and married\". Later in the year, following Elizabeth\\'s illness with smallpox, the succession question became a heated issue in Parliament. Members urged the queen to marry or nominate an heir, to prevent a civil war upon her death. She refused to do either. In April she prorogued the Parliament, which did not reconvene until she needed its support to raise taxes in 1566.\\nHaving previously promised to marry, she told an unruly House:\\n\\nI will never break the word of a prince spoken in public place, for my honour\\'s sake. And therefore I say again, I will marry as soon as I can conveniently, if God take not him away with whom I mind to marry, or myself, or else some other great let [obstruction] happen.\\nBy 1570, senior figures in the government privately accepted that Elizabeth would never marry or name a successor. William Cecil was already seeking solutions to the succession problem. For her failure to marry, Elizabeth was often accused of irresponsibility. Her silence, however, strengthened her own political security: she knew that if she named an heir, her throne would be vulnerable to a coup; she remembered the way that \"a second person, as I have been\" had been used as the focus of plots against her predecessor.\\n\\nElizabeth\\'s unmarried status inspired a cult of virginity related to that of the Virgin Mary. In poetry and portraiture, she was depicted as a virgin, a goddess, or both, not as a normal woman. At first, only Elizabeth made a virtue of her ostensible virginity: in 1559, she told the Commons, \"And, in the end, this shall be for me sufficient, that a marble stone shall declare that a queen, having reigned such a time, lived and died a virgin\". Later on, poets and writers took up the theme and developed an iconography that exalted Elizabeth. Public tributes to the Virgin by 1578 acted as a coded assertion of opposition to the queen\\'s marriage negotiations with the Duke of Alençon. Ultimately, Elizabeth would insist she was married to her kingdom and subjects, under divine protection. In 1599, she spoke of \"all my husbands, my good people\".\\n\\nThis claim of virginity was not universally accepted. Catholics accused Elizabeth of engaging in \"filthy lust\" that symbolically defiled the nation along with her body. Henry IV of France said that one of the great questions of Europe was \"whether Queen Elizabeth was a maid or no\".\\nA central issue, when it comes to the question of Elizabeth\\'s virginity, was whether the queen ever consummated her love affair with Robert Dudley. In 1559, she had Dudley\\'s bedchambers moved next to her own apartments. In 1561, she was mysteriously bedridden with an illness that caused her body to swell.\\nIn 1587, a young man calling himself Arthur Dudley was arrested on the coast of Spain under suspicion of being a spy. The man claimed to be the illegitimate son of Elizabeth and Robert Dudley, with his age being consistent with birth during the 1561 illness. He was taken to Madrid for investigation, where he was examined by Francis Englefield, a Catholic aristocrat exiled to Spain and secretary to King Philip II. Three letters exist today describing the interview, detailing what Arthur proclaimed to be the story of his life, from birth in the royal palace to the time of his arrival in Spain. However, this failed to convince the Spanish: Englefield admitted to King Philip that Arthur\\'s \"claim at present amounts to nothing\", but suggested that \"he should not be allowed to get away, but [...] kept very secure.\" The king agreed, and Arthur was never heard from again. Modern scholarship dismisses the story\\'s basic premise as \"impossible\", and asserts that Elizabeth\\'s life was so closely observed by contemporaries that she could not have hidden a pregnancy.\\n\\nElizabeth\\'s first policy toward Scotland was to oppose the French presence there. She feared that the French planned to invade England and put her Catholic cousin Mary, Queen of Scots, on the throne. Mary was considered by many to be the heir to the English crown, being the granddaughter of Henry VIII\\'s elder sister, Margaret. Mary boasted being \"the nearest kinswoman she hath\". Elizabeth was persuaded to send a force into Scotland to aid the Protestant rebels, and though the campaign was inept, the resulting Treaty of Edinburgh of July 1560 removed the French threat in the north. When Mary returned to Scotland in 1561 to take up the reins of power, the country had an established Protestant church and was run by a council of Protestant nobles supported by Elizabeth. Mary refused to ratify the treaty.\\nIn 1563, Elizabeth proposed her own suitor, Robert Dudley, as a husband for Mary, without asking either of the two people concerned. Both proved unenthusiastic, and in 1565, Mary married Henry Stuart, Lord Darnley, who carried his own claim to the English throne. The marriage was the first of a series of errors of judgement by Mary that handed the victory to the Scottish Protestants and to Elizabeth. Darnley quickly became unpopular and was murdered in February 1567 by conspirators almost certainly led by James Hepburn, Earl of Bothwell. Shortly afterwards, on 15 May 1567, Mary married Bothwell, arousing suspicions that she had been party to the murder of her husband. Elizabeth confronted Mary about the marriage, writing to her:\\n\\nHow could a worse choice be made for your honour than in such haste to marry such a subject, who besides other and notorious lacks, public fame has charged with the murder of your late husband, besides the touching of yourself also in some part, though we trust in that behalf falsely.\\nThese events led rapidly to Mary\\'s defeat and imprisonment in Lochleven Castle. The Scottish lords forced her to abdicate in favour of her son James VI, who had been born in 1566. James was taken to Stirling Castle to be raised as a Protestant. Mary escaped in 1568 but after a defeat at Langside sailed to England, where she had once been assured of support from Elizabeth. Elizabeth\\'s first instinct was to restore her fellow monarch, but she and her council instead chose to play safe. Rather than risk returning Mary to Scotland with an English army or sending her to France and the Catholic enemies of England, they detained her in England, where she was imprisoned for the next nineteen years.\\n\\nMary was soon the focus for rebellion. In 1569 there was a major Catholic rising in the North; the goal was to free Mary, marry her to Thomas Howard, Duke of Norfolk, and put her on the English throne. After the rebels\\' defeat, over 750 of them were executed on Elizabeth\\'s orders. In the belief that the revolt had been successful, Pope Pius V issued a bull in 1570, titled Regnans in Excelsis, which declared \"Elizabeth, the pretended Queen of England and the servant of crime\" to be excommunicated and a heretic, releasing all her subjects from any allegiance to her. Catholics who obeyed her orders were threatened with excommunication. The papal bull provoked legislative initiatives against Catholics by Parliament, which were, however, mitigated by Elizabeth\\'s intervention. In 1581, to convert English subjects to Catholicism with \"the intent\" to withdraw them from their allegiance to Elizabeth was made a treasonable offence, carrying the death penalty. From the 1570s missionary priests from continental seminaries went to England secretly in the cause of the \"reconversion of England\". Many suffered execution, engendering a cult of martyrdom.\\nRegnans in Excelsis gave English Catholics a strong incentive to look to Mary as the legitimate sovereign of England. Mary may not have been told of every Catholic plot to put her on the English throne, but from the Ridolfi Plot of 1571 (which caused Mary\\'s suitor, the Duke of Norfolk, to lose his head) to the Babington Plot of 1586, Elizabeth\\'s spymaster Francis Walsingham and the royal council keenly assembled a case against her. At first, Elizabeth resisted calls for Mary\\'s death. By late 1586, she had been persuaded to sanction Mary\\'s trial and execution on the evidence of letters written during the Babington Plot. Elizabeth\\'s proclamation of the sentence announced that \"the said Mary, pretending title to the same Crown, had compassed and imagined within the same realm diverse things tending to the hurt, death and destruction of our royal person.\" On 8 February 1587, Mary was beheaded at Fotheringhay Castle, Northamptonshire. After the execution, Elizabeth claimed that she had not intended for the signed execution warrant to be dispatched, and blamed her secretary, William Davison, for implementing it without her knowledge. The sincerity of Elizabeth\\'s remorse and whether or not she wanted to delay the warrant have been called into question both by her contemporaries and later historians.\\n\\nElizabeth\\'s foreign policy was largely defensive. The exception was the English occupation of Le Havre from October 1562 to June 1563, which ended in failure when Elizabeth\\'s Huguenot allies joined with the Catholics to retake the port. Elizabeth\\'s intention had been to exchange Le Havre for Calais, lost to France in January 1558. Only through the activities of her fleets did Elizabeth pursue an aggressive policy. This paid off in the war against Spain, 80% of which was fought at sea. She knighted Francis Drake after his circumnavigation of the globe from 1577 to 1580, and he won fame for his raids on Spanish ports and fleets. An element of piracy and self-enrichment drove Elizabethan seafarers, over whom the queen had little control.\\n\\nAfter the occupation and loss of Le Havre in 1562–1563, Elizabeth avoided military expeditions on the continent until 1585, when she sent an English army to aid the Protestant Dutch rebels against Philip II. This followed the deaths in 1584 of the queen\\'s allies William the Silent, Prince of Orange, and the Duke of Anjou, and the surrender of a series of Dutch towns to Alexander Farnese, Duke of Parma, Philip\\'s governor of the Spanish Netherlands. In December 1584, an alliance between Philip II and the French Catholic League at Joinville undermined the ability of Anjou\\'s brother, Henry III of France, to counter Spanish domination of the Netherlands. It also extended Spanish influence along the channel coast of France, where the Catholic League was strong, and exposed England to invasion. The siege of Antwerp in the summer of 1585 by the Duke of Parma necessitated some reaction on the part of the English and the Dutch. The outcome was the Treaty of Nonsuch of August 1585, in which Elizabeth promised military support to the Dutch. The treaty marked the beginning of the Anglo-Spanish War, which lasted until the Treaty of London in 1604.\\nThe expedition was led by Elizabeth\\'s former suitor, the Earl of Leicester. Elizabeth from the start did not really back this course of action. Her strategy, to support the Dutch on the surface with an English army, while beginning secret peace talks with Spain within days of Leicester\\'s arrival in Holland, had necessarily to be at odds with Leicester\\'s, who had set up a protectorate and was expected by the Dutch to fight an active campaign. Elizabeth, on the other hand, wanted him \"to avoid at all costs any decisive action with the enemy\". He enraged Elizabeth by accepting the post of Governor-General from the Dutch States General. Elizabeth saw this as a Dutch ploy to force her to accept sovereignty over the Netherlands, which so far she had always declined. She wrote to Leicester:\\n\\nWe could never have imagined (had we not seen it fall out in experience) that a man raised up by ourself and extraordinarily favoured by us, above any other subject of this land, would have in so contemptible a sort broken our commandment in a cause that so greatly touches us in honour ... And therefore our express pleasure and commandment is that, all delays and excuses laid apart, you do presently upon the duty of your allegiance obey and fulfill whatsoever the bearer hereof shall direct you to do in our name. Whereof fail you not, as you will answer the contrary at your utmost peril.\\nElizabeth\\'s \"commandment\" was that her emissary read out her letters of disapproval publicly before the Dutch Council of State, Leicester having to stand nearby. This public humiliation of her \"Lieutenant-General\" combined with her continued talks for a separate peace with Spain irreversibly undermined Leicester\\'s standing among the Dutch. The military campaign was severely hampered by Elizabeth\\'s repeated refusals to send promised funds for her starving soldiers. Her unwillingness to commit herself to the cause, Leicester\\'s own shortcomings as a political and military leader, and the faction-ridden and chaotic situation of Dutch politics led to the failure of the campaign. Leicester finally resigned his command in December 1587.\\n\\nMeanwhile, Francis Drake had undertaken a major voyage against Spanish ports and ships in the Caribbean in 1585 and 1586. In 1587 he made a successful raid on Cádiz, destroying the Spanish fleet of war ships intended for the Enterprise of England, as Philip II had decided to take the war to England.\\nOn 12 July 1588, the Spanish Armada, a great fleet of ships, set sail for the channel, planning to ferry a Spanish invasion force under the Duke of Parma to the coast of southeast England from the Netherlands. The armada was defeated by a combination of miscalculation, misfortune, and an attack of English fire ships off Gravelines at midnight on 28–29 July (7–8 August New Style), which dispersed the Spanish ships to the northeast. The Armada straggled home to Spain in shattered remnants, after disastrous losses on the coast of Ireland (after some ships had tried to struggle back to Spain via the North Sea, and then back south past the west coast of Ireland). Unaware of the Armada\\'s fate, English militias mustered to defend the country under the Earl of Leicester\\'s command. Leicester invited Elizabeth to inspect her troops at Tilbury in Essex on 8 August. Wearing a silver breastplate over a white velvet dress, she addressed them in her Speech to the Troops at Tilbury:\\n\\nMy loving people, we have been persuaded by some that are careful of our safety, to take heed how we commit ourself to armed multitudes for fear of treachery; but I assure you, I do not desire to live to distrust my faithful and loving people ... I know I have the body but of a weak and feeble woman, but I have the heart and stomach of a king, and of a King of England too, and think foul scorn that Parma or Spain, or any Prince of Europe should dare to invade the borders of my realm.\\n\\nWhen no invasion came, the nation rejoiced. Elizabeth\\'s procession to a thanksgiving service at St Paul\\'s Cathedral rivalled that of her coronation as a spectacle. The defeat of the armada was a potent propaganda victory, both for Elizabeth and for Protestant England. The English took their delivery as a symbol of God\\'s favour and of the nation\\'s inviolability under a virgin queen. However, the victory was not a turning point in the war, which continued and often favoured Spain. The Spanish still controlled the southern provinces of the Netherlands, and the threat of invasion remained. Walter Raleigh claimed after her death that Elizabeth\\'s caution had impeded the war against Spain:\\n\\nIf the late queen would have believed her men of war as she did her scribes, we had in her time beaten that great empire in pieces and made their kings of figs and oranges as in old times. But her Majesty did all by halves, and by petty invasions taught the Spaniard how to defend himself, and to see his own weakness.\\nThough some historians have criticised Elizabeth on similar grounds, Elizabeth had good reason not to place too much trust in her commanders, who once in action tended, as she put it herself, \"to be transported with an haviour of vainglory\".\\nIn 1589, the year after the Spanish Armada, Elizabeth sent to Spain the English Armada or Counter Armada with 23,375 men and 150 ships, led by Francis Drake as admiral and John Norreys as general. The English fleet suffered a catastrophic defeat with 11,000–15,000 killed, wounded or died of disease and 40 ships sunk or captured. The advantage England had won upon the destruction of the Spanish Armada was lost, and the Spanish victory marked a revival of Philip II\\'s naval power through the next decade.\\n\\nWhen the Protestant Henry IV inherited the French throne in 1589, Elizabeth sent him military support. It was her first venture into France since the retreat from Le Havre in 1563. Henry\\'s succession was strongly contested by the Catholic League and by Philip II, and Elizabeth feared a Spanish takeover of the channel ports.\\nThe subsequent English campaigns in France, however, were disorganised and ineffective. Peregrine Bertie, largely ignoring Elizabeth\\'s orders, roamed northern France to little effect, with an army of 4,000 men. He withdrew in disarray in December 1589, having lost half his troops. In 1591, the campaign of John Norreys, who led 3,000 men to Brittany, was even more of a disaster. As for all such expeditions, Elizabeth was unwilling to invest in the supplies and reinforcements requested by the commanders. Norreys left for London to plead in person for more support. In his absence, a Catholic League army almost destroyed the remains of his army at Craon, north-west France, in May 1591.\\nIn July, Elizabeth sent out another force under Robert Devereux, Earl of Essex, to help Henry IV in besieging Rouen. The result was just as dismal. Essex accomplished nothing and returned home in January 1592. Henry abandoned the siege in April. As usual, Elizabeth lacked control over her commanders once they were abroad. \"Where he is, or what he doth, or what he is to do,\" she wrote of Essex, \"we are ignorant\".\\n\\nAlthough Ireland was one of her two kingdoms, Elizabeth faced a hostile, and in places virtually autonomous, Irish population that adhered to Catholicism and was willing to defy her authority and plot with her enemies. Her policy there was to grant land to her courtiers and prevent the rebels from giving Spain a base from which to attack England. In the course of a series of uprisings, Crown forces pursued scorched-earth tactics, burning the land and slaughtering man, woman and child. During a revolt in Munster led by Gerald FitzGerald, in 1582, an estimated 30,000 Irish people starved to death. The poet and colonist Edmund Spenser wrote that the victims \"were brought to such wretchedness as that any stony heart would have rued the same\". Elizabeth advised her commanders that the Irish, \"that rude and barbarous nation\", be well treated, but she or her commanders showed no remorse when force and bloodshed served their authoritarian purpose.\\nBetween 1594 and 1603, Elizabeth faced her most severe test in Ireland during the Nine Years\\' War, a revolt that took place at the height of hostilities with Spain, who backed the rebel leader, Hugh O\\'Neill. In spring 1599, Elizabeth sent Robert Devereux, to put the revolt down. To her frustration, he made little progress and returned to England in defiance of her orders. He was replaced by Charles Blount, who took three years to defeat the rebels. O\\'Neill finally surrendered in 1603, a few days after Elizabeth\\'s death. Soon afterwards, a peace treaty was signed between England and Spain.\\n\\nElizabeth continued to maintain the diplomatic relations with the Tsardom of Russia that were originally established by her half-brother, Edward VI. She often wrote to Tsar Ivan the Terrible on amicable terms, though the Tsar was often annoyed by her focus on commerce rather than on the possibility of a military alliance. Ivan even proposed to her once, and during his later reign, asked for a guarantee to be granted asylum in England should his rule be jeopardised. English merchant and explorer Anthony Jenkinson, who began his career as a representative of the Muscovy Company, became the queen\\'s special ambassador to the court of Tsar Ivan.\\nUpon his death in 1584, Ivan was succeeded by his son Feodor I. Unlike his father, Feodor had no enthusiasm in maintaining exclusive trading rights with England. He declared his kingdom open to all foreigners, and dismissed the English ambassador Jerome Bowes, whose pomposity had been tolerated by Ivan. Elizabeth sent a new ambassador, Dr. Giles Fletcher, to demand from the regent Boris Godunov that he convince the Tsar to reconsider. The negotiations failed, due to Fletcher addressing Feodor with two of his many titles omitted. Elizabeth continued to appeal to Feodor in half appealing, half reproachful letters. She proposed an alliance, something which she had refused to do when offered one by Feodor\\'s father, but was turned down.\\n\\nTrade and diplomatic relations developed between England and the Barbary states during the rule of Elizabeth. England established a trading relationship with Morocco in opposition to Spain, selling armour, ammunition, timber, and metal in exchange for Moroccan sugar, in spite of a papal ban. In 1600, Abd el-Ouahed ben Messaoud, the principal secretary to the Moroccan ruler Mulai Ahmad al-Mansur, visited England as an ambassador to the English court, to negotiate an Anglo-Moroccan alliance against Spain. Elizabeth \"agreed to sell munitions supplies to Morocco, and she and Mulai Ahmad al-Mansur talked on and off about mounting a joint operation against the Spanish\". Discussions, however, remained inconclusive, and both rulers died within two years of the embassy.\\nDiplomatic relations were also established with the Ottoman Empire with the chartering of the Levant Company and the dispatch of the first English ambassador to the Sublime Porte, William Harborne, in 1578. For the first time, a treaty of commerce was signed in 1580. Numerous envoys were dispatched in both directions and epistolar exchanges occurred between Elizabeth and Sultan Murad III. In one correspondence, Murad entertained the notion that Protestantism and Islam had \"much more in common than either did with Roman Catholicism, as both rejected the worship of idols\", and argued for an alliance between England and the Ottoman Empire. To the dismay of Catholic Europe, England exported tin and lead (for cannon-casting) and ammunitions to the Ottoman Empire, and Elizabeth seriously discussed joint military operations with Murad III during the outbreak of war with Spain in 1585, as Francis Walsingham was lobbying for a direct Ottoman military involvement against the common Spanish enemy.\\n\\nIn 1583, Humphrey Gilbert sailed west to establish a colony in Newfoundland. He never returned to England. Gilbert\\'s half-brother Walter Raleigh explored the Atlantic Coast and claimed the territory of Virginia, perhaps named in honour of Elizabeth, the \"Virgin Queen\". This territory was much larger than the present-day state of Virginia, extending from New England to the Carolinas. In 1585, Raleigh returned to Virginia with a small group of people. They landed on Roanoke Island, off present-day North Carolina. After the failure of the first colony, Raleigh recruited another group and put John White in command. When Raleigh returned in 1590, there was no trace of the Roanoke Colony he had left, but it was the first English settlement in North America.\\n\\nThe East India Company was formed to trade in the Indian Ocean region and China, and received its charter from Queen Elizabeth on 31 December 1600. For a period of 15 years, the company was awarded a monopoly on English trade with all countries east of the Cape of Good Hope and west of the Straits of Magellan. James Lancaster commanded the first expedition in 1601. The Company eventually controlled half of world trade and substantial territory in India in the 18th and 19th centuries.\\n\\nThe period after the defeat of the Spanish Armada in 1588 brought new difficulties for Elizabeth that lasted until the end of her reign. The conflicts with Spain and in Ireland dragged on, the tax burden grew heavier, and the economy was hit by poor harvests and the cost of war. Prices rose and the standard of living fell. During this time, repression of Catholics intensified, and Elizabeth authorised commissions in 1591 to interrogate and monitor Catholic householders. To maintain the illusion of peace and prosperity, she increasingly relied on internal spies and propaganda. In her last years, mounting criticism reflected a decline in the public\\'s affection for her.\\n\\nOne of the causes for this \"second reign\" of Elizabeth, as it is sometimes called, was the changed character of Elizabeth\\'s governing body, the privy council in the 1590s. A new generation was in power. With the exception of William Cecil, Baron Burghley, the most important politicians had died around 1590: the Earl of Leicester in 1588; Francis Walsingham in 1590; and Christopher Hatton in 1591. Factional strife in the government, which had not existed in a noteworthy form before the 1590s, now became its hallmark. A bitter rivalry arose between Robert Devereux, the Earl of Essex, and Robert Cecil, son of Lord Burghley, with both being supported by their respective adherents. The struggle for the most powerful positions in the state marred the kingdom\\'s politics. The queen\\'s personal authority was lessening, as is shown in the 1594 affair of Dr. Roderigo Lopes, her trusted physician. When he was wrongly accused by the Earl of Essex of treason out of personal pique, she could not prevent the doctor\\'s execution, although she had been angry about his arrest and seems not to have believed in his guilt.\\nDuring the last years of her reign, Elizabeth came to rely on the granting of monopolies as a cost-free system of patronage, rather than asking Parliament for more subsidies in a time of war. The practice soon led to price-fixing, the enrichment of courtiers at the public\\'s expense, and widespread resentment. This culminated in agitation in the House of Commons during the parliament of 1601. In her famous \"Golden Speech\" of 30 November 1601 at Whitehall Palace to a deputation of 140 members, Elizabeth professed ignorance of the abuses, and won the members over with promises and her usual appeal to the emotions:\\n\\nWho keeps their sovereign from the lapse of error, in which, by ignorance and not by intent they might have fallen, what thank they deserve, we know, though you may guess. And as nothing is more dear to us than the loving conservation of our subjects\\' hearts, what an undeserved doubt might we have incurred if the abusers of our liberality, the thrallers of our people, the wringers of the poor, had not been told us!\\n\\nThis same period of economic and political uncertainty, however, produced an unsurpassed literary flowering in England. The first signs of a new literary movement had appeared at the end of the second decade of Elizabeth\\'s reign, with John Lyly\\'s Euphues and Edmund Spenser\\'s The Shepheardes Calender in 1578. During the 1590s, some of the great names of English literature entered their maturity, including William Shakespeare and Christopher Marlowe. Continuing into the Jacobean era, the English theatre would reach its peak. The notion of a great Elizabethan era depends largely on the builders, dramatists, poets, and musicians who were active during Elizabeth\\'s reign. They owed little directly to the queen, who was never a major patron of the arts.\\nAs Elizabeth aged, her image gradually changed. She was portrayed as Belphoebe or Astraea, and after the Armada, as Gloriana, the eternally youthful Faerie Queene of Edmund Spenser\\'s poem. Elizabeth gave Edmund Spenser a pension; as this was unusual for her, it indicates that she liked his work. Her painted portraits became less realistic and more a set of enigmatic icons that made her look much younger than she was. In fact, her skin had been scarred by smallpox in 1562, leaving her half bald and dependent on wigs and cosmetics. Her love of sweets and fear of dentists contributed to severe tooth decay and loss to such an extent that foreign ambassadors had a hard time understanding her speech. André Hurault de Maisse, Ambassador Extraordinary from Henry IV of France, reported an audience with the queen, during which he noticed, \"her teeth are very yellow and unequal ... and on the left side less than on the right. Many of them are missing, so that one cannot understand her easily when she speaks quickly.\" Yet he added, \"her figure is fair and tall and graceful in whatever she does; so far as may be she keeps her dignity, yet humbly and graciously withal.\" Walter Raleigh called her \"a lady whom time had surprised\".\\n\\nThe more Elizabeth\\'s beauty faded, the more her courtiers praised it. Elizabeth was happy to play the part, but it is possible that in the last decade of her life she began to believe her own performance. She became fond and indulgent of the charming but petulant young Earl of Essex, who was Leicester\\'s stepson and took liberties with her for which she forgave him. She repeatedly appointed him to military posts despite his growing record of irresponsibility. After Essex\\'s desertion of his command in Ireland in 1599, Elizabeth had him placed under house arrest and the following year deprived him of his monopolies. In February 1601, Essex tried to raise a rebellion in London. He intended to seize the queen but few rallied to his support, and he was beheaded on 25 February. Elizabeth knew that her own misjudgements were partly to blame for this turn of events. An observer wrote in 1602: \"Her delight is to sit in the dark, and sometimes with shedding tears to bewail Essex.\"\\n\\nElizabeth\\'s senior adviser, Lord Burghley, died on 4 August 1598. His political mantle passed to his son Robert, who soon became the leader of the government. One task he addressed was to prepare the way for a smooth succession. Since Elizabeth would never name her successor, Robert Cecil was obliged to proceed in secret. He therefore entered into a coded negotiation with James VI of Scotland, who had a strong but unrecognised claim. Cecil coached the impatient James to humour Elizabeth and \"secure the heart of the highest, to whose sex and quality nothing is so improper as either needless expostulations or over much curiosity in her own actions\". The advice worked. James\\'s tone delighted Elizabeth, who responded: \"So trust I that you will not doubt but that your last letters are so acceptably taken as my thanks cannot be lacking for the same, but yield them to you in grateful sort\". In historian J. E. Neale\\'s view, Elizabeth may not have declared her wishes openly to James, but she made them known with \"unmistakable if veiled phrases\".\\n\\nThe queen\\'s health remained fair until the autumn of 1602, when a series of deaths among her friends plunged her into a severe depression. In February 1603, the death of Catherine Carey, Countess of Nottingham, the niece of her cousin and close friend Lady Knollys, came as a particular blow. In March, Elizabeth fell sick and remained in a \"settled and unremovable melancholy\", and sat motionless on a cushion for hours on end. When Robert Cecil told her that she must go to bed, she snapped: \"Must is not a word to use to princes, little man.\" She died on 24 March 1603 at Richmond Palace, between two and three in the morning. A few hours later, Cecil and the council set their plans in motion and proclaimed James King of England.\\nWhile it has become normative to record Elizabeth\\'s death as occurring in 1603, following English calendar reform in the 1750s, at the time England observed New Year\\'s Day on 25 March, commonly known as Lady Day. Thus Elizabeth died on the last day of the year 1602 in the old calendar. The modern convention is to use the old style calendar for the day and month while using the new style calendar for the year.\\n\\nElizabeth\\'s coffin was carried downriver at night to Whitehall, on a barge lit with torches. At her funeral on 28 April, the coffin was taken to Westminster Abbey on a hearse drawn by four horses hung with black velvet. In the words of the chronicler John Stow:\\n\\nWestminster was surcharged with multitudes of all sorts of people in their streets, houses, windows, leads and gutters, that came out to see the obsequy, and when they beheld her statue lying upon the coffin, there was such a general sighing, groaning and weeping as the like hath not been seen or known in the memory of man.\\n\\nElizabeth was interred in Westminster Abbey, in a tomb shared with her half-sister, Mary I. The Latin inscription on their tomb, \"Regno consortes & urna, hic obdormimus Elizabetha et Maria sorores, in spe resurrectionis\", translates to \"Consorts in realm and tomb, here we sleep, Elizabeth and Mary, sisters, in hope of resurrection\".\\n\\nElizabeth was lamented by many of her subjects, but others were relieved at her death. Expectations of King James started high but then declined. By the 1620s, there was a nostalgic revival of the cult of Elizabeth. Elizabeth was praised as a heroine of the Protestant cause and the ruler of a golden age. James was depicted as a Catholic sympathiser, presiding over a corrupt court. The triumphalist image that Elizabeth had cultivated towards the end of her reign, against a background of factionalism and military and economic difficulties, was taken at face value and her reputation inflated. Godfrey Goodman, Bishop of Gloucester, recalled: \"When we had experience of a Scottish government, the Queen did seem to revive. Then was her memory much magnified.\" Elizabeth\\'s reign became idealised as a time when crown, church and parliament had worked in constitutional balance.\\nThe picture of Elizabeth painted by her Protestant admirers of the early 17th century has proved lasting and influential. Her memory was also revived during the Napoleonic Wars, when the nation again found itself on the brink of invasion. In the Victorian era, the Elizabethan legend was adapted to the imperial ideology of the day, and in the mid-20th century, Elizabeth was a romantic symbol of the national resistance to foreign threat. Historians of that period, such as J. E. Neale (1934) and A. L. Rowse (1950), interpreted Elizabeth\\'s reign as a golden age of progress. Neale and Rowse also idealised the Queen personally: she always did everything right; her more unpleasant traits were ignored or explained as signs of stress.\\nRecent historians, however, have taken a more complicated view of Elizabeth. Her reign is famous for the defeat of the Armada, and for successful raids against the Spanish, such as those on Cádiz in 1587 and 1596, but some historians point to military failures on land and at sea. In Ireland, Elizabeth\\'s forces ultimately prevailed, but their tactics stain her record. Rather than as a brave defender of the Protestant nations against Spain and the Habsburgs, she is more often regarded as cautious in her foreign policies. She offered very limited aid to foreign Protestants and failed to provide her commanders with the funds to make a difference abroad.\\nElizabeth established an English church that helped shape a national identity and remains in place today. Those who praised her later as a Protestant heroine overlooked her refusal to drop all practices of Catholic origin from the Church of England. Historians note that in her day, strict Protestants regarded the Acts of Settlement and Uniformity of 1559 as a compromise. In fact, Elizabeth believed that faith was personal and did not wish, as Francis Bacon put it, to \"make windows into men\\'s hearts and secret thoughts\".\\nThough Elizabeth followed a largely defensive foreign policy, her reign raised England\\'s status abroad. \"She is only a woman, only mistress of half an island,\" marvelled Pope Sixtus V, \"and yet she makes herself feared by Spain, by France, by the Empire, by all\". Under Elizabeth, the nation gained a new self-confidence and sense of sovereignty, as Christendom fragmented. Elizabeth was the first Tudor to recognise that a monarch ruled by popular consent. She therefore always worked with parliament and advisers she could trust to tell her the truth—a style of government that her Stuart successors failed to follow. Some historians have called her lucky; she believed that God was protecting her. Priding herself on being \"mere English\", Elizabeth trusted in God, honest advice, and the love of her subjects for the success of her rule. In a prayer, she offered thanks to God that:\\n\\n[At a time] when wars and seditions with grievous persecutions have vexed almost all kings and countries round about me, my reign hath been peacable, and my realm a receptacle to thy afflicted Church. The love of my people hath appeared firm, and the devices of my enemies frustrate.\\n\\nAnti-Catholicism in the United Kingdom\\nEarly modern Britain\\nEnglish Renaissance\\nInventory of Elizabeth I\\nPortraiture of Elizabeth I\\nProtestant Reformation\\nRoyal Arms of England\\nRoyal eponyms in Canada for Queen Elizabeth I\\nRoyal Standards of England\\nTudor period\\n\\nElizabeth I at the official website of the British monarchy\\nElizabeth I at the official website of the Royal Collection Trust\\nPortraits of Queen Elizabeth I at the National Portrait Gallery, London \\nWorks by Elizabeth I at Project Gutenberg\\nWorks by or about Elizabeth I at Internet Archive\\nWorks by Elizabeth I at LibriVox (public domain audiobooks)', 'source': 'https://en.wikipedia.org/wiki/Elizabeth_I'}, page_content=' France and Spain. She half-heartedly supported a number of ineffective, poorly resourced military campaigns in the Netherlands, France, and Ireland. By the mid-1580s, England could no longer avoid war with Spain.\\nAs she grew older, Elizabeth became celebrated for her virginity. A cult of personality grew around her which was celebrated in the portraits, pageants, and literature of the day. Elizabeth\\'s reign became known as the Elizabethan era. The period is famous for the flourishing of English drama, led by playwrights such as William Shakespeare and Christopher Marlowe, the prowess of English maritime adventurers, such as Francis Drake and Walter Raleigh, and for the defeat of the Spanish Armada. Some historians depict Elizabeth as a short-tempered, sometimes indecisive ruler, who enjoyed more than her fair share of luck. Towards the end of her reign, a series of economic and military problems weakened her popularity. Elizabeth is acknowledged as a charismatic performer (\"Gloriana\") and a dogged survivor (\"Good Queen Bess\") in an era when government was ramshackle and limited, and when monarchs in neighbouring countries faced internal problems that jeopardised their thrones. After the short, disastrous reigns of her half-siblings, her 44 years on the throne provided welcome stability for the kingdom and helped to forge a sense of national identity.\\n\\nElizabeth was born at Greenwich Palace on 7 September 1533 and was named after her grandmothers, Elizabeth of York and Lady Elizabeth Howard. She was the second child of Henry VIII of England born in wedlock to survive infancy. Her mother was Henry\\'s second wife, Anne Boleyn. At birth,')),\n",
              " GraphDocument(nodes=[Node(id='Queen Elizabeth I', type='Person'), Node(id='Henry Viii', type='Person'), Node(id='Nicholas Hilliard', type='Person'), Node(id='George Gower', type='Person'), Node(id='Cornelis Ketel', type='Person'), Node(id='Federico Zuccaro Or Zuccari', type='Person'), Node(id='Isaac Oliver', type='Person'), Node(id='Marcus Gheeraerts The Younger', type='Person')], relationships=[Relationship(source=Node(id='Queen Elizabeth I', type='Person'), target=Node(id='Henry Viii', type='Person'), type='FATHER'), Relationship(source=Node(id='Queen Elizabeth I', type='Person'), target=Node(id='Nicholas Hilliard', type='Person'), type='OFFICIAL_LIMNER'), Relationship(source=Node(id='Queen Elizabeth I', type='Person'), target=Node(id='George Gower', type='Person'), type='SERJEANT_PAINTER')], source=Document(metadata={'title': 'Portraiture of Elizabeth I', 'summary': 'The portraiture of Queen Elizabeth I (1533–1603) spans the evolution of English royal portraits in the early modern period (1400/1500-1800), from the earliest representations of simple likenesses to the later complex imagery used to convey the power and aspirations of the state, as well as of the monarch at its head.\\nEven the earliest portraits of Elizabeth I contain symbolic objects such as roses and prayer books that would have carried meaning to viewers of her day. Later portraits of Elizabeth layer the iconography of empire—globes, crowns, swords and columns—and representations of virginity and purity, such as moons and pearls, with classical allusions, to present a complex \"story\" that conveyed to Elizabethan era viewers the majesty and significance of the \\'Virgin Queen\\'.', 'source': 'https://en.wikipedia.org/wiki/Portraiture_of_Elizabeth_I'}, page_content='The portraiture of Queen Elizabeth I (1533–1603) spans the evolution of English royal portraits in the early modern period (1400/1500-1800), from the earliest representations of simple likenesses to the later complex imagery used to convey the power and aspirations of the state, as well as of the monarch at its head.\\nEven the earliest portraits of Elizabeth I contain symbolic objects such as roses and prayer books that would have carried meaning to viewers of her day. Later portraits of Elizabeth layer the iconography of empire—globes, crowns, swords and columns—and representations of virginity and purity, such as moons and pearls, with classical allusions, to present a complex \"story\" that conveyed to Elizabethan era viewers the majesty and significance of the \\'Virgin Queen\\'.\\n\\nTwo portraiture traditions had arisen in the Tudor court since the days of Elizabeth\\'s father, Henry VIII. The portrait miniature developed from the illuminated manuscript tradition. These small personal images were almost invariably painted from life over the space of a few days in watercolours on vellum, stiffened by being glued to a playing card. Panel paintings in oils on prepared wood surfaces were based on preparatory drawings and were usually executed at life size, as were oil paintings on canvas.\\nUnlike her contemporaries in France, Elizabeth never granted rights to produce her portrait to a single artist, although Nicholas Hilliard was appointed her official limner, or miniaturist and goldsmith. George Gower, a fashionable court portraitist created Serjeant Painter in 1581, was responsible for approving all portraits of the queen created by other artists from 1581 until his death in 1596.\\nElizabeth sat for a number of artists over the years, including Hilliard, Cornelis Ketel, Federico Zuccaro or Zuccari, Isaac Oliver, and most likely to Gower and Marcus Gheeraerts the Younger. Portraits were commissioned by the government as gifts to foreign monarchs and to show to prospective suitors. Courtiers commissioned heavily symbolic paintings to demonstrate their devotion to the queen, and the fashionable long galleries of later Elizabethan country houses were filled with sets of portraits. The studios of Tudor artists produced images of Elizabeth working from approved \"face patterns\", or approved drawings of the queen, to meet this growing demand for her image, an important symbol of loyalty and reverence for the crown in times of turbulence.\\n\\nBy far the most impressive models of portraiture available to English portraitists were the')),\n",
              " GraphDocument(nodes=[Node(id='Hans Holbein The Younger', type='Person'), Node(id='Henry Viii', type='Person'), Node(id='Elizabeth', type='Person'), Node(id='Titian', type='Person'), Node(id='Philip Ii Of Spain', type='Person'), Node(id='Jane Seymour', type='Person')], relationships=[Relationship(source=Node(id='Hans Holbein The Younger', type='Person'), target=Node(id='Henry Viii', type='Person'), type='COURT_ARTIST'), Relationship(source=Node(id='Hans Holbein The Younger', type='Person'), target=Node(id='England', type='Location'), type='VISITED'), Relationship(source=Node(id='Titian', type='Person'), target=Node(id='Philip Ii Of Spain', type='Person'), type='PAINTED')], source=Document(metadata={'title': 'Portraiture of Elizabeth I', 'summary': 'The portraiture of Queen Elizabeth I (1533–1603) spans the evolution of English royal portraits in the early modern period (1400/1500-1800), from the earliest representations of simple likenesses to the later complex imagery used to convey the power and aspirations of the state, as well as of the monarch at its head.\\nEven the earliest portraits of Elizabeth I contain symbolic objects such as roses and prayer books that would have carried meaning to viewers of her day. Later portraits of Elizabeth layer the iconography of empire—globes, crowns, swords and columns—and representations of virginity and purity, such as moons and pearls, with classical allusions, to present a complex \"story\" that conveyed to Elizabethan era viewers the majesty and significance of the \\'Virgin Queen\\'.', 'source': 'https://en.wikipedia.org/wiki/Portraiture_of_Elizabeth_I'}, page_content=' in times of turbulence.\\n\\nBy far the most impressive models of portraiture available to English portraitists were the many portraits by Hans Holbein the Younger, the outstanding Northern portraitist of the first half of the 16th century, who had made two lengthy visits to England, and had been Henry VIII\\'s court artist. Holbein had accustomed the English court to the full-length life-size portrait, although none of his originals now survive. His great dynastic mural at Whitehall Palace, destroyed in 1698, and perhaps other original large portraits, would have been familiar to Elizabethan artists.\\nBoth Holbein and his great Italian contemporary Titian had combined great psychological penetration with a sufficiently majestic impression to satisfy their royal patrons. By his second visit, Holbein had already begun to move away from a strictly realist depiction; in his Jane Seymour, \"the figure is no longer seen as displacing with its bulk a recognizable section of space: it approaches rather to a flat pattern, made alive by a bounding and vital outline\". This tendency was to be taken much further by the later portraits of Elizabeth, where \"Likeness of feature and an interest in form and volume have gradually been abandoned in favour of an effect of splendid majesty obtained by decorative pattern, and the forms have been flattened accordingly\".\\n\\nTitian continued to paint royal portraits, especially of Philip II of Spain, until the 1570s, but in sharply reduced numbers after about 1555, and he refused to travel from Venice to do them. The fu')),\n",
              " GraphDocument(nodes=[Node(id='Elizabeth', type='Person'), Node(id='Peter The Great', type='Person'), Node(id='Catherine I Of Russia', type='Person'), Node(id='Alexei', type='Person'), Node(id='Peter Ii', type='Person'), Node(id='Anna', type='Person'), Node(id='Ivan Vi', type='Person'), Node(id='Peter Iii', type='Person'), Node(id='Mikhail Lomonosov', type='Person'), Node(id='Ivan Shuvalov', type='Person'), Node(id='Bartolomeo Rastrelli', type='Person'), Node(id='Aleksey Bestuzhev-Ryumin', type='Person'), Node(id='Frederick The Great', type='Person')], relationships=[Relationship(source=Node(id='Elizabeth', type='Person'), target=Node(id='Peter The Great', type='Person'), type='DAUGHTER'), Relationship(source=Node(id='Elizabeth', type='Person'), target=Node(id='Catherine I Of Russia', type='Person'), type='DAUGHTER'), Relationship(source=Node(id='Elizabeth', type='Person'), target=Node(id='Alexei', type='Person'), type='SISTER'), Relationship(source=Node(id='Elizabeth', type='Person'), target=Node(id='Peter Ii', type='Person'), type='COUSIN'), Relationship(source=Node(id='Elizabeth', type='Person'), target=Node(id='Anna', type='Person'), type='COUSIN'), Relationship(source=Node(id='Elizabeth', type='Person'), target=Node(id='Ivan Vi', type='Person'), type='NEPHEW'), Relationship(source=Node(id='Elizabeth', type='Person'), target=Node(id='Peter Iii', type='Person'), type='NEPHEW'), Relationship(source=Node(id='Elizabeth', type='Person'), target=Node(id='Mikhail Lomonosov', type='Person'), type='PATRON'), Relationship(source=Node(id='Elizabeth', type='Person'), target=Node(id='Ivan Shuvalov', type='Person'), type='PATRON'), Relationship(source=Node(id='Elizabeth', type='Person'), target=Node(id='Bartolomeo Rastrelli', type='Person'), type='PATRON'), Relationship(source=Node(id='Elizabeth', type='Person'), target=Node(id='Aleksey Bestuzhev-Ryumin', type='Person'), type='DIPLOMAT'), Relationship(source=Node(id='Elizabeth', type='Person'), target=Node(id='Frederick The Great', type='Person'), type='ENEMY')], source=Document(metadata={'title': 'Elizabeth of Russia', 'summary': \"Elizabeth or Elizaveta Petrovna (Russian: Елизаве́та Петро́вна; 29 December [O.S. 18 December] 1709 – 5 January [O.S. 25 December] 1762) was Empress of Russia from 1741 until her death in 1762. She remains one of the most popular Russian monarchs because of her decision not to execute a single person during her reign, her numerous construction projects, and her strong opposition to Prussian policies.\\nThe second-eldest daughter of Tsar Peter the Great (r.\\u20091682–1725), Elizabeth lived through the confused successions of her father's descendants following her half-brother Alexei's death in 1718. The throne first passed to her mother Catherine I of Russia (r.\\u20091725–1727), then to her nephew Peter II, who died in 1730 and was succeeded by Elizabeth's first cousin Anna (r.\\u20091730–1740). After the brief rule of Anna's infant great-nephew, Ivan VI, Elizabeth seized the throne with the military's support and declared her own nephew, the future Peter III, her heir.\\nDuring her reign Elizabeth continued the policies of her father and brought about a remarkable Age of Enlightenment in Russia. Her domestic policies allowed the nobles to gain dominance in local government while shortening their terms of service to the state. She encouraged Mikhail Lomonosov's foundation of the University of Moscow, the highest-ranking Russian educational institution. Her court became one of the most splendid in all Europe, especially regarding architecture: she modernised Russia's roads, encouraged Ivan Shuvalov's foundation of the Imperial Academy of Arts, and financed grandiose Baroque projects of her favourite architect, Bartolomeo Rastrelli, particularly in Peterhof Palace. The Winter Palace and the Smolny Cathedral in Saint Petersburg are among the chief monuments of her reign.\\nElizabeth led the Russian Empire during the two major European conflicts of her time: the War of Austrian Succession (1740–1748) and the Seven Years' War (1756–1763). She and diplomat Aleksey Bestuzhev-Ryumin solved the first event by forming an alliance with Austria and France, but indirectly caused the second. Russian troops enjoyed several victories against Prussia and briefly occupied Berlin, but when Frederick the Great was finally considering surrender in January 1762, the Russian Empress died. She was the last agnatic member of the House of Romanov to reign over the Russian Empire.\", 'source': 'https://en.wikipedia.org/wiki/Elizabeth_of_Russia'}, page_content=\"Elizabeth or Elizaveta Petrovna (Russian: Елизаве́та Петро́вна; 29 December [O.S. 18 December] 1709 – 5 January [O.S. 25 December] 1762) was Empress of Russia from 1741 until her death in 1762. She remains one of the most popular Russian monarchs because of her decision not to execute a single person during her reign, her numerous construction projects, and her strong opposition to Prussian policies.\\nThe second-eldest daughter of Tsar Peter the Great (r.\\u20091682–1725), Elizabeth lived through the confused successions of her father's descendants following her half-brother Alexei's death in 1718. The throne first passed to her mother Catherine I of Russia (r.\\u20091725–1727), then to her nephew Peter II, who died in 1730 and was succeeded by Elizabeth's first cousin Anna (r.\\u20091730–1740). After the brief rule of Anna's infant great-nephew, Ivan VI, Elizabeth seized the throne with the military's support and declared her own nephew, the future Peter III, her heir.\\nDuring her reign Elizabeth continued the policies of her father and brought about a remarkable Age of Enlightenment in Russia. Her domestic policies allowed the nobles to gain dominance in local government while shortening their terms of service to the state. She encouraged Mikhail Lomonosov's foundation of the University of Moscow, the highest-ranking Russian educational institution. Her court became one of the most splendid in all Europe, especially regarding architecture: she modernised Russia's roads, encouraged Ivan Shuvalov's foundation of the Imperial Academy of Arts, and financed grandiose Baroque projects of her favourite architect, Bartolomeo Rastrelli, particularly in Peterhof Palace. The Winter Palace and the Smolny Cathedral in Saint Petersburg are among the chief monuments of her reign.\\nElizabeth led the Russian Empire during the two major European conflicts of her time: the War of Austrian Succession (1740–1748) and the Seven Years' War (1756–1763). She and diplomat Aleksey Bestuzhev-Ryumin solved the first event by forming an alliance with Austria and France, but indirectly caused the second. Russian troops enjoyed several victories against Prussia and briefly occupied Berlin, but when Frederick the Great was finally considering surrender in January\")),\n",
              " GraphDocument(nodes=[Node(id='Elizabeth', type='Person'), Node(id='Peter The Great', type='Person'), Node(id='Catherine', type='Person'), Node(id='Samuel Skowroński', type='Person'), Node(id='Anna', type='Person'), Node(id='Alexei Petrovich', type='Person'), Node(id='Eudoxia Lopukhina', type='Person')], relationships=[Relationship(source=Node(id='Elizabeth', type='Person'), target=Node(id='Peter The Great', type='Person'), type='DAUGHTER'), Relationship(source=Node(id='Elizabeth', type='Person'), target=Node(id='Catherine', type='Person'), type='DAUGHTER'), Relationship(source=Node(id='Catherine', type='Person'), target=Node(id='Samuel Skowroński', type='Person'), type='DAUGHTER'), Relationship(source=Node(id='Anna', type='Person'), target=Node(id='Peter The Great', type='Person'), type='DAUGHTER'), Relationship(source=Node(id='Alexei Petrovich', type='Person'), target=Node(id='Peter The Great', type='Person'), type='SON'), Relationship(source=Node(id='Eudoxia Lopukhina', type='Person'), target=Node(id='Peter The Great', type='Person'), type='WIFE')], source=Document(metadata={'title': 'Elizabeth of Russia', 'summary': \"Elizabeth or Elizaveta Petrovna (Russian: Елизаве́та Петро́вна; 29 December [O.S. 18 December] 1709 – 5 January [O.S. 25 December] 1762) was Empress of Russia from 1741 until her death in 1762. She remains one of the most popular Russian monarchs because of her decision not to execute a single person during her reign, her numerous construction projects, and her strong opposition to Prussian policies.\\nThe second-eldest daughter of Tsar Peter the Great (r.\\u20091682–1725), Elizabeth lived through the confused successions of her father's descendants following her half-brother Alexei's death in 1718. The throne first passed to her mother Catherine I of Russia (r.\\u20091725–1727), then to her nephew Peter II, who died in 1730 and was succeeded by Elizabeth's first cousin Anna (r.\\u20091730–1740). After the brief rule of Anna's infant great-nephew, Ivan VI, Elizabeth seized the throne with the military's support and declared her own nephew, the future Peter III, her heir.\\nDuring her reign Elizabeth continued the policies of her father and brought about a remarkable Age of Enlightenment in Russia. Her domestic policies allowed the nobles to gain dominance in local government while shortening their terms of service to the state. She encouraged Mikhail Lomonosov's foundation of the University of Moscow, the highest-ranking Russian educational institution. Her court became one of the most splendid in all Europe, especially regarding architecture: she modernised Russia's roads, encouraged Ivan Shuvalov's foundation of the Imperial Academy of Arts, and financed grandiose Baroque projects of her favourite architect, Bartolomeo Rastrelli, particularly in Peterhof Palace. The Winter Palace and the Smolny Cathedral in Saint Petersburg are among the chief monuments of her reign.\\nElizabeth led the Russian Empire during the two major European conflicts of her time: the War of Austrian Succession (1740–1748) and the Seven Years' War (1756–1763). She and diplomat Aleksey Bestuzhev-Ryumin solved the first event by forming an alliance with Austria and France, but indirectly caused the second. Russian troops enjoyed several victories against Prussia and briefly occupied Berlin, but when Frederick the Great was finally considering surrender in January 1762, the Russian Empress died. She was the last agnatic member of the House of Romanov to reign over the Russian Empire.\", 'source': 'https://en.wikipedia.org/wiki/Elizabeth_of_Russia'}, page_content=' Russian troops enjoyed several victories against Prussia and briefly occupied Berlin, but when Frederick the Great was finally considering surrender in January 1762, the Russian Empress died. She was the last agnatic member of the House of Romanov to reign over the Russian Empire.\\n\\nElizabeth was born at Kolomenskoye, near Moscow, Russia, on 18 December 1709 (O.S.). Her parents were Peter the Great, Tsar of Russia and Catherine. Catherine was the daughter of Samuel Skowroński, a subject of Grand Duchy of Lithuania. Although no documentary record exists, her parents were said to have married secretly at the Cathedral of the Holy Trinity in Saint Petersburg at some point between 23 October and 1 December 1707. Their official marriage was at Saint Isaac\\'s Cathedral in Saint Petersburg on 9 February 1712. On this day, the two children previously born to the couple (Anna and Elizabeth) were legitimised by their father and given the title of Tsarevna (\"princess\") on 6 March 1711. Of the twelve children born to Peter and Catherine (five sons and seven daughters), only the sisters survived to adulthood. They had one older surviving sibling, crown prince Alexei Petrovich, who was Peter\\'s son by his first wife, noblewoman Eudoxia Lopukhina.\\nAs a child, Elizabeth was the favourite of her father, whom she resembled both physically and temperamentally. Even though he adored his daughter, Peter did not devote time or attention to her education; having both a son and grandson from his first marriage to a noblewoman, he did not anticipate that a daughter born to his former maid might one day inherit the Russian throne, which had until that point never been occupied by a woman; as such, it was left to Catherine to raise the girls, a task met with considerable difficulty due to her own lack of education. Despite this, Elizabeth was still considered to be a bright girl, if not brilliant, and had'))]"
            ]
          },
          "metadata": {},
          "execution_count": 40
        }
      ]
    },
    {
      "cell_type": "code",
      "source": [
        "graph.add_graph_documents(\n",
        "    graph_documents,\n",
        "    baseEntityLabel=True,\n",
        "    include_source=True\n",
        ")"
      ],
      "metadata": {
        "id": "pgsClMCCGqKr"
      },
      "execution_count": 41,
      "outputs": []
    },
    {
      "cell_type": "code",
      "source": [
        "# directly show the graph resulting from the given Cypher query\n",
        "default_cypher = \"MATCH (s)-[r:!MENTIONS]->(t) RETURN s,r,t LIMIT 50\""
      ],
      "metadata": {
        "id": "nLRChujQGqNC"
      },
      "execution_count": 42,
      "outputs": []
    },
    {
      "cell_type": "code",
      "source": [
        "from yfiles_jupyter_graphs import GraphWidget\n",
        "from neo4j import GraphDatabase"
      ],
      "metadata": {
        "id": "d-uaZUDxGqPl"
      },
      "execution_count": 43,
      "outputs": []
    },
    {
      "cell_type": "code",
      "source": [
        "try:\n",
        "  import google.colab\n",
        "  from google.colab import output\n",
        "  output.enable_custom_widget_manager()\n",
        "except:\n",
        "  pass"
      ],
      "metadata": {
        "id": "wj7OgQRxGqRq"
      },
      "execution_count": 44,
      "outputs": []
    },
    {
      "cell_type": "code",
      "source": [
        "def showGraph(cypher: str = default_cypher):\n",
        "    # create a neo4j session to run queries\n",
        "    driver = GraphDatabase.driver(\n",
        "        uri = os.environ[\"NEO4J_URI\"],\n",
        "        auth = (os.environ[\"NEO4J_USERNAME\"],\n",
        "                os.environ[\"NEO4J_PASSWORD\"]))\n",
        "    session = driver.session()\n",
        "    widget = GraphWidget(graph = session.run(cypher).graph())\n",
        "    widget.node_label_mapping = 'id'\n",
        "    display(widget)\n",
        "    return widget"
      ],
      "metadata": {
        "id": "-J8NC3WpGqUa"
      },
      "execution_count": 45,
      "outputs": []
    },
    {
      "cell_type": "code",
      "source": [
        "showGraph()"
      ],
      "metadata": {
        "colab": {
          "base_uri": "https://localhost:8080/",
          "height": 1000,
          "referenced_widgets": [
            "b2eccf7283cf42378d1ee76b33c2a325",
            "f2515747254948daa45d064a909f98c2",
            "4100e8a6aed7453d920884ddd09e9965"
          ]
        },
        "id": "UNdNWCIdG3MN",
        "outputId": "5bb5d39b-1121-4458-8d7b-c32fad168f4b"
      },
      "execution_count": 46,
      "outputs": [
        {
          "output_type": "display_data",
          "data": {
            "text/plain": [
              "GraphWidget(layout=Layout(height='800px', width='100%'))"
            ],
            "application/vnd.jupyter.widget-view+json": {
              "version_major": 2,
              "version_minor": 0,
              "model_id": "b2eccf7283cf42378d1ee76b33c2a325"
            }
          },
          "metadata": {
            "application/vnd.jupyter.widget-view+json": {
              "colab": {
                "custom_widget_manager": {
                  "url": "https://ssl.gstatic.com/colaboratory-static/widgets/colab-cdn-widget-manager/2b70e893a8ba7c0f/manager.min.js"
                }
              }
            }
          }
        },
        {
          "output_type": "display_data",
          "data": {
            "text/plain": [
              "GraphWidget(layout=Layout(height='800px', width='100%'))"
            ],
            "application/vnd.jupyter.widget-view+json": {
              "version_major": 2,
              "version_minor": 0,
              "model_id": "b2eccf7283cf42378d1ee76b33c2a325"
            }
          },
          "metadata": {
            "application/vnd.jupyter.widget-view+json": {
              "colab": {
                "custom_widget_manager": {
                  "url": "https://ssl.gstatic.com/colaboratory-static/widgets/colab-cdn-widget-manager/2b70e893a8ba7c0f/manager.min.js"
                }
              }
            }
          }
        }
      ]
    },
    {
      "cell_type": "code",
      "source": [
        "from typing import Tuple, List, Optional"
      ],
      "metadata": {
        "id": "oEjQIBaSG3PA"
      },
      "execution_count": 47,
      "outputs": []
    },
    {
      "cell_type": "code",
      "source": [
        "from langchain_community.vectorstores import Neo4jVector"
      ],
      "metadata": {
        "id": "8j0-P0LeG3Rg"
      },
      "execution_count": 48,
      "outputs": []
    },
    {
      "cell_type": "code",
      "source": [
        "from langchain_openai import OpenAIEmbeddings\n",
        "vector_index = Neo4jVector.from_existing_graph(\n",
        "    OpenAIEmbeddings(),\n",
        "    search_type=\"hybrid\",\n",
        "    node_label=\"Document\",\n",
        "    text_node_properties=[\"text\"],\n",
        "    embedding_node_property=\"embedding\"\n",
        ")"
      ],
      "metadata": {
        "id": "gwpL73NyG3T2"
      },
      "execution_count": 49,
      "outputs": []
    },
    {
      "cell_type": "code",
      "source": [
        "OpenAIEmbeddings()"
      ],
      "metadata": {
        "colab": {
          "base_uri": "https://localhost:8080/"
        },
        "id": "hwPgzZhjbBWt",
        "outputId": "35a62e99-bfb1-4a75-adb4-a28fcae05c74"
      },
      "execution_count": 80,
      "outputs": [
        {
          "output_type": "execute_result",
          "data": {
            "text/plain": [
              "OpenAIEmbeddings(client=<openai.resources.embeddings.Embeddings object at 0x7d36c0f3df30>, async_client=<openai.resources.embeddings.AsyncEmbeddings object at 0x7d36c0fc3190>, model='text-embedding-ada-002', dimensions=None, deployment='text-embedding-ada-002', openai_api_version='', openai_api_base=None, openai_api_type='', openai_proxy='', embedding_ctx_length=8191, openai_api_key=SecretStr('**********'), openai_organization=None, allowed_special=None, disallowed_special=None, chunk_size=1000, max_retries=2, request_timeout=None, headers=None, tiktoken_enabled=True, tiktoken_model_name=None, show_progress_bar=False, model_kwargs={}, skip_empty=False, default_headers=None, default_query=None, retry_min_seconds=4, retry_max_seconds=20, http_client=None, http_async_client=None, check_embedding_ctx_length=True)"
            ]
          },
          "metadata": {},
          "execution_count": 80
        }
      ]
    },
    {
      "cell_type": "markdown",
      "source": [
        "Using an embedding model trained or fine-tuned for the same domain as the LLM can significantly improve a RAG system. However, finding or training such an embedding model is often a difficult task as in-domain data are usually scarce."
      ],
      "metadata": {
        "id": "IIBKtEYtbX7P"
      }
    },
    {
      "cell_type": "markdown",
      "source": [
        "how to turn an LLM into a text embedding model using LLM2Vec. We will see how to do it with Llama 3 to create a RAG system that doesn’t need any other models than Llama 3.\n",
        "\n",
        "### https://kaitchup.substack.com/p/turn-llama-3-into-an-embedding-model"
      ],
      "metadata": {
        "id": "Y6f8EI8SbhMq"
      }
    },
    {
      "cell_type": "code",
      "source": [
        "graph.query(\"CREATE FULLTEXT INDEX entity IF NOT EXISTS FOR (e:__Entity__) ON EACH [e.id]\")"
      ],
      "metadata": {
        "colab": {
          "base_uri": "https://localhost:8080/"
        },
        "id": "9pSkh0mBG3Wa",
        "outputId": "549720f0-5745-4692-fd95-f6b14e2bc3c8"
      },
      "execution_count": 81,
      "outputs": [
        {
          "output_type": "execute_result",
          "data": {
            "text/plain": [
              "[]"
            ]
          },
          "metadata": {},
          "execution_count": 81
        }
      ]
    },
    {
      "cell_type": "code",
      "source": [
        "from langchain_core.pydantic_v1 import BaseModel, Field\n",
        "# Extract entities from text\n",
        "class Entities(BaseModel):\n",
        "    \"\"\"Identifying information about entities.\"\"\"\n",
        "\n",
        "    names: List[str] = Field(\n",
        "        ...,\n",
        "        description=\"All the person, organization, or business entities that \"\n",
        "        \"appear in the text\",\n",
        "    )"
      ],
      "metadata": {
        "id": "LpWxunNmG3Yv"
      },
      "execution_count": 51,
      "outputs": []
    },
    {
      "cell_type": "code",
      "source": [
        "from langchain_core.prompts import ChatPromptTemplate\n",
        "from langchain_core.prompts.prompt import PromptTemplate"
      ],
      "metadata": {
        "id": "VW008sA2G3bf"
      },
      "execution_count": 52,
      "outputs": []
    },
    {
      "cell_type": "code",
      "source": [
        "prompt = ChatPromptTemplate.from_messages(\n",
        "    [\n",
        "        (\n",
        "            \"system\",\n",
        "            \"You are extracting organization and person entities from the text.\",\n",
        "        ),\n",
        "        (\n",
        "            \"human\",\n",
        "            \"Use the given format to extract information from the following \"\n",
        "            \"input: {question}\",\n",
        "        ),\n",
        "    ]\n",
        ")"
      ],
      "metadata": {
        "id": "MBBEc4GcHH6V"
      },
      "execution_count": 53,
      "outputs": []
    },
    {
      "cell_type": "code",
      "source": [
        "entity_chain = prompt | llm.with_structured_output(Entities)"
      ],
      "metadata": {
        "id": "JvPsGzekHH87"
      },
      "execution_count": 56,
      "outputs": []
    },
    {
      "cell_type": "code",
      "source": [
        "entity_chain.invoke({\"question\": \"Where was Amelia Earhart born?\"}).names"
      ],
      "metadata": {
        "colab": {
          "base_uri": "https://localhost:8080/"
        },
        "id": "InIvuCHCHIAh",
        "outputId": "6a3ed2c4-b13a-4a4f-c577-07420949c6e1"
      },
      "execution_count": 57,
      "outputs": [
        {
          "output_type": "execute_result",
          "data": {
            "text/plain": [
              "['Amelia Earhart']"
            ]
          },
          "metadata": {},
          "execution_count": 57
        }
      ]
    },
    {
      "cell_type": "code",
      "source": [
        "from langchain_community.vectorstores.neo4j_vector import remove_lucene_chars"
      ],
      "metadata": {
        "id": "cayhk_EDHUEA"
      },
      "execution_count": 58,
      "outputs": []
    },
    {
      "cell_type": "code",
      "source": [
        "def generate_full_text_query(input: str) -> str:\n",
        "    full_text_query = \"\"\n",
        "    words = [el for el in remove_lucene_chars(input).split() if el]\n",
        "    for word in words[:-1]:\n",
        "        full_text_query += f\" {word}~2 AND\"\n",
        "    full_text_query += f\" {words[-1]}~2\"\n",
        "    return full_text_query.strip()"
      ],
      "metadata": {
        "id": "vBRb2uQHHUGl"
      },
      "execution_count": 59,
      "outputs": []
    },
    {
      "cell_type": "code",
      "source": [
        "# Fulltext index query\n",
        "def structured_retriever(question: str) -> str:\n",
        "    result = \"\"\n",
        "    entities = entity_chain.invoke({\"question\": question})\n",
        "    for entity in entities.names:\n",
        "        response = graph.query(\n",
        "            \"\"\"CALL db.index.fulltext.queryNodes('entity', $query, {limit:2})\n",
        "            YIELD node,score\n",
        "            CALL {\n",
        "              WITH node\n",
        "              MATCH (node)-[r:!MENTIONS]->(neighbor)\n",
        "              RETURN node.id + ' - ' + type(r) + ' -> ' + neighbor.id AS output\n",
        "              UNION ALL\n",
        "              WITH node\n",
        "              MATCH (node)<-[r:!MENTIONS]-(neighbor)\n",
        "              RETURN neighbor.id + ' - ' + type(r) + ' -> ' +  node.id AS output\n",
        "            }\n",
        "            RETURN output LIMIT 50\n",
        "            \"\"\",\n",
        "            {\"query\": generate_full_text_query(entity)},\n",
        "        )\n",
        "        result += \"\\n\".join([el['output'] for el in response])\n",
        "    return result"
      ],
      "metadata": {
        "id": "DklnCSeyHUKC"
      },
      "execution_count": 60,
      "outputs": []
    },
    {
      "cell_type": "code",
      "source": [
        "print(structured_retriever(\"Who is Elizabeth I?\"))"
      ],
      "metadata": {
        "colab": {
          "base_uri": "https://localhost:8080/"
        },
        "id": "eaaN-nLaHeuC",
        "outputId": "c87f5e8e-706a-4265-f369-942cf9e43039"
      },
      "execution_count": 61,
      "outputs": [
        {
          "output_type": "stream",
          "name": "stdout",
          "text": [
            "Elizabeth I - PARENT -> Henry Viii\n",
            "Elizabeth I - PARENT -> Anne Boleyn\n",
            "Elizabeth I - MONARCH -> England\n",
            "Elizabeth I - MONARCH -> Ireland\n",
            "William Cecil - ADVISER -> Elizabeth I\n",
            "Sir Francis Walsingham - MINISTER -> Elizabeth I\n",
            "Queen Elizabeth I - FATHER -> Henry Viii\n",
            "Queen Elizabeth I - OFFICIAL_LIMNER -> Nicholas Hilliard\n",
            "Queen Elizabeth I - SERJEANT_PAINTER -> George Gower\n"
          ]
        }
      ]
    },
    {
      "cell_type": "code",
      "source": [
        "def retriever(question: str):\n",
        "    print(f\"Search query: {question}\")\n",
        "    structured_data = structured_retriever(question)\n",
        "    unstructured_data = [el.page_content for el in vector_index.similarity_search(question)]\n",
        "    final_data = f\"\"\"Structured data:\n",
        "{structured_data}\n",
        "Unstructured data:\n",
        "{\"#Document \". join(unstructured_data)}\n",
        "    \"\"\"\n",
        "    return final_data"
      ],
      "metadata": {
        "id": "lubYyaAiHewX"
      },
      "execution_count": 62,
      "outputs": []
    },
    {
      "cell_type": "code",
      "source": [
        "_template = \"\"\"Given the following conversation and a follow up question, rephrase the follow up question to be a standalone question,\n",
        "in its original language.\n",
        "Chat History:\n",
        "{chat_history}\n",
        "Follow Up Input: {question}\n",
        "Standalone question:\"\"\""
      ],
      "metadata": {
        "id": "xSsgBWUUHeyy"
      },
      "execution_count": 63,
      "outputs": []
    },
    {
      "cell_type": "code",
      "source": [
        "CONDENSE_QUESTION_PROMPT = PromptTemplate.from_template(_template)"
      ],
      "metadata": {
        "id": "ESLYD4pOHe1a"
      },
      "execution_count": 64,
      "outputs": []
    },
    {
      "cell_type": "code",
      "source": [
        "def _format_chat_history(chat_history: List[Tuple[str, str]]) -> List:\n",
        "    buffer = []\n",
        "    for human, ai in chat_history:\n",
        "        buffer.append(HumanMessage(content=human))\n",
        "        buffer.append(AIMessage(content=ai))\n",
        "    return buffer"
      ],
      "metadata": {
        "id": "nhbYOIU1He40"
      },
      "execution_count": 65,
      "outputs": []
    },
    {
      "cell_type": "code",
      "source": [
        "_search_query = RunnableBranch(\n",
        "    # If input includes chat_history, we condense it with the follow-up question\n",
        "    (\n",
        "        RunnableLambda(lambda x: bool(x.get(\"chat_history\"))).with_config(\n",
        "            run_name=\"HasChatHistoryCheck\"\n",
        "        ),  # Condense follow-up question and chat into a standalone_question\n",
        "        RunnablePassthrough.assign(\n",
        "            chat_history=lambda x: _format_chat_history(x[\"chat_history\"])\n",
        "        )\n",
        "        | CONDENSE_QUESTION_PROMPT\n",
        "        | ChatGroq(temperature=0,model=\"llama3-70b-8192\",api_key=GROQ_API_KEY)\n",
        "        | StrOutputParser(),\n",
        "    ),\n",
        "    # Else, we have no chat history, so just pass through the question\n",
        "    RunnableLambda(lambda x : x[\"question\"]),\n",
        ")"
      ],
      "metadata": {
        "id": "_1zfMXE0HrJD"
      },
      "execution_count": 73,
      "outputs": []
    },
    {
      "cell_type": "code",
      "source": [
        "template = \"\"\"Answer the question based only on the following context:\n",
        "{context}\n",
        "\n",
        "Question: {question}\n",
        "Use natural language and be concise.\n",
        "Answer:\"\"\""
      ],
      "metadata": {
        "id": "oU03xRfWHrLr"
      },
      "execution_count": 74,
      "outputs": []
    },
    {
      "cell_type": "code",
      "source": [
        "prompt = ChatPromptTemplate.from_template(template)"
      ],
      "metadata": {
        "id": "J_uMVvPqHrOH"
      },
      "execution_count": 75,
      "outputs": []
    },
    {
      "cell_type": "code",
      "source": [
        "\n",
        "chain = (\n",
        "    RunnableParallel(\n",
        "        {\n",
        "            \"context\": _search_query | retriever,\n",
        "            \"question\": RunnablePassthrough(),\n",
        "        }\n",
        "    )\n",
        "    | prompt\n",
        "    | llm\n",
        "    | StrOutputParser()\n",
        ")"
      ],
      "metadata": {
        "id": "Mz4Zf_QYHrRl"
      },
      "execution_count": 76,
      "outputs": []
    },
    {
      "cell_type": "code",
      "source": [
        "chain.invoke({\"question\": \"Which house did Elizabeth I belong to?\"})"
      ],
      "metadata": {
        "colab": {
          "base_uri": "https://localhost:8080/",
          "height": 52
        },
        "id": "8sUwM4avH7XJ",
        "outputId": "1ee16587-def9-4116-e9ff-9f7a01d84bb6"
      },
      "execution_count": 77,
      "outputs": [
        {
          "output_type": "stream",
          "name": "stdout",
          "text": [
            "Search query: Which house did Elizabeth I belong to?\n"
          ]
        },
        {
          "output_type": "execute_result",
          "data": {
            "text/plain": [
              "'Elizabeth I belonged to the House of Tudor.'"
            ],
            "application/vnd.google.colaboratory.intrinsic+json": {
              "type": "string"
            }
          },
          "metadata": {},
          "execution_count": 77
        }
      ]
    },
    {
      "cell_type": "code",
      "source": [
        "\n",
        "chain.invoke(\n",
        "    {\n",
        "        \"question\": \"When was she born?\",\n",
        "        \"chat_history\": [(\"Which house did Elizabeth I belong to?\", \"House Of Tudor\")],\n",
        "    }\n",
        ")"
      ],
      "metadata": {
        "colab": {
          "base_uri": "https://localhost:8080/",
          "height": 52
        },
        "id": "W5MZ7rNVH7al",
        "outputId": "9c2a9b25-4f99-42b4-ca5b-d7980034de34"
      },
      "execution_count": 78,
      "outputs": [
        {
          "output_type": "stream",
          "name": "stdout",
          "text": [
            "Search query: When was Elizabeth I born?\n"
          ]
        },
        {
          "output_type": "execute_result",
          "data": {
            "text/plain": [
              "'Elizabeth I was born on September 7, 1533.'"
            ],
            "application/vnd.google.colaboratory.intrinsic+json": {
              "type": "string"
            }
          },
          "metadata": {},
          "execution_count": 78
        }
      ]
    },
    {
      "cell_type": "markdown",
      "source": [],
      "metadata": {
        "id": "6i6Mxcf3T1mo"
      }
    }
  ]
}